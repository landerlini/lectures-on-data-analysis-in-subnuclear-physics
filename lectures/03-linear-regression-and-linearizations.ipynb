{
  "nbformat": 4,
  "nbformat_minor": 0,
  "metadata": {
    "colab": {
      "provenance": []
    },
    "kernelspec": {
      "name": "python3",
      "display_name": "Python 3"
    },
    "language_info": {
      "name": "python"
    }
  },
  "cells": [
    {
      "cell_type": "markdown",
      "source": [
        "# Regressione lineare e linearizzazioni\n",
        "\n",
        "Il confine tra *machine-learning* ed analisi dei dati non è del tutto netto, e sul quel confine troviamo certamente la regressione lineare: un semplice metodo di modellizzazione parametrica di una funzione:\n",
        "$$\n",
        "f: \\mathbb R^N \\to \\mathbb R^M\n",
        "$$\n",
        "\n",
        "In generale si parla di *regressione* se dato un *set* di variabili $\\vec x = \\{x_1, x_2, ..., x_N\\}$ si cerca un algoritmo in grado di *inferire* o predire il valore di un *set* di variabili $\\vec y = \\{y_1, y_2, ..., y_M\\}$ dato un campione di esempi in cui $x$ e $y$ sono correttamente associati.\n",
        "\n",
        "La *regressione* diventa una *regressione lineare* se la funzione $f$ è, appunto, rappresentata come un'applicazione lineare. Quindi, se:\n",
        " * $\\vec x \\in \\mathbb R^N$\n",
        " * $\\vec y \\in \\mathbb R^M$\n",
        " * $\\mathbf A \\in \\mathcal M^{M \\times N}$\n",
        " * $\\vec b \\in \\mathbb R^M$\n",
        "allora, possiamo parametrizzare $f$ come:\n",
        "$$\n",
        "  \\vec y = \\mathbf A \\vec x + \\vec b\n",
        "$$\n",
        "\n",
        "L'obiettivo è determinare i valori di $\\mathbf A$ e $\\vec b$ che meglio approssimano un insieme di esempi $\\{(\\vec x_i, \\vec y_i)\\}_i$ detto campione di addestramento (o *training sample*).\n",
        "\n",
        "Senza perdere di generalità, possiamo ridefinire\n",
        "$$\n",
        "  \\vec x' = (1, x_1, x_2, ..., x_N) \\qquad \\mathit{et} \\qquad \\mathbf{\\Theta} =\n",
        "  \\left(\n",
        "    \\begin{array}{ccccc}\n",
        "    b_1 & a_{11} & a_{12} & \\cdots & a_{1N} \\\\\n",
        "    b_2 & a_{21} & a_{22} & \\vdots & a_{2N} \\\\\n",
        "    \\vdots & \\vdots & \\vdots & \\ddots & \\vdots \\\\\n",
        "    b_M & a_{M1} & a_{M2} & \\vdots & a_{MN} \\\\\n",
        "    \\end{array}\n",
        "  \\right)\n",
        "$$\n",
        "\n",
        "così che possiamo semplificare la scrittura in\n",
        "$$\n",
        "\\boxed{\n",
        "\\vec y = \\mathbf{\\Theta} \\vec x'\n",
        "}\n",
        "$$\n",
        "\n",
        "\n",
        "Nonostante il limitato potere predittivo, il modello di *regressione lineare* è di grande importanza per diverse ragioni, tra le quali:\n",
        " * è un modello **parametrico** in cui i parametri possono assumere un significato fisico;\n",
        " * permette di **interpretare** i risultati (è un modello \"*white box*\");\n",
        " * ammette una soluzione analitica;\n",
        " * permette di propagare gli errori sulle predizioni in modo semplice;\n",
        " * dal punto di vista didattico, consente di introdurre molti degli aspetti degli aspetti comuni ai problemi di regressione affrontati con algoritmi più complessi."
      ],
      "metadata": {
        "id": "69oHHyPm7NkC"
      }
    },
    {
      "cell_type": "markdown",
      "source": [
        "## Dal principio di massima verosimiglianza al metodo dei minimi quadrati\n",
        "\n",
        "A prescindere dalla forma scelta per la funzione $f$, possiamo scrivere che la distribuzione di probabilità delle variabili $\\vec y$ secondo un certo modello $f$ che agisce sulle variabili $\\vec x$ ed è determinato da parametri $\\vec \\theta$ è\n",
        "$$\n",
        "p (\\vec y\\ |\\  f (\\vec x\\ |\\\n",
        "\\vec \\theta))\n",
        "$$\n",
        "\n",
        "Posso allora scrivere la funzione verosimiglianza per il mio campione di *addestramento* come\n",
        "$$\n",
        "\\mathcal L = \\prod_i p (\\vec y_i\\ |\\ f(\\vec x_i\\ |\\ \\vec \\theta))\n",
        "$$\n",
        "\n",
        "> **Assumiamo che sia possibile approssimare la distribuzione di probabilità $p$ come una distribuzione gaussiana multivariata, ossia**\n",
        "\n",
        "$$\n",
        "p (\\vec y) = \\frac{\\exp\\left[\\displaystyle-\\frac{1}{2}(\\vec y - \\vec y_{\\mathrm{true}})^\\mathrm{T}\\mathbf{\\Sigma^{-1}} (\\vec y - \\vec y_{\\mathrm{true}})\\right]}{\\displaystyle \\sqrt{(2\\pi)^M |\\det \\mathbf{\\Sigma}|}}\n",
        "$$\n",
        "dove $\\vec y_{\\mathrm{true}}$ è la stima ideale del vettore $\\vec y$ e $\\mathbf \\Sigma$ la matrice di covarianza.\n",
        "Ora, per semplicità di notazione assumeremo che la matrice di covarianza abbia la forma\n",
        "$$\n",
        "\\mathbf{\\Sigma} = \\left(\n",
        "\\begin{array}{cccc}\n",
        "\\sigma^2 & 0 & \\cdots & 0 \\\\\n",
        "0 & \\sigma^2 & \\cdots & 0 \\\\\n",
        "\\vdots & \\vdots & \\ddots & \\vdots \\\\\n",
        "0 & 0 & \\cdots & \\sigma^2 \\\\\n",
        "\\end{array}\n",
        "\\right) = \\sigma^2 \\mathbb{I} \\in \\mathcal M (M \\times M)\n",
        "$$\n",
        "Questo ci permette di scrivere\n",
        "$$\n",
        "\\det \\mathbf{\\Sigma} = \\sigma^{2M}\n",
        "$$\n",
        "e quindi\n",
        "$$\n",
        "p (\\vec y) = \\frac{\\displaystyle\\exp\\left[-\\frac{|\\vec y - \\vec y_{\\mathrm{true}}|^2}{2\\sigma^2} \\right]}{\\displaystyle\\sqrt{(2\\pi)^M |\\sigma^{2M}|}}\n",
        "$$\n",
        "Ora, se raccogliamo diverse osservazioni di $\\vec y$, indicate come $\\vec y_i$, possiamo associare a ciascuna di esse la varianza $\\sigma_i$.\n",
        "Torniamo alla funzione verosomiglianza, sostituendo ad $y_\\mathrm{true}$ la nostra stima $f$.\n",
        "\n",
        "$$\n",
        "\\mathcal L = \\prod_i \\frac{1}{\\sqrt{(2\\pi \\sigma_i^2)^M}}\\exp\\left(-\\frac{|\\vec y_i - f(\\vec x_i\\ |\\ \\vec \\theta)|^2}{2\\sigma_i^2}\\right)\n",
        "$$\n",
        "\n",
        "Sostituendo la parametrizzazione lineare di $f$ discussa in precedenza, avremo\n",
        "$$\n",
        "\\mathcal L = \\prod_i \\frac{1}{\\sqrt{(2\\pi \\sigma_i^2)^M}}\\exp\\left(-\\frac{|\\vec y_i -  \\mathbf\\Theta \\vec x'_i|^2}{2\\sigma_i^2}\\right)\n",
        "$$\n",
        "\n",
        "Per il principio di massima verosimiglianza, possiamo stimare i parametri del modello lineare, ossia gli elementi della matrice $\\mathbf \\Theta$, scegliendoli in modo da massimizzare la funzione verosimiglianza. Ossia\n",
        "$$\n",
        " \\hat {\\mathbf\\Theta} = \\mathop{\\rm argmax}_{\\mathbf \\Theta} \\  \\mathcal L\n",
        "$$\n",
        "Ossia\n",
        "$$\n",
        " \\hat {\\mathbf\\Theta} = \\mathop{\\rm argmax}_{\\mathbf \\Theta} \\left[ \\prod_i \\frac{1}{\\sqrt{(2\\pi \\sigma_i^2)^M}}\\exp\\left(-\\frac{|\\vec y_i -  \\mathbf\\Theta \\vec x'|^2}{2\\sigma_i^2}\\right) \\right]\n",
        "$$\n",
        "\n",
        "Ricordando che applicando una funzione monotona, non si modifica la posizione si massimi e minimi, o in simboli\n",
        "$$\n",
        "\\mathop{\\rm argmax}_{\\theta} f(\\theta) = \\mathop{\\rm argmax}_{\\theta} g(f(\\theta)) \\qquad \\forall \\mbox{$g$  monotona}\n",
        "$$\n",
        "e considerando che la funzione logaritmo è monotona, posso scrivere\n",
        "$$\n",
        " \\hat {\\mathbf\\Theta} = \\mathop{\\rm argmax}_{\\mathbf \\Theta}\\ \\log \\left[ \\prod_i \\frac{1}{\\sqrt{(2\\pi \\sigma_i^2)^M}}\\exp\\left(-\\frac{|\\vec y_i -  \\mathbf\\Theta \\vec x'_i|^2}{2\\sigma_i^2}\\right) \\right]\n",
        "$$\n",
        "\n",
        "$$\n",
        " \\hat {\\mathbf\\Theta} = \\mathop{\\rm argmax}_{\\mathbf \\Theta} \\left[ \\sum_i\\left(-\\frac{|\\vec y_i -  \\mathbf\\Theta \\vec x'_i|^2}{2\\sigma_i^2}\\right) - \\frac{1}{2M}\\log (2\\pi \\sigma_i^2) \\right]\n",
        "$$\n",
        "\n",
        "Il secondo termine è costante rispetto a $\\Theta$ e può dunque essere ignorato nella ricerca del massimo. Allo stesso tempo possiamo trasformare il problema in una ricerca del minimo della funzione cambiata di segno, così da scrivere\n",
        "\n",
        "$$\n",
        " \\hat {\\mathbf\\Theta} = \\mathop{\\rm argmin}_{\\mathbf \\Theta}\\frac{1}{2} \\sum_i\\frac{|\\vec y_i -  \\mathbf\\Theta \\vec x'_i|^2}{\\sigma_i^2}\n",
        "$$\n",
        "\n",
        "> Si noti che fino a qui non abbiamo utilizzato l'ipotesi della linearità di $f$.\n",
        "\n",
        "Chiamando\n",
        "$$\n",
        "\\chi^2 = \\sum_i \\frac{|\\vec y_i - \\mathbf \\Theta \\vec x'_i|^2}{\\sigma_i^2},\n",
        "$$\n",
        "o, più in generale,\n",
        "$$\n",
        "\\chi^2 = \\sum_i \\frac{|\\vec y_i - f(\\vec x_i\\ |\\ \\vec \\theta)|^2}{\\sigma_i^2},\n",
        "$$\n",
        "\n",
        "si riottiene una formula ben nota come [metodo dei minimi quadrati](https://it.wikipedia.org/wiki/Metodo_dei_minimi_quadrati):\n",
        "\n",
        "$$\n",
        " \\hat {\\mathbf\\Theta} = \\mathop{\\rm argmin}_{\\mathbf \\Theta} \\frac{1}{2}\\chi^2\n",
        "$$\n",
        "Per semplicità di notazione, definiamo\n",
        "$$w_i = \\frac{1}{\\sigma_i^2} \\qquad \\mbox{e dunque} \\qquad \\chi^2 = \\sum_i w_i(\\vec y_i - f(\\vec x_i\\ |\\ \\vec \\theta))^2$$\n"
      ],
      "metadata": {
        "id": "n4m0lKW7_1pQ"
      }
    },
    {
      "cell_type": "markdown",
      "source": [
        "## Soluzione analitica della regressione lineare\n",
        "La ricerca del minimo del $\\chi^2$ può essere affrontata ponendo a zero tutte le derivate di $\\chi^2$ rispetto ai parametri liberi (gli elementi di $\\mathbf \\Theta$) e risolvendo il sistema che ne risulta.\n",
        "$$\n",
        "\\frac{\\partial\\chi^2}{\\partial\\theta_{m\\ell}} = 0\\qquad \\forall m, \\ell\n",
        "$$\n",
        "Sostituendo a $\\chi^2$ la sua espressione otteniamo\n",
        "$$\n",
        "\\frac{\\partial}{\\partial\\theta_{m\\ell}} \\sum_i w_i |\\vec y_i - \\mathbf \\Theta \\vec x_i'|^2 = 0\n",
        "$$\n",
        "Esplicitando gli indici del vettore $\\vec y_i$ nel modulo-quadro e nel prodotto $\\mathbf \\Theta \\vec x_i'$,\n",
        "$$\n",
        "\\frac{\\partial}{\\partial\\theta_{m\\ell}} \\sum_i w_i\\, \\sum_j \\left(y_{ij} - \\sum_k \\theta_{jk} x_{ik}'\\right)^2 = 0\n",
        "$$\n",
        "Derivando,\n",
        "$$\n",
        "2\\sum_i w_i  \\sum_j\\left(y_{ij} - \\sum_k \\theta_{jk} x_{ik}'\\right)\\sum_kx'_{ik}\\delta_{mj}\\delta_{\\ell k} = 0\n",
        "$$\n",
        "dove $\\delta$ è il simbolo di Kronecker, che compare due volte ed in entrambi i casi può essere rimosso insieme alla relativa somma, per ottenere\n",
        "$$\n",
        "2\\sum_i w_i  \\left(y_{im} - \\sum_k \\theta_{mk} x_{ik}'\\right)x'_{i\\ell} = 0\n",
        "$$\n",
        "da cui\n",
        "$$\n",
        "\\sum_i w_i \\sum_k \\theta_{mk} x_{ik}'x'_{i\\ell} = \\sum_i w_i  y_{im} x'_{i\\ell}\n",
        "$$\n",
        "Riorganizzando il primo membro\n",
        "$$\n",
        "\\sum_k  \\sum_i w_i  x'_{i\\ell} x_{ik}'\\theta_{mk} = \\sum_i w_i  y_{im} x'_{i\\ell}\n",
        "$$\n",
        "che, in forma matriciale, può essere scritto come\n",
        "$$\n",
        "\\mathbf C \\mathbf \\Theta^\\mathsf T = \\mathbf D\n",
        "$$\n",
        "purché\n",
        "$$\n",
        "\\mathbf C = \\left\\{\\sum_i w_i x'_{i\\ell}x'_{ik}\\right\\}_{\\ell k} \\qquad et \\qquad \\mathbf D = \\left\\{\\sum_i w_i y_{im}x'_{i\\ell}\\right\\}_{\\ell m}\n",
        "$$\n",
        "\n",
        "\n",
        "Da cui\n",
        "$$\n",
        "\\mathbf \\Theta^\\mathsf T = \\mathbf C^{-1} \\mathbf D\n",
        "$$\n",
        "\n",
        "Ossia\n",
        "$$\n",
        "\\boxed{\n",
        "  \\hat{\\mathbf\\Theta} = \\left(\\mathbf C^{-1} \\mathbf D\\right)^\\mathsf T\n",
        "}\n",
        "$$\n",
        "\n",
        "dove abbiamo reinserito il cappelletto per indicare che questa soluzione, ottenuta minimizzando il $\\chi^2$, è anche lo stimatore dei parametri $\\mathbf\\Theta$.\n",
        "\n",
        "Questo risultato è molto importante perché ci dice che:\n",
        " 1. possiamo ottenere analiticamente (ossia senza una procedura di ottimizzazione numerica) il valore della matrice $\\mathbf \\Theta$ che minimizza il $\\chi^2$ esprimendola come un semplice prodotto\n",
        " 2. la soluzione richiede l'inversione di una matrice $\\mathbf C \\in \\mathcal M^{N\\times N}$, dove $N$ è la dimensionalità di $\\vec x$, ossia il numero di variabili *note* del nostro problema di regressione."
      ],
      "metadata": {
        "id": "auWrtHPGMRlT"
      }
    },
    {
      "cell_type": "markdown",
      "source": [
        "## Verifica \"sperimentale\"\n",
        "\n",
        "Siamo pronti per mettere alla prova la formula derivata sopra.\n",
        "\n",
        "Per farlo costruiremo un dataset casuale con una dipendenza lineare nota e cercheremo di ricostruirla applicando la formula discussa sopra.\n",
        "\n",
        "Per prima cosa, importiamo le librerie `numpy` e `matplotlib` che ci servono per il calcolo numerico e per produrre qualche plot."
      ],
      "metadata": {
        "id": "nd9gbn_NLZRB"
      }
    },
    {
      "cell_type": "code",
      "source": [
        "import numpy as np\n",
        "import matplotlib.pyplot as plt"
      ],
      "metadata": {
        "id": "FF6te3mzKLE5"
      },
      "execution_count": null,
      "outputs": []
    },
    {
      "cell_type": "markdown",
      "source": [
        "Seguendo la notazione usata nel paragrafo precedente, definiamo il tensore $x_{i\\ell}$ per le variabili di *input* ed il tensore $y_{im}$ per le variabili di output. Il primo indice di $x_{i\\ell}$ e $y_{im}$, $i$, corre sul numero di osservazioni; il secondo indice di $x_{i\\ell}$, $\\ell$, corre sul numero di variabili di input, mentre il secondo indice del tensore $y_{im}$ corre sul numero variabili di output.\n",
        "\n",
        "Fissiamo sia il numero di variabili in input sia il numero di variabili in output a 2. Scritto in forma esplicita, il problema che stiamo studiando è dunque\n",
        "$$\n",
        "\\left\\{\n",
        "  \\begin{array}{l}\n",
        "  y_1 = a_{11} x_1 + a_{12} x_2 + b_{1} \\\\\n",
        "  y_2 = a_{21} x_1 + a_{22} x_2 + b_{2} \\\\\n",
        "  \\end{array}\n",
        "  \\right.\n",
        "$$\n",
        "Il nostro obiettivo è quello di determinare $a_{11}$, $a_{12}$, $a_{21}$, $a_{22}$, $b_{1}$ e $b_{2}$ dato un set di osservazioni\n",
        "$(x_{i1}, x_{i2}, y_{i1}, y_{i2})$ che organizziamo appunto in due tensori\n",
        "\n",
        "Il numero di eventi raccolti sarà:"
      ],
      "metadata": {
        "id": "-r5sKLTiQbXK"
      }
    },
    {
      "cell_type": "code",
      "source": [
        "n_samples = 100"
      ],
      "metadata": {
        "id": "GAh_nTGaV_gq"
      },
      "execution_count": null,
      "outputs": []
    },
    {
      "cell_type": "markdown",
      "source": [
        "Scegliamo per le variabili $x_1$ e $x_2$ dei numeri random distribuiti in modo uniforme rispettivamente tra 0 e 1 e tra 1 e 2."
      ],
      "metadata": {
        "id": "E23VsPmjWAzR"
      }
    },
    {
      "cell_type": "code",
      "source": [
        "x_1 = np.random.uniform(0, 1, n_samples)\n",
        "x_2 = np.random.uniform(1, 2, n_samples)\n",
        "x = np.c_[x_1, x_2]"
      ],
      "metadata": {
        "id": "nTEfrgqlWrDC"
      },
      "execution_count": null,
      "outputs": []
    },
    {
      "cell_type": "markdown",
      "source": [
        "Costruiamo il tensore $x'$ aggiungendo una colonna di 1 a sinistra della matrice $x_{i\\ell}$:"
      ],
      "metadata": {
        "id": "0FBUufruWvmz"
      }
    },
    {
      "cell_type": "code",
      "execution_count": null,
      "metadata": {
        "colab": {
          "base_uri": "https://localhost:8080/"
        },
        "id": "VuI2nevhanI6",
        "outputId": "0270887e-c90c-44ae-9bac-33c39279b112"
      },
      "outputs": [
        {
          "output_type": "stream",
          "name": "stdout",
          "text": [
            "[[1.         0.75112361 1.72636996]\n",
            " [1.         0.33228232 1.69829876]\n",
            " [1.         0.55167167 1.04958971]\n",
            " [1.         0.51942953 1.6812217 ]\n",
            " [1.         0.76719075 1.77277965]]\n"
          ]
        }
      ],
      "source": [
        "ones = np.ones_like(x_1)\n",
        "x_p = np.c_[ones, x]\n",
        "\n",
        "print(x_p[:5])"
      ]
    },
    {
      "cell_type": "markdown",
      "source": [
        "Costruiamo la matrice $\\mathbf\\Theta$ vera, che poi cercheremo di riottenere con l'applicazione di una regressione lineare."
      ],
      "metadata": {
        "id": "VcXAjApOXHXK"
      }
    },
    {
      "cell_type": "code",
      "source": [
        "theta_true = np.array([[1, 2, 3],\n",
        "                       [4, 5, 6]])"
      ],
      "metadata": {
        "id": "k8R_iIphXYp7"
      },
      "execution_count": null,
      "outputs": []
    },
    {
      "cell_type": "markdown",
      "source": [
        "Definiamo i pesi, che per semplicita assumeremo essere tutti uguali a 10:\n",
        "$$\n",
        "w_i = 10\\qquad \\forall i\n",
        "$$\n",
        "Segue che\n",
        "$$\n",
        "\\sigma_i = \\frac{1}{\\sqrt {10}} \\forall i\n",
        "$$"
      ],
      "metadata": {
        "id": "QkIV7hOvXqtC"
      }
    },
    {
      "cell_type": "code",
      "source": [
        "w = np.full_like (x_1, 10)\n",
        "sigma = np.sqrt(1/w)"
      ],
      "metadata": {
        "id": "wEa01oPQXpti"
      },
      "execution_count": null,
      "outputs": []
    },
    {
      "cell_type": "markdown",
      "source": [
        "Quindi otteniamo i valori delle variabili $y$ che immaginiamo di aver raccolto sperimentalmente come numeri casuali distribuiti secondo una gaussiana centrata in\n",
        "$$\n",
        "y_{true} = \\mathbf \\Theta x'\n",
        "$$\n",
        "\n",
        "Si noti che è necessaria un'operazione di trasposizione del tensore $x'_{i\\ell}$ per portare l'indice $\\ell$ che va contratto con $\\mathbf \\Theta$ in prima posizione, al posto di $i$ (che corre sul numero di osservazioni)."
      ],
      "metadata": {
        "id": "8tSwyFf_YBnF"
      }
    },
    {
      "cell_type": "code",
      "source": [
        "y = np.random.normal (theta_true @ x_p.T, sigma).T\n",
        "\n",
        "print (theta_true.shape, x.T.shape, '->', y.shape)"
      ],
      "metadata": {
        "colab": {
          "base_uri": "https://localhost:8080/"
        },
        "id": "FA_vD1RYX_r7",
        "outputId": "94fd25cd-bdd5-4c75-99e2-8b707bd583f2"
      },
      "execution_count": null,
      "outputs": [
        {
          "output_type": "stream",
          "name": "stdout",
          "text": [
            "(2, 3) (2, 100) -> (100, 2)\n"
          ]
        }
      ]
    },
    {
      "cell_type": "markdown",
      "source": [
        "Definiamo allora le matrici $\\mathbf C$ e $\\mathbf D$ seguendo le formule derivate sopra, prestando attenzione all'ordine degli indici.\n",
        "$$\n",
        "\\mathbf C = \\left\\{\\sum_i w_i x'_{i\\ell}x'_{ik}\\right\\}_{\\ell k} \\qquad et \\qquad \\mathbf D = \\left\\{\\sum_i w_i y_{im}x'_{i\\ell}\\right\\}_{\\ell m}\n",
        "$$\n"
      ],
      "metadata": {
        "id": "qKy1ZBjRZL-7"
      }
    },
    {
      "cell_type": "code",
      "source": [
        "C = np.array([[\n",
        "    np.sum(w * x_p[:,ell] * x_p[:,k])\n",
        "  for k in range(3)]\n",
        "for ell in range(3)])\n",
        "\n",
        "D = np.array([[\n",
        "     np.sum(w * x_p[:,ell] * y[:,m])\n",
        "   for m in range(2)]\n",
        " for ell in range(3)])"
      ],
      "metadata": {
        "id": "UHyAUdhQdKcv"
      },
      "execution_count": null,
      "outputs": []
    },
    {
      "cell_type": "markdown",
      "source": [
        "Ed infine invertiamo $\\mathbf C$ e applichiamo la formula per stimare $\\hat{\\mathbf \\Theta}$.\n",
        "$$\n",
        "\\boxed{\n",
        "  \\hat{\\mathbf\\Theta} = \\left(\\mathbf C^{-1} \\mathbf D\\right)^\\mathsf T\n",
        "}\n",
        "$$\n"
      ],
      "metadata": {
        "id": "H5PUpGoBZxX5"
      }
    },
    {
      "cell_type": "code",
      "source": [
        "theta_hat = (np.linalg.inv(C) @ D).T\n",
        "\n",
        "print (theta_hat)"
      ],
      "metadata": {
        "colab": {
          "base_uri": "https://localhost:8080/"
        },
        "id": "0tV-Y-PscUne",
        "outputId": "a33382a9-29c2-4c42-f514-afc3e9bf1f4a"
      },
      "execution_count": null,
      "outputs": [
        {
          "output_type": "stream",
          "name": "stdout",
          "text": [
            "[[0.98463643 1.99674625 3.00526496]\n",
            " [3.75746895 5.20015076 6.1218793 ]]\n"
          ]
        }
      ]
    },
    {
      "cell_type": "markdown",
      "source": [
        "Il risultato che otteniamo è compatibile con $\\mathbf \\Theta_{\\mathrm{true}}$ che abbiamo scelto all'inizio del problema.\n",
        "Le piccole differenze sono da imputarsi agli errori di misura che noi abbiamo racchiuso nella definizione $\\sigma$.\n",
        "Riducendo $\\sigma$ o aumentando il numero di osservazioni `n_samples` i valori ottenuti per lo stimatore $\\hat{\\mathbf \\Theta}$ si avvicinano ai valori di $\\mathbf \\Theta_{\\mathrm{true}}$ (si veda anche il concetto *consistenza dello stimatore di massima verosimiglianza*)."
      ],
      "metadata": {
        "id": "B68rVCJHauYT"
      }
    },
    {
      "cell_type": "markdown",
      "source": [
        "## L'equazione normale (normal equation)\n",
        "\n",
        "Nel caso speciale in cui $w_i$ sia costante per ogni $i$ è possibile semplificare la scrittura di $\\mathbf C$ e $\\mathbf D$.\n",
        "\n",
        "Definiamo i tensori $\\mathbf X$ e $\\mathbf Y$ che rappresentino il training sample.\n",
        "$$\n",
        "\\mathbf X = \\{x_{ij}\\}_{ij} \\qquad \\mathit{et} \\qquad \\mathbf Y = \\{y_{ij}\\}_{ij}\n",
        "$$\n",
        "dove il primo indice, $i$, corre sull'esempio del campione di training, mentre il secondo, $j$, corre sulla variabile di input, nel caso di $\\mathbf X$, o di output, nel caso di $\\mathbf Y$.\n",
        "\n",
        "Con queste definizioni, possiamo riscrivere l'equazione per $\\hat {\\mathbf \\Theta}$ come\n",
        "$$\\boxed{\n",
        "\\hat{\\mathbf\\Theta}^T = (\\mathbf X^\\mathsf T \\mathbf X)^{-1}\\  \\mathbf X^\\mathsf T \\mathbf Y\n",
        "}\n",
        "$$\n",
        "\n",
        "Questa equazione prende il nome di **Equazione normale** (o ***normal equation*** in inglese) e sta alla base di molti metodi di soluzione analitica di problemi di ottimizzazione."
      ],
      "metadata": {
        "id": "pvXxWZqK23AL"
      }
    },
    {
      "cell_type": "markdown",
      "source": [
        "# La regressione lineare con `scikit-learn`\n",
        "\n",
        "La regressione lineare può essere affrontata allo stesso modo utilizzando `scikit-learn`, una libreria del Python Package Index che contiene le implementazioni di svariate tecniche di machine learning.\n",
        "\n",
        "Per prima cosa, importiamo dal modulo `linear_model` di `scikit-learn` la classe `LinearRegression`."
      ],
      "metadata": {
        "id": "rEubX-6ubZo6"
      }
    },
    {
      "cell_type": "code",
      "source": [
        "from sklearn.linear_model import LinearRegression"
      ],
      "metadata": {
        "id": "k6CNcCI_kvPI"
      },
      "execution_count": null,
      "outputs": []
    },
    {
      "cell_type": "markdown",
      "source": [
        "Quindi istanziamo la classe `LinearRegression` che implementa i metodi `fit` e `predict` che consentono di costruire un modello lineare una relazione\n",
        "$f: \\mathbb R^\\mathrm N \\to \\mathbb R^\\mathrm M$ senza descrivere le operazioni tra tensori in modo esplicito.\n",
        "\n",
        "In particolare, il metodo `fit` prende come argomento due tensori a due indici in cui il primo indice corre sul numero di esempio parte del campione di addestramento (che abbiamo chiamato $i$ negli esempi sopra) ed il secondo che corre sulla variabile. Il primo tensore rappresenta le variabili di input ($x$), il secondo le variabili di output ($y$).\n",
        "\n",
        "Facoltativamente, è possibile passare il vettore dei pesi che, come abbiamo visto, può essere ottenuto dall'incertezza con cui conosciamo la misura associata a ciascun esempio.\n",
        "\n",
        "Si noti l'utilizzo della funzione speciale [`np.c_`](https://numpy.org/doc/stable/reference/generated/numpy.c_.html) usata in generale per comporre un array per colonne. In questo caso componiamo il tensore delle variabili di input passando i due array associati alla prima e alla seconda componente di $\\vec x$:\n",
        "$$\n",
        "  \\vec x_i = \\{x_{ij}\\}_{ij} = \\mathtt{np.c\\_}[\\{x_{i1}\\}_i,\\{x_{i2}\\}_i]\n",
        "$$"
      ],
      "metadata": {
        "id": "VLdsHhsqnOy3"
      }
    },
    {
      "cell_type": "code",
      "source": [
        "lm = LinearRegression()\n",
        "lm.fit(np.c_[x_1, x_2], y, sample_weight=w)"
      ],
      "metadata": {
        "id": "aA32ldBElGLq",
        "colab": {
          "base_uri": "https://localhost:8080/",
          "height": 80
        },
        "outputId": "2f5ee5d0-2517-4d17-a089-5fbfe2090ba2"
      },
      "execution_count": null,
      "outputs": [
        {
          "output_type": "execute_result",
          "data": {
            "text/plain": [
              "LinearRegression()"
            ],
            "text/html": [
              "<style>#sk-container-id-1 {\n",
              "  /* Definition of color scheme common for light and dark mode */\n",
              "  --sklearn-color-text: #000;\n",
              "  --sklearn-color-text-muted: #666;\n",
              "  --sklearn-color-line: gray;\n",
              "  /* Definition of color scheme for unfitted estimators */\n",
              "  --sklearn-color-unfitted-level-0: #fff5e6;\n",
              "  --sklearn-color-unfitted-level-1: #f6e4d2;\n",
              "  --sklearn-color-unfitted-level-2: #ffe0b3;\n",
              "  --sklearn-color-unfitted-level-3: chocolate;\n",
              "  /* Definition of color scheme for fitted estimators */\n",
              "  --sklearn-color-fitted-level-0: #f0f8ff;\n",
              "  --sklearn-color-fitted-level-1: #d4ebff;\n",
              "  --sklearn-color-fitted-level-2: #b3dbfd;\n",
              "  --sklearn-color-fitted-level-3: cornflowerblue;\n",
              "\n",
              "  /* Specific color for light theme */\n",
              "  --sklearn-color-text-on-default-background: var(--sg-text-color, var(--theme-code-foreground, var(--jp-content-font-color1, black)));\n",
              "  --sklearn-color-background: var(--sg-background-color, var(--theme-background, var(--jp-layout-color0, white)));\n",
              "  --sklearn-color-border-box: var(--sg-text-color, var(--theme-code-foreground, var(--jp-content-font-color1, black)));\n",
              "  --sklearn-color-icon: #696969;\n",
              "\n",
              "  @media (prefers-color-scheme: dark) {\n",
              "    /* Redefinition of color scheme for dark theme */\n",
              "    --sklearn-color-text-on-default-background: var(--sg-text-color, var(--theme-code-foreground, var(--jp-content-font-color1, white)));\n",
              "    --sklearn-color-background: var(--sg-background-color, var(--theme-background, var(--jp-layout-color0, #111)));\n",
              "    --sklearn-color-border-box: var(--sg-text-color, var(--theme-code-foreground, var(--jp-content-font-color1, white)));\n",
              "    --sklearn-color-icon: #878787;\n",
              "  }\n",
              "}\n",
              "\n",
              "#sk-container-id-1 {\n",
              "  color: var(--sklearn-color-text);\n",
              "}\n",
              "\n",
              "#sk-container-id-1 pre {\n",
              "  padding: 0;\n",
              "}\n",
              "\n",
              "#sk-container-id-1 input.sk-hidden--visually {\n",
              "  border: 0;\n",
              "  clip: rect(1px 1px 1px 1px);\n",
              "  clip: rect(1px, 1px, 1px, 1px);\n",
              "  height: 1px;\n",
              "  margin: -1px;\n",
              "  overflow: hidden;\n",
              "  padding: 0;\n",
              "  position: absolute;\n",
              "  width: 1px;\n",
              "}\n",
              "\n",
              "#sk-container-id-1 div.sk-dashed-wrapped {\n",
              "  border: 1px dashed var(--sklearn-color-line);\n",
              "  margin: 0 0.4em 0.5em 0.4em;\n",
              "  box-sizing: border-box;\n",
              "  padding-bottom: 0.4em;\n",
              "  background-color: var(--sklearn-color-background);\n",
              "}\n",
              "\n",
              "#sk-container-id-1 div.sk-container {\n",
              "  /* jupyter's `normalize.less` sets `[hidden] { display: none; }`\n",
              "     but bootstrap.min.css set `[hidden] { display: none !important; }`\n",
              "     so we also need the `!important` here to be able to override the\n",
              "     default hidden behavior on the sphinx rendered scikit-learn.org.\n",
              "     See: https://github.com/scikit-learn/scikit-learn/issues/21755 */\n",
              "  display: inline-block !important;\n",
              "  position: relative;\n",
              "}\n",
              "\n",
              "#sk-container-id-1 div.sk-text-repr-fallback {\n",
              "  display: none;\n",
              "}\n",
              "\n",
              "div.sk-parallel-item,\n",
              "div.sk-serial,\n",
              "div.sk-item {\n",
              "  /* draw centered vertical line to link estimators */\n",
              "  background-image: linear-gradient(var(--sklearn-color-text-on-default-background), var(--sklearn-color-text-on-default-background));\n",
              "  background-size: 2px 100%;\n",
              "  background-repeat: no-repeat;\n",
              "  background-position: center center;\n",
              "}\n",
              "\n",
              "/* Parallel-specific style estimator block */\n",
              "\n",
              "#sk-container-id-1 div.sk-parallel-item::after {\n",
              "  content: \"\";\n",
              "  width: 100%;\n",
              "  border-bottom: 2px solid var(--sklearn-color-text-on-default-background);\n",
              "  flex-grow: 1;\n",
              "}\n",
              "\n",
              "#sk-container-id-1 div.sk-parallel {\n",
              "  display: flex;\n",
              "  align-items: stretch;\n",
              "  justify-content: center;\n",
              "  background-color: var(--sklearn-color-background);\n",
              "  position: relative;\n",
              "}\n",
              "\n",
              "#sk-container-id-1 div.sk-parallel-item {\n",
              "  display: flex;\n",
              "  flex-direction: column;\n",
              "}\n",
              "\n",
              "#sk-container-id-1 div.sk-parallel-item:first-child::after {\n",
              "  align-self: flex-end;\n",
              "  width: 50%;\n",
              "}\n",
              "\n",
              "#sk-container-id-1 div.sk-parallel-item:last-child::after {\n",
              "  align-self: flex-start;\n",
              "  width: 50%;\n",
              "}\n",
              "\n",
              "#sk-container-id-1 div.sk-parallel-item:only-child::after {\n",
              "  width: 0;\n",
              "}\n",
              "\n",
              "/* Serial-specific style estimator block */\n",
              "\n",
              "#sk-container-id-1 div.sk-serial {\n",
              "  display: flex;\n",
              "  flex-direction: column;\n",
              "  align-items: center;\n",
              "  background-color: var(--sklearn-color-background);\n",
              "  padding-right: 1em;\n",
              "  padding-left: 1em;\n",
              "}\n",
              "\n",
              "\n",
              "/* Toggleable style: style used for estimator/Pipeline/ColumnTransformer box that is\n",
              "clickable and can be expanded/collapsed.\n",
              "- Pipeline and ColumnTransformer use this feature and define the default style\n",
              "- Estimators will overwrite some part of the style using the `sk-estimator` class\n",
              "*/\n",
              "\n",
              "/* Pipeline and ColumnTransformer style (default) */\n",
              "\n",
              "#sk-container-id-1 div.sk-toggleable {\n",
              "  /* Default theme specific background. It is overwritten whether we have a\n",
              "  specific estimator or a Pipeline/ColumnTransformer */\n",
              "  background-color: var(--sklearn-color-background);\n",
              "}\n",
              "\n",
              "/* Toggleable label */\n",
              "#sk-container-id-1 label.sk-toggleable__label {\n",
              "  cursor: pointer;\n",
              "  display: flex;\n",
              "  width: 100%;\n",
              "  margin-bottom: 0;\n",
              "  padding: 0.5em;\n",
              "  box-sizing: border-box;\n",
              "  text-align: center;\n",
              "  align-items: start;\n",
              "  justify-content: space-between;\n",
              "  gap: 0.5em;\n",
              "}\n",
              "\n",
              "#sk-container-id-1 label.sk-toggleable__label .caption {\n",
              "  font-size: 0.6rem;\n",
              "  font-weight: lighter;\n",
              "  color: var(--sklearn-color-text-muted);\n",
              "}\n",
              "\n",
              "#sk-container-id-1 label.sk-toggleable__label-arrow:before {\n",
              "  /* Arrow on the left of the label */\n",
              "  content: \"▸\";\n",
              "  float: left;\n",
              "  margin-right: 0.25em;\n",
              "  color: var(--sklearn-color-icon);\n",
              "}\n",
              "\n",
              "#sk-container-id-1 label.sk-toggleable__label-arrow:hover:before {\n",
              "  color: var(--sklearn-color-text);\n",
              "}\n",
              "\n",
              "/* Toggleable content - dropdown */\n",
              "\n",
              "#sk-container-id-1 div.sk-toggleable__content {\n",
              "  max-height: 0;\n",
              "  max-width: 0;\n",
              "  overflow: hidden;\n",
              "  text-align: left;\n",
              "  /* unfitted */\n",
              "  background-color: var(--sklearn-color-unfitted-level-0);\n",
              "}\n",
              "\n",
              "#sk-container-id-1 div.sk-toggleable__content.fitted {\n",
              "  /* fitted */\n",
              "  background-color: var(--sklearn-color-fitted-level-0);\n",
              "}\n",
              "\n",
              "#sk-container-id-1 div.sk-toggleable__content pre {\n",
              "  margin: 0.2em;\n",
              "  border-radius: 0.25em;\n",
              "  color: var(--sklearn-color-text);\n",
              "  /* unfitted */\n",
              "  background-color: var(--sklearn-color-unfitted-level-0);\n",
              "}\n",
              "\n",
              "#sk-container-id-1 div.sk-toggleable__content.fitted pre {\n",
              "  /* unfitted */\n",
              "  background-color: var(--sklearn-color-fitted-level-0);\n",
              "}\n",
              "\n",
              "#sk-container-id-1 input.sk-toggleable__control:checked~div.sk-toggleable__content {\n",
              "  /* Expand drop-down */\n",
              "  max-height: 200px;\n",
              "  max-width: 100%;\n",
              "  overflow: auto;\n",
              "}\n",
              "\n",
              "#sk-container-id-1 input.sk-toggleable__control:checked~label.sk-toggleable__label-arrow:before {\n",
              "  content: \"▾\";\n",
              "}\n",
              "\n",
              "/* Pipeline/ColumnTransformer-specific style */\n",
              "\n",
              "#sk-container-id-1 div.sk-label input.sk-toggleable__control:checked~label.sk-toggleable__label {\n",
              "  color: var(--sklearn-color-text);\n",
              "  background-color: var(--sklearn-color-unfitted-level-2);\n",
              "}\n",
              "\n",
              "#sk-container-id-1 div.sk-label.fitted input.sk-toggleable__control:checked~label.sk-toggleable__label {\n",
              "  background-color: var(--sklearn-color-fitted-level-2);\n",
              "}\n",
              "\n",
              "/* Estimator-specific style */\n",
              "\n",
              "/* Colorize estimator box */\n",
              "#sk-container-id-1 div.sk-estimator input.sk-toggleable__control:checked~label.sk-toggleable__label {\n",
              "  /* unfitted */\n",
              "  background-color: var(--sklearn-color-unfitted-level-2);\n",
              "}\n",
              "\n",
              "#sk-container-id-1 div.sk-estimator.fitted input.sk-toggleable__control:checked~label.sk-toggleable__label {\n",
              "  /* fitted */\n",
              "  background-color: var(--sklearn-color-fitted-level-2);\n",
              "}\n",
              "\n",
              "#sk-container-id-1 div.sk-label label.sk-toggleable__label,\n",
              "#sk-container-id-1 div.sk-label label {\n",
              "  /* The background is the default theme color */\n",
              "  color: var(--sklearn-color-text-on-default-background);\n",
              "}\n",
              "\n",
              "/* On hover, darken the color of the background */\n",
              "#sk-container-id-1 div.sk-label:hover label.sk-toggleable__label {\n",
              "  color: var(--sklearn-color-text);\n",
              "  background-color: var(--sklearn-color-unfitted-level-2);\n",
              "}\n",
              "\n",
              "/* Label box, darken color on hover, fitted */\n",
              "#sk-container-id-1 div.sk-label.fitted:hover label.sk-toggleable__label.fitted {\n",
              "  color: var(--sklearn-color-text);\n",
              "  background-color: var(--sklearn-color-fitted-level-2);\n",
              "}\n",
              "\n",
              "/* Estimator label */\n",
              "\n",
              "#sk-container-id-1 div.sk-label label {\n",
              "  font-family: monospace;\n",
              "  font-weight: bold;\n",
              "  display: inline-block;\n",
              "  line-height: 1.2em;\n",
              "}\n",
              "\n",
              "#sk-container-id-1 div.sk-label-container {\n",
              "  text-align: center;\n",
              "}\n",
              "\n",
              "/* Estimator-specific */\n",
              "#sk-container-id-1 div.sk-estimator {\n",
              "  font-family: monospace;\n",
              "  border: 1px dotted var(--sklearn-color-border-box);\n",
              "  border-radius: 0.25em;\n",
              "  box-sizing: border-box;\n",
              "  margin-bottom: 0.5em;\n",
              "  /* unfitted */\n",
              "  background-color: var(--sklearn-color-unfitted-level-0);\n",
              "}\n",
              "\n",
              "#sk-container-id-1 div.sk-estimator.fitted {\n",
              "  /* fitted */\n",
              "  background-color: var(--sklearn-color-fitted-level-0);\n",
              "}\n",
              "\n",
              "/* on hover */\n",
              "#sk-container-id-1 div.sk-estimator:hover {\n",
              "  /* unfitted */\n",
              "  background-color: var(--sklearn-color-unfitted-level-2);\n",
              "}\n",
              "\n",
              "#sk-container-id-1 div.sk-estimator.fitted:hover {\n",
              "  /* fitted */\n",
              "  background-color: var(--sklearn-color-fitted-level-2);\n",
              "}\n",
              "\n",
              "/* Specification for estimator info (e.g. \"i\" and \"?\") */\n",
              "\n",
              "/* Common style for \"i\" and \"?\" */\n",
              "\n",
              ".sk-estimator-doc-link,\n",
              "a:link.sk-estimator-doc-link,\n",
              "a:visited.sk-estimator-doc-link {\n",
              "  float: right;\n",
              "  font-size: smaller;\n",
              "  line-height: 1em;\n",
              "  font-family: monospace;\n",
              "  background-color: var(--sklearn-color-background);\n",
              "  border-radius: 1em;\n",
              "  height: 1em;\n",
              "  width: 1em;\n",
              "  text-decoration: none !important;\n",
              "  margin-left: 0.5em;\n",
              "  text-align: center;\n",
              "  /* unfitted */\n",
              "  border: var(--sklearn-color-unfitted-level-1) 1pt solid;\n",
              "  color: var(--sklearn-color-unfitted-level-1);\n",
              "}\n",
              "\n",
              ".sk-estimator-doc-link.fitted,\n",
              "a:link.sk-estimator-doc-link.fitted,\n",
              "a:visited.sk-estimator-doc-link.fitted {\n",
              "  /* fitted */\n",
              "  border: var(--sklearn-color-fitted-level-1) 1pt solid;\n",
              "  color: var(--sklearn-color-fitted-level-1);\n",
              "}\n",
              "\n",
              "/* On hover */\n",
              "div.sk-estimator:hover .sk-estimator-doc-link:hover,\n",
              ".sk-estimator-doc-link:hover,\n",
              "div.sk-label-container:hover .sk-estimator-doc-link:hover,\n",
              ".sk-estimator-doc-link:hover {\n",
              "  /* unfitted */\n",
              "  background-color: var(--sklearn-color-unfitted-level-3);\n",
              "  color: var(--sklearn-color-background);\n",
              "  text-decoration: none;\n",
              "}\n",
              "\n",
              "div.sk-estimator.fitted:hover .sk-estimator-doc-link.fitted:hover,\n",
              ".sk-estimator-doc-link.fitted:hover,\n",
              "div.sk-label-container:hover .sk-estimator-doc-link.fitted:hover,\n",
              ".sk-estimator-doc-link.fitted:hover {\n",
              "  /* fitted */\n",
              "  background-color: var(--sklearn-color-fitted-level-3);\n",
              "  color: var(--sklearn-color-background);\n",
              "  text-decoration: none;\n",
              "}\n",
              "\n",
              "/* Span, style for the box shown on hovering the info icon */\n",
              ".sk-estimator-doc-link span {\n",
              "  display: none;\n",
              "  z-index: 9999;\n",
              "  position: relative;\n",
              "  font-weight: normal;\n",
              "  right: .2ex;\n",
              "  padding: .5ex;\n",
              "  margin: .5ex;\n",
              "  width: min-content;\n",
              "  min-width: 20ex;\n",
              "  max-width: 50ex;\n",
              "  color: var(--sklearn-color-text);\n",
              "  box-shadow: 2pt 2pt 4pt #999;\n",
              "  /* unfitted */\n",
              "  background: var(--sklearn-color-unfitted-level-0);\n",
              "  border: .5pt solid var(--sklearn-color-unfitted-level-3);\n",
              "}\n",
              "\n",
              ".sk-estimator-doc-link.fitted span {\n",
              "  /* fitted */\n",
              "  background: var(--sklearn-color-fitted-level-0);\n",
              "  border: var(--sklearn-color-fitted-level-3);\n",
              "}\n",
              "\n",
              ".sk-estimator-doc-link:hover span {\n",
              "  display: block;\n",
              "}\n",
              "\n",
              "/* \"?\"-specific style due to the `<a>` HTML tag */\n",
              "\n",
              "#sk-container-id-1 a.estimator_doc_link {\n",
              "  float: right;\n",
              "  font-size: 1rem;\n",
              "  line-height: 1em;\n",
              "  font-family: monospace;\n",
              "  background-color: var(--sklearn-color-background);\n",
              "  border-radius: 1rem;\n",
              "  height: 1rem;\n",
              "  width: 1rem;\n",
              "  text-decoration: none;\n",
              "  /* unfitted */\n",
              "  color: var(--sklearn-color-unfitted-level-1);\n",
              "  border: var(--sklearn-color-unfitted-level-1) 1pt solid;\n",
              "}\n",
              "\n",
              "#sk-container-id-1 a.estimator_doc_link.fitted {\n",
              "  /* fitted */\n",
              "  border: var(--sklearn-color-fitted-level-1) 1pt solid;\n",
              "  color: var(--sklearn-color-fitted-level-1);\n",
              "}\n",
              "\n",
              "/* On hover */\n",
              "#sk-container-id-1 a.estimator_doc_link:hover {\n",
              "  /* unfitted */\n",
              "  background-color: var(--sklearn-color-unfitted-level-3);\n",
              "  color: var(--sklearn-color-background);\n",
              "  text-decoration: none;\n",
              "}\n",
              "\n",
              "#sk-container-id-1 a.estimator_doc_link.fitted:hover {\n",
              "  /* fitted */\n",
              "  background-color: var(--sklearn-color-fitted-level-3);\n",
              "}\n",
              "</style><div id=\"sk-container-id-1\" class=\"sk-top-container\"><div class=\"sk-text-repr-fallback\"><pre>LinearRegression()</pre><b>In a Jupyter environment, please rerun this cell to show the HTML representation or trust the notebook. <br />On GitHub, the HTML representation is unable to render, please try loading this page with nbviewer.org.</b></div><div class=\"sk-container\" hidden><div class=\"sk-item\"><div class=\"sk-estimator fitted sk-toggleable\"><input class=\"sk-toggleable__control sk-hidden--visually\" id=\"sk-estimator-id-1\" type=\"checkbox\" checked><label for=\"sk-estimator-id-1\" class=\"sk-toggleable__label fitted sk-toggleable__label-arrow\"><div><div>LinearRegression</div></div><div><a class=\"sk-estimator-doc-link fitted\" rel=\"noreferrer\" target=\"_blank\" href=\"https://scikit-learn.org/1.6/modules/generated/sklearn.linear_model.LinearRegression.html\">?<span>Documentation for LinearRegression</span></a><span class=\"sk-estimator-doc-link fitted\">i<span>Fitted</span></span></div></label><div class=\"sk-toggleable__content fitted\"><pre>LinearRegression()</pre></div> </div></div></div></div>"
            ]
          },
          "metadata": {},
          "execution_count": 12
        }
      ]
    },
    {
      "cell_type": "markdown",
      "source": [
        "Infine, siamo pronti per confrontare i risultati ottenuti con `scikit-learn` con quelli otteuti, per lo stesso *dataset* calcolando esplicitamente lo stimatore $\\hat {\\mathbf \\Theta}$.\n",
        "\n",
        "Una volta chiamata la funzione `fit`, la classe `LinearRegression` espone due variabili membro chiamate `intercept_` e `coef_` che contengono gli stimatori per le matrici che noi abbiamo chiamato rispettivamente $\\vec b$ e $\\mathbf A$.\n",
        "Seguendo quanto discusso sopra, possiamo ricostruire la matrice $\\hat {\\mathbf \\Theta}$ usando come prima colonna $\\vec b$ seguita dalle colonne di $\\mathbf A$. Ossia:"
      ],
      "metadata": {
        "id": "Xq79cB73qSl6"
      }
    },
    {
      "cell_type": "code",
      "source": [
        "theta_hat_sk = np.c_ [lm.intercept_, lm.coef_]\n",
        "\n",
        "print (theta_hat_sk)"
      ],
      "metadata": {
        "colab": {
          "base_uri": "https://localhost:8080/"
        },
        "id": "hLyoRCGnqRGm",
        "outputId": "75b9d4ac-dc1a-45d5-e3e2-f5e8c62996ae"
      },
      "execution_count": null,
      "outputs": [
        {
          "output_type": "stream",
          "name": "stdout",
          "text": [
            "[[0.98463643 1.99674625 3.00526496]\n",
            " [3.75746895 5.20015076 6.1218793 ]]\n"
          ]
        }
      ]
    },
    {
      "cell_type": "markdown",
      "source": [
        "Confrontando la soluzione ottenuta utilizzando `scikit-learn` con la soluzione ottenuta con il calcolo esplicito discusso sopra, otteniamo differenze dell'ordine di $10^{-14}$, compatibili con errori derivanti dal calcolo *floating point* ed in particolare dall'operazione inversione di matrice."
      ],
      "metadata": {
        "id": "bKRSHav6r6Cu"
      }
    },
    {
      "cell_type": "code",
      "source": [
        "theta_hat_sk - theta_hat"
      ],
      "metadata": {
        "colab": {
          "base_uri": "https://localhost:8080/"
        },
        "id": "Z8030wS6rmsW",
        "outputId": "cfe5b774-e575-4475-dd1d-8a11c255047a"
      },
      "execution_count": null,
      "outputs": [
        {
          "output_type": "execute_result",
          "data": {
            "text/plain": [
              "array([[-4.03010958e-14,  7.54951657e-15,  5.55111512e-14],\n",
              "       [-5.63993297e-14, -9.76996262e-15,  4.35207426e-14]])"
            ]
          },
          "metadata": {},
          "execution_count": 14
        }
      ]
    },
    {
      "cell_type": "markdown",
      "source": [
        "Utilizzando la funzione `predict`, poi, possiamo calcolare la predizione del modello lineare per ciascun valore del campione di addestramento e confrontarla con il valore misurato. I valori così ottenuti, in gergo, sono chiamati **residui**."
      ],
      "metadata": {
        "id": "ihTc900vsVJN"
      }
    },
    {
      "cell_type": "code",
      "source": [
        "y_hat = lm.predict(np.c_[x_1, x_2])\n",
        "\n",
        "plt.hist (y_hat[:,0] - y[:,0], bins = 20)\n",
        "plt.xlabel (\"Residui $y_0$\")\n",
        "plt.ylabel (\"Osservazioni\")\n",
        "plt.show()\n",
        "\n",
        "plt.hist (y_hat[:,1] - y[:,1], bins = 20)\n",
        "plt.xlabel (\"Residui $y_1$\")\n",
        "plt.ylabel (\"Osservazioni\")\n",
        "plt.show()"
      ],
      "metadata": {
        "colab": {
          "base_uri": "https://localhost:8080/",
          "height": 889
        },
        "id": "LFbfKYGJsRCO",
        "outputId": "10851609-56a5-479d-da44-68034afdfe40"
      },
      "execution_count": null,
      "outputs": [
        {
          "output_type": "display_data",
          "data": {
            "text/plain": [
              "<Figure size 640x480 with 1 Axes>"
            ],
            "image/png": "[encoded data removed]"
          },
          "metadata": {}
        },
        {
          "output_type": "display_data",
          "data": {
            "text/plain": [
              "<Figure size 640x480 with 1 Axes>"
            ],
            "image/png": "[encoded data removed]"
          },
          "metadata": {}
        }
      ]
    },
    {
      "cell_type": "markdown",
      "source": [
        "# Regressione lineare con `iminuit`\n",
        "\n",
        "Un metodo alternativo e più generale per affrontare la regressione lineare è l'ottimizzazione numerica della funzione di verosimilianza, o, per errori gaussiani sulle variabili dipendenti (*y*), la funzione $\\chi^2$.\n",
        "\n",
        "Esistono svariati pacchetti per ottimizzare funzioni in modo numerico, qui utilizzeremo `iminuit`, l'interfaccia interattiva a Minuit, software di ottimizzazione sviluppato al CERN e tutt'ora ampiamente utilizzato per le analisi in fisica delle alte energie.\n",
        "\n",
        "Minuit non è installato in colab per default, quindi dovremo installarlo dal Python Package Index prima di poterlo importare nel nostro notebook."
      ],
      "metadata": {
        "id": "VqrGqiVCXaIQ"
      }
    },
    {
      "cell_type": "code",
      "source": [
        "!pip install iminuit\n",
        "from iminuit import Minuit"
      ],
      "metadata": {
        "colab": {
          "base_uri": "https://localhost:8080/"
        },
        "id": "Ax8Vl4_edNHi",
        "outputId": "e1429e41-249b-4895-e2bf-086c43625d00"
      },
      "execution_count": null,
      "outputs": [
        {
          "output_type": "stream",
          "name": "stdout",
          "text": [
            "Requirement already satisfied: iminuit in /usr/local/lib/python3.11/dist-packages (2.30.1)\n",
            "Requirement already satisfied: numpy>=1.21 in /usr/local/lib/python3.11/dist-packages (from iminuit) (2.0.2)\n"
          ]
        }
      ]
    },
    {
      "cell_type": "markdown",
      "source": [
        "Per autoconsistenza, rigeneriamo il dataset \"sperimentale\" su cui esercitarci,\n",
        "partendo dalla stessa matrice $\\mathbf{\\Theta}$ usata in precedenza."
      ],
      "metadata": {
        "id": "f-w7xFD-eHNC"
      }
    },
    {
      "cell_type": "code",
      "source": [
        "theta_true = np.array([[1, 2, 3],\n",
        "                       [4, 5, 6]])\n",
        "\n",
        "n_samples = 100\n",
        "sigma = 0.1\n",
        "x = np.c_[np.random.uniform(0, 1, n_samples), np.random.uniform(1, 2, n_samples)]\n",
        "x_p = np.c_[np.ones(n_samples), x]\n",
        "y = np.random.normal (theta_true @ x_p.T, sigma).T"
      ],
      "metadata": {
        "id": "eKCq00bqXY-K"
      },
      "execution_count": null,
      "outputs": []
    },
    {
      "cell_type": "markdown",
      "source": [
        "Definiamo la funzione del modello, in questo caso è semplicemente il prodotto matriciale $\\Theta x'$, ma potrebbe essere una funzione arbitrariamente complessa, definita da parametri passati come argomenti."
      ],
      "metadata": {
        "id": "RGO916nTeb1Y"
      }
    },
    {
      "cell_type": "code",
      "source": [
        "def model(x, theta):\n",
        "  return (theta @ x.T).T"
      ],
      "metadata": {
        "id": "HuoyRHDyeX35"
      },
      "execution_count": null,
      "outputs": []
    },
    {
      "cell_type": "markdown",
      "source": [
        "Definiamo quindi la funzione da minimizzare, nel nostro caso utilizzermo il cosiddetto *Mean Squared Error*, errore quadratico medio, che è uguale al $\\chi^2$ se $\\sigma_i = 1\\ \\forall i$.\n",
        "\n",
        "Si noti che la funzione costo, deve dipendere *unicamente* dai parametri rispetto ai quali minimizzare. Le variabili dipendenti e indipendenti che costituiscono il dataset sono definite come variabili globali e non vengono passate come argomenti."
      ],
      "metadata": {
        "id": "SocKe-yMex_u"
      }
    },
    {
      "cell_type": "code",
      "source": [
        "def mse(a11, a12, a21, a22, b1, b2):\n",
        "  theta = np.c_[[b1, b2], [a11, a21], [a12, a22]]\n",
        "  return np.sum(np.square(y - model(x_p, theta)))"
      ],
      "metadata": {
        "id": "FgbSx0gkeybm"
      },
      "execution_count": null,
      "outputs": []
    },
    {
      "cell_type": "markdown",
      "source": [
        "Infine, passiamo la funzione a Minuit insieme ai valori iniziali (o *guess*) per i parametri che la definiscono.\n",
        "\n",
        "Scegliamo la definizione di errore (tipicamente 0.5 se stiamo minimizzando una *negative log likelihood*, oppure 1 se stiamo minimizzando un $\\chi^2$. In questo caso stiamo minimizzando un MSE quindi l'errore in ogni caso non sarà definito correttamente).\n",
        "\n",
        "E infine avviamo la minimizzazione con l'algoritmo [MIGRAD](https://root.cern.ch/doc/master/classTMinuit.html), che stima la posizione del minimo dal gradiente della funzione di costo.\n",
        "\n",
        "Per funzioni costo in cui il gradiente non è ben definito, si può utilizzare SIMPLEX (con il metodo `.simplex()`)."
      ],
      "metadata": {
        "id": "ip_N8VPGfEP7"
      }
    },
    {
      "cell_type": "code",
      "source": [
        "m = Minuit(mse, a11=1, a12=1, a21=1, a22=1, b1=0, b2=0)\n",
        "m.errordef = 1\n",
        "\n",
        "m.migrad()"
      ],
      "metadata": {
        "colab": {
          "base_uri": "https://localhost:8080/",
          "height": 450
        },
        "id": "uQ5XXKrUfE2_",
        "outputId": "7d5ef7b8-4f9b-440a-b617-8eb91733e3a0"
      },
      "execution_count": null,
      "outputs": [
        {
          "output_type": "execute_result",
          "data": {
            "text/plain": [
              "┌─────────────────────────────────────────────────────────────────────────┐\n",
              "│                                Migrad                                   │\n",
              "├──────────────────────────────────┬──────────────────────────────────────┤\n",
              "│ FCN = 1.884                      │              Nfcn = 119              │\n",
              "│ EDM = 8.66e-09 (Goal: 0.0002)    │                                      │\n",
              "├──────────────────────────────────┼──────────────────────────────────────┤\n",
              "│          Valid Minimum           │   Below EDM threshold (goal x 10)    │\n",
              "├──────────────────────────────────┼──────────────────────────────────────┤\n",
              "│      No parameters at limit      │           Below call limit           │\n",
              "├──────────────────────────────────┼──────────────────────────────────────┤\n",
              "│             Hesse ok             │         Covariance accurate          │\n",
              "└──────────────────────────────────┴──────────────────────────────────────┘\n",
              "┌───┬──────┬───────────┬───────────┬────────────┬────────────┬─────────┬─────────┬───────┐\n",
              "│   │ Name │   Value   │ Hesse Err │ Minos Err- │ Minos Err+ │ Limit-  │ Limit+  │ Fixed │\n",
              "├───┼──────┼───────────┼───────────┼────────────┼────────────┼─────────┼─────────┼───────┤\n",
              "│ 0 │ a11  │    2.0    │    0.4    │            │            │         │         │       │\n",
              "│ 1 │ a12  │   3.00    │   0.34    │            │            │         │         │       │\n",
              "│ 2 │ a21  │    5.0    │    0.4    │            │            │         │         │       │\n",
              "│ 3 │ a22  │   6.02    │   0.34    │            │            │         │         │       │\n",
              "│ 4 │ b1   │    1.0    │    0.5    │            │            │         │         │       │\n",
              "│ 5 │ b2   │    4.0    │    0.5    │            │            │         │         │       │\n",
              "└───┴──────┴───────────┴───────────┴────────────┴────────────┴─────────┴─────────┴───────┘\n",
              "┌─────┬─────────────────────────────────────┐\n",
              "│     │   a11   a12   a21   a22    b1    b2 │\n",
              "├─────┼─────────────────────────────────────┤\n",
              "│ a11 │ 0.156 -0.03  0.00  0.00 -0.03 -0.00 │\n",
              "│ a12 │ -0.03 0.119 -0.00  0.00 -0.16 -0.00 │\n",
              "│ a21 │  0.00 -0.00 0.156 -0.03  0.00 -0.03 │\n",
              "│ a22 │  0.00  0.00 -0.03 0.119 -0.00 -0.16 │\n",
              "│  b1 │ -0.03 -0.16  0.00 -0.00 0.247  0.00 │\n",
              "│  b2 │ -0.00 -0.00 -0.03 -0.16  0.00 0.247 │\n",
              "└─────┴─────────────────────────────────────┘"
            ],
            "text/html": [
              "<table>\n",
              "    <tr>\n",
              "        <th colspan=\"2\" style=\"text-align:center\" title=\"Minimizer\"> Migrad </th>\n",
              "    </tr>\n",
              "    <tr>\n",
              "        <td style=\"text-align:left\" title=\"Minimum value of function\"> FCN = 1.884 </td>\n",
              "        <td style=\"text-align:center\" title=\"Total number of function and (optional) gradient evaluations\"> Nfcn = 119 </td>\n",
              "    </tr>\n",
              "    <tr>\n",
              "        <td style=\"text-align:left\" title=\"Estimated distance to minimum and goal\"> EDM = 8.66e-09 (Goal: 0.0002) </td>\n",
              "        <td style=\"text-align:center\" title=\"Total run time of algorithms\">  </td>\n",
              "    </tr>\n",
              "    <tr>\n",
              "        <td style=\"text-align:center;background-color:#92CCA6;color:black\"> Valid Minimum </td>\n",
              "        <td style=\"text-align:center;background-color:#92CCA6;color:black\"> Below EDM threshold (goal x 10) </td>\n",
              "    </tr>\n",
              "    <tr>\n",
              "        <td style=\"text-align:center;background-color:#92CCA6;color:black\"> No parameters at limit </td>\n",
              "        <td style=\"text-align:center;background-color:#92CCA6;color:black\"> Below call limit </td>\n",
              "    </tr>\n",
              "    <tr>\n",
              "        <td style=\"text-align:center;background-color:#92CCA6;color:black\"> Hesse ok </td>\n",
              "        <td style=\"text-align:center;background-color:#92CCA6;color:black\"> Covariance accurate </td>\n",
              "    </tr>\n",
              "</table><table>\n",
              "    <tr>\n",
              "        <td></td>\n",
              "        <th title=\"Variable name\"> Name </th>\n",
              "        <th title=\"Value of parameter\"> Value </th>\n",
              "        <th title=\"Hesse error\"> Hesse Error </th>\n",
              "        <th title=\"Minos lower error\"> Minos Error- </th>\n",
              "        <th title=\"Minos upper error\"> Minos Error+ </th>\n",
              "        <th title=\"Lower limit of the parameter\"> Limit- </th>\n",
              "        <th title=\"Upper limit of the parameter\"> Limit+ </th>\n",
              "        <th title=\"Is the parameter fixed in the fit\"> Fixed </th>\n",
              "    </tr>\n",
              "    <tr>\n",
              "        <th> 0 </th>\n",
              "        <td> a11 </td>\n",
              "        <td> 2.0 </td>\n",
              "        <td> 0.4 </td>\n",
              "        <td>  </td>\n",
              "        <td>  </td>\n",
              "        <td>  </td>\n",
              "        <td>  </td>\n",
              "        <td>  </td>\n",
              "    </tr>\n",
              "    <tr>\n",
              "        <th> 1 </th>\n",
              "        <td> a12 </td>\n",
              "        <td> 3.00 </td>\n",
              "        <td> 0.34 </td>\n",
              "        <td>  </td>\n",
              "        <td>  </td>\n",
              "        <td>  </td>\n",
              "        <td>  </td>\n",
              "        <td>  </td>\n",
              "    </tr>\n",
              "    <tr>\n",
              "        <th> 2 </th>\n",
              "        <td> a21 </td>\n",
              "        <td> 5.0 </td>\n",
              "        <td> 0.4 </td>\n",
              "        <td>  </td>\n",
              "        <td>  </td>\n",
              "        <td>  </td>\n",
              "        <td>  </td>\n",
              "        <td>  </td>\n",
              "    </tr>\n",
              "    <tr>\n",
              "        <th> 3 </th>\n",
              "        <td> a22 </td>\n",
              "        <td> 6.02 </td>\n",
              "        <td> 0.34 </td>\n",
              "        <td>  </td>\n",
              "        <td>  </td>\n",
              "        <td>  </td>\n",
              "        <td>  </td>\n",
              "        <td>  </td>\n",
              "    </tr>\n",
              "    <tr>\n",
              "        <th> 4 </th>\n",
              "        <td> b1 </td>\n",
              "        <td> 1.0 </td>\n",
              "        <td> 0.5 </td>\n",
              "        <td>  </td>\n",
              "        <td>  </td>\n",
              "        <td>  </td>\n",
              "        <td>  </td>\n",
              "        <td>  </td>\n",
              "    </tr>\n",
              "    <tr>\n",
              "        <th> 5 </th>\n",
              "        <td> b2 </td>\n",
              "        <td> 4.0 </td>\n",
              "        <td> 0.5 </td>\n",
              "        <td>  </td>\n",
              "        <td>  </td>\n",
              "        <td>  </td>\n",
              "        <td>  </td>\n",
              "        <td>  </td>\n",
              "    </tr>\n",
              "</table><table>\n",
              "    <tr>\n",
              "        <td></td>\n",
              "        <th> a11 </th>\n",
              "        <th> a12 </th>\n",
              "        <th> a21 </th>\n",
              "        <th> a22 </th>\n",
              "        <th> b1 </th>\n",
              "        <th> b2 </th>\n",
              "    </tr>\n",
              "    <tr>\n",
              "        <th> a11 </th>\n",
              "        <td> 0.156 </td>\n",
              "        <td style=\"background-color:rgb(220,220,250);color:black\"> -0.03 <strong>(-0.228)</strong> </td>\n",
              "        <td style=\"background-color:rgb(250,250,250);color:black\"> 0.00 </td>\n",
              "        <td style=\"background-color:rgb(250,250,250);color:black\"> 0.00 </td>\n",
              "        <td style=\"background-color:rgb(231,231,250);color:black\"> -0.03 <strong>(-0.146)</strong> </td>\n",
              "        <td style=\"background-color:rgb(250,250,250);color:black\"> -0.00 </td>\n",
              "    </tr>\n",
              "    <tr>\n",
              "        <th> a12 </th>\n",
              "        <td style=\"background-color:rgb(220,220,250);color:black\"> -0.03 <strong>(-0.228)</strong> </td>\n",
              "        <td> 0.119 </td>\n",
              "        <td style=\"background-color:rgb(250,250,250);color:black\"> -0.00 </td>\n",
              "        <td style=\"background-color:rgb(250,250,250);color:black\"> 0.00 </td>\n",
              "        <td style=\"background-color:rgb(132,132,250);color:black\"> -0.16 <strong>(-0.910)</strong> </td>\n",
              "        <td style=\"background-color:rgb(250,250,250);color:black\"> -0.00 </td>\n",
              "    </tr>\n",
              "    <tr>\n",
              "        <th> a21 </th>\n",
              "        <td style=\"background-color:rgb(250,250,250);color:black\"> 0.00 </td>\n",
              "        <td style=\"background-color:rgb(250,250,250);color:black\"> -0.00 </td>\n",
              "        <td> 0.156 </td>\n",
              "        <td style=\"background-color:rgb(220,220,250);color:black\"> -0.03 <strong>(-0.228)</strong> </td>\n",
              "        <td style=\"background-color:rgb(250,250,250);color:black\"> 0.00 </td>\n",
              "        <td style=\"background-color:rgb(231,231,250);color:black\"> -0.03 <strong>(-0.146)</strong> </td>\n",
              "    </tr>\n",
              "    <tr>\n",
              "        <th> a22 </th>\n",
              "        <td style=\"background-color:rgb(250,250,250);color:black\"> 0.00 </td>\n",
              "        <td style=\"background-color:rgb(250,250,250);color:black\"> 0.00 </td>\n",
              "        <td style=\"background-color:rgb(220,220,250);color:black\"> -0.03 <strong>(-0.228)</strong> </td>\n",
              "        <td> 0.119 </td>\n",
              "        <td style=\"background-color:rgb(250,250,250);color:black\"> -0.00 </td>\n",
              "        <td style=\"background-color:rgb(132,132,250);color:black\"> -0.16 <strong>(-0.910)</strong> </td>\n",
              "    </tr>\n",
              "    <tr>\n",
              "        <th> b1 </th>\n",
              "        <td style=\"background-color:rgb(231,231,250);color:black\"> -0.03 <strong>(-0.146)</strong> </td>\n",
              "        <td style=\"background-color:rgb(132,132,250);color:black\"> -0.16 <strong>(-0.910)</strong> </td>\n",
              "        <td style=\"background-color:rgb(250,250,250);color:black\"> 0.00 </td>\n",
              "        <td style=\"background-color:rgb(250,250,250);color:black\"> -0.00 </td>\n",
              "        <td> 0.247 </td>\n",
              "        <td style=\"background-color:rgb(250,250,250);color:black\"> 0.00 </td>\n",
              "    </tr>\n",
              "    <tr>\n",
              "        <th> b2 </th>\n",
              "        <td style=\"background-color:rgb(250,250,250);color:black\"> -0.00 </td>\n",
              "        <td style=\"background-color:rgb(250,250,250);color:black\"> -0.00 </td>\n",
              "        <td style=\"background-color:rgb(231,231,250);color:black\"> -0.03 <strong>(-0.146)</strong> </td>\n",
              "        <td style=\"background-color:rgb(132,132,250);color:black\"> -0.16 <strong>(-0.910)</strong> </td>\n",
              "        <td style=\"background-color:rgb(250,250,250);color:black\"> 0.00 </td>\n",
              "        <td> 0.247 </td>\n",
              "    </tr>\n",
              "</table>"
            ]
          },
          "metadata": {},
          "execution_count": 61
        }
      ]
    },
    {
      "cell_type": "markdown",
      "source": [
        "Infine confrontiamo i risultati ottenuti con la regressione numerica con quelli ottenuti utilizzando scikit-learn, che implementa l'algoritmo analitico."
      ],
      "metadata": {
        "id": "6dZ3zps3gRCC"
      }
    },
    {
      "cell_type": "code",
      "source": [
        "from IPython.display import Markdown\n",
        "display(Markdown(r\"\"\"\n",
        "$$\n",
        "\\vec b_{\\mathrm{minuit}} = \\left(\n",
        "  \\begin{array}{c}\n",
        "    %(b1).2f \\\\\n",
        "    %(b2).2f\\\\\n",
        "  \\end{array}\n",
        "  \\right)\n",
        "\\qquad\n",
        "\\mathbf{A}_{\\mathrm{minuit}} = \\left(\n",
        "  \\begin{array}{cc}\n",
        "    %(a11).2f & %(a12).2f \\\\\n",
        "    %(a21).2f & %(a22).2f \\\\\n",
        "  \\end{array}\n",
        "  \\right)\n",
        "$$\n",
        "\"\"\" % dict(**{k: m.values[k] for k in ('a11', 'a12', 'a21', 'a22', 'b1', 'b2')})))\n",
        "\n",
        "from sklearn.linear_model import LinearRegression\n",
        "\n",
        "lr = LinearRegression().fit(x, y)\n",
        "a_ = lr.coef_\n",
        "b_ = lr.intercept_\n",
        "\n",
        "display(Markdown(r\"\"\"\n",
        "$$\n",
        "\\vec b_{\\mathrm{sklearn}} = \\left(\n",
        "  \\begin{array}{c}\n",
        "    %(b1).2f \\\\\n",
        "    %(b2).2f\\\\\n",
        "  \\end{array}\n",
        "  \\right)\n",
        "\\qquad\n",
        "\\mathbf{A}_{\\mathrm{sklearn}} = \\left(\n",
        "  \\begin{array}{cc}\n",
        "    %(a11).2f & %(a12).2f \\\\\n",
        "    %(a21).2f & %(a22).2f \\\\\n",
        "  \\end{array}\n",
        "  \\right)\n",
        "$$\n",
        "\"\"\" % dict(a11=a_[0, 0], a12=a_[0, 1], a21=a_[1, 0], a22=a_[1, 1], b1=b_[0], b2=b_[1])))"
      ],
      "metadata": {
        "colab": {
          "base_uri": "https://localhost:8080/",
          "height": 116
        },
        "id": "FZxqtjfoaMRe",
        "outputId": "f32d6be6-0a83-447a-f7ef-6917c0953a93"
      },
      "execution_count": null,
      "outputs": [
        {
          "output_type": "display_data",
          "data": {
            "text/plain": [
              "<IPython.core.display.Markdown object>"
            ],
            "text/markdown": "\n$$\n\\vec b_{\\mathrm{minuit}} = \\left(\n  \\begin{array}{c}\n    1.01 \\\\\n    3.99\\\\\n  \\end{array}\n  \\right)\n\\qquad\n\\mathbf{A}_{\\mathrm{minuit}} = \\left(\n  \\begin{array}{cc}\n    1.98 & 3.00 \\\\\n    5.00 & 6.02 \\\\\n  \\end{array}\n  \\right)\n$$\n"
          },
          "metadata": {}
        },
        {
          "output_type": "display_data",
          "data": {
            "text/plain": [
              "<IPython.core.display.Markdown object>"
            ],
            "text/markdown": "\n$$\n\\vec b_{\\mathrm{sklearn}} = \\left(\n  \\begin{array}{c}\n    1.01 \\\\\n    3.99\\\\\n  \\end{array}\n  \\right)\n\\qquad\n\\mathbf{A}_{\\mathrm{sklearn}} = \\left(\n  \\begin{array}{cc}\n    1.98 & 3.00 \\\\\n    5.00 & 6.02 \\\\\n  \\end{array}\n  \\right)\n$$\n"
          },
          "metadata": {}
        }
      ]
    },
    {
      "cell_type": "markdown",
      "source": [
        "## Regressione polinomiale\n",
        "Utilizzando l'equazione normale, possiamo tentare di risolvere problemi non lineari rappresentando come variabili indipendenti le potenze delle variabili di input. In questo modo aumentiamo artificiosamente la dimensionalità del problema per trarre profitto dall'osservazione che è più semplice risolvere un problema lineare in molte variabili che risolvere un problema non-lineare in poche variabili.\n",
        "\n",
        "Per fare un esempio, proviamo a utilizzare un modello lineare per rappresentare la funzione\n",
        "$$\n",
        "y = \\cos(x)\n",
        "$$\n",
        "ipotizzando di conoscere 100 coppie di punti $(x,y)$ con un'incertezza su $y$ pari a $\\pm 0.1$."
      ],
      "metadata": {
        "id": "dv6_ZHKQlcKg"
      }
    },
    {
      "cell_type": "code",
      "source": [
        "x = np.random.uniform (0, 4*np.pi, 100)\n",
        "y = np.random.normal (np.cos(x), 0.1)\n",
        "\n",
        "plt.plot(x, y, '.')\n",
        "plt.xlabel(\"x\")\n",
        "plt.ylabel(\"y\")\n",
        "plt.title(\"Input data\")\n",
        "plt.show()"
      ],
      "metadata": {
        "colab": {
          "base_uri": "https://localhost:8080/",
          "height": 472
        },
        "id": "-UH6aQc4l65z",
        "outputId": "2498404f-a7d4-47fe-85a9-b77fefc0b5e6"
      },
      "execution_count": null,
      "outputs": [
        {
          "output_type": "display_data",
          "data": {
            "text/plain": [
              "<Figure size 640x480 with 1 Axes>"
            ],
            "image/png": "[encoded data removed]"
          },
          "metadata": {}
        }
      ]
    },
    {
      "cell_type": "markdown",
      "source": [
        "Chiaramente, utilizzando una semplice regressione lineare otterremo una retta che approssima l'asse delle ascisse. Possiamo però definire un nuovo dataset mappando la variabile di input $x$ in un vettore di variabili di input\n",
        "$$\n",
        " \\mathbf X = \\{x_i^j\\}_{i,j} \\quad \\mathrm{per\\ } j = 1, 2, ..., k\n",
        "$$\n",
        "in cui il primo indice corre sul campionamento $(x_i, y_i)$ ed il secondo viene utilizzato come esponente dell'elevamento a potenza di $x_i$.\n",
        "\n",
        "Osservando che la funzione coseno è una funzione pari, possiamo rinunciare a tutte le potenze dispari.\n",
        "\n",
        "Vediamo come migliora la qualità del modello polinomiale all'aumentare di $k$."
      ],
      "metadata": {
        "id": "1-fvBlynNLFl"
      }
    },
    {
      "cell_type": "code",
      "source": [
        "plt.plot(x, y, '.')\n",
        "\n",
        "for order in range(2, 9, 2):\n",
        "  powers_of_x = [x**i for i in range(1,order+1)]\n",
        "  X = np.array (powers_of_x).T\n",
        "  lm = LinearRegression().fit (X, y)\n",
        "\n",
        "  xAxis = np.linspace(0, 4*np.pi, 100)\n",
        "  y_hat = lm.predict(np.array([xAxis**i for i in range(1,order+1)]).T)\n",
        "\n",
        "  plt.plot(xAxis, y_hat, label=f'Order {order}')\n",
        "\n",
        "plt.xlabel(\"x\")\n",
        "plt.ylabel(\"y\")\n",
        "\n",
        "plt.legend()\n",
        "plt.show()"
      ],
      "metadata": {
        "colab": {
          "base_uri": "https://localhost:8080/",
          "height": 449
        },
        "id": "NpuL51rFl-Bj",
        "outputId": "f60a76b7-7aab-4c90-8a94-83580da2d099"
      },
      "execution_count": null,
      "outputs": [
        {
          "output_type": "display_data",
          "data": {
            "text/plain": [
              "<Figure size 640x480 with 1 Axes>"
            ],
            "image/png": "[encoded data removed]"
          },
          "metadata": {}
        }
      ]
    },
    {
      "cell_type": "markdown",
      "source": [
        "### Limiti del modello polinomiale\n",
        "#### Estrapolazioni\n",
        "Per quanto semplice e veloce, il modello polinomiale è del tutto inadeguato nelle *estrapolazioni*, cioè nelle valutazioni della funzione al di fuori dell'intervallo in cui si collocano i valori del campione di addestramento.\n",
        "\n",
        "Prendiamo ad esempio il caso di $k=8$ che descrive piuttosto bene il nostro campione di training definito nell'intervallo $[0, 4\\pi]$ e valutiamolo fino a $4.2\\pi$. Il risultato è quanto mai deludente: si perde persino il comportamento oscillatorio."
      ],
      "metadata": {
        "id": "7m9Iy3BQOuWS"
      }
    },
    {
      "cell_type": "code",
      "source": [
        "\n",
        "plt.plot(x, y, '.')\n",
        "\n",
        "order = 8\n",
        "powers_of_x = [x**i for i in range(1,order+1)]\n",
        "X = np.array (powers_of_x).T\n",
        "lm = LinearRegression().fit (X, y)\n",
        "\n",
        "xAxis = np.linspace(0, 4.2*np.pi, 100)\n",
        "y_hat = lm.predict(np.array([xAxis**i for i in range(1,order+1)]).T)\n",
        "\n",
        "plt.plot(xAxis, y_hat, label=f'Order {order}')\n",
        "\n",
        "plt.xlabel(\"x\")\n",
        "plt.ylabel(\"y\")\n",
        "\n",
        "plt.legend()\n",
        "plt.show()"
      ],
      "metadata": {
        "colab": {
          "base_uri": "https://localhost:8080/",
          "height": 449
        },
        "id": "GWGRK20VmpL2",
        "outputId": "6c201105-7085-4bb0-f12e-a35d0834f22a"
      },
      "execution_count": null,
      "outputs": [
        {
          "output_type": "display_data",
          "data": {
            "text/plain": [
              "<Figure size 640x480 with 1 Axes>"
            ],
            "image/png": "[encoded data removed]"
          },
          "metadata": {}
        }
      ]
    },
    {
      "cell_type": "markdown",
      "source": [
        "#### Errori numerici nell'inversione di matrice\n",
        "Alla base del metodo lineare c'è una inversione di matrice. Se la matrice da invertire è quasi singolare, gli errori numerici nell'inversione diventano molto importanti e possono pregiudicare la qualità del modello ottenuto dal fit.\n",
        "Una matrice è singolare, ad esempio, se un'intera riga o colonna è zero. Se una delle variabili $x$ è molto più grande delle altre, allora la riga di coefficienti corrispondente sarà molto piccola e spingerà la matrice $\\mathbf C$ verso una condizione di singolarità, rendendone più difficoltosa l'inversione.\n",
        "\n",
        "Questo problema nasce chiaramente anche nel caso delle regressioni polinimiali poiché il risultato ottenuto elevando a potenze grandi la variabile $x$ può essere molto più grande o molto più piccolo di $x$.\n",
        "\n",
        "Si può mitigare questo problema riscalando il set di variabili $\\mathbf X$ in modo che abbiano tutte media 0 e deviazione standard 1. Questa operazione, che in scikit-learn prende il nome di *standard scaling* consente di ridurre i problemi numerici che insorgono nelle ottimizzazioni (in questo caso basate sull'inversione di una matrice, ma il principio è vero in generale).\n",
        "\n",
        "Vediamo un esempio."
      ],
      "metadata": {
        "id": "Gn3ba9w4P7rh"
      }
    },
    {
      "cell_type": "code",
      "source": [
        "from sklearn.preprocessing import StandardScaler\n",
        "from sklearn.pipeline import Pipeline\n",
        "\n",
        "plt.plot(x, y, '.')\n",
        "ylim = plt.ylim()\n",
        "\n",
        "order = 20\n",
        "powers_of_x = [x**i for i in range(1,order+1)]\n",
        "X = np.array (powers_of_x).T\n",
        "lm = LinearRegression().fit (X, y)\n",
        "lm_std = Pipeline( [('scaler', StandardScaler()), ('regression', LinearRegression())])\n",
        "lm_std.fit (X, y)\n",
        "\n",
        "xAxis = np.linspace(0, 4*np.pi, 100)\n",
        "y_hat = lm.predict(np.array([xAxis**i for i in range(1,order+1)]).T)\n",
        "y_hat_std = lm_std.predict(np.array([xAxis**i for i in range(1,order+1)]).T)\n",
        "\n",
        "plt.plot(xAxis, y_hat, label=f'Order {order}')\n",
        "plt.plot(xAxis, y_hat_std, label=f'Order {order}; with Scaling')\n",
        "\n",
        "plt.ylim(ylim)\n",
        "\n",
        "plt.xlabel(\"x\")\n",
        "plt.ylabel(\"y\")\n",
        "\n",
        "plt.legend()\n",
        "plt.show()"
      ],
      "metadata": {
        "colab": {
          "base_uri": "https://localhost:8080/",
          "height": 449
        },
        "id": "jn4nmQ8EsrNG",
        "outputId": "67eac430-fed9-46e4-90e9-53f82c7842f2"
      },
      "execution_count": null,
      "outputs": [
        {
          "output_type": "display_data",
          "data": {
            "text/plain": [
              "<Figure size 640x480 with 1 Axes>"
            ],
            "image/png": "[encoded data removed]"
          },
          "metadata": {}
        }
      ]
    },
    {
      "cell_type": "markdown",
      "source": [
        "#### *Overfitting* o *Overtraining*\n",
        "Se aumentiamo eccessivamente l'ordine del polinomio utilizzato per il fit, anche lo scaling non è sufficiente a mitigare i problemi numerici e osserviamo comportamenti oscillatori molto rapidi.\n",
        "\n",
        "Alcune di queste oscillazioni sono dovute al fatto che le fluttuazioni statistiche del dataset vengono interpretate dal modello come statisticamente rilevanti. Questo è un fenomeno che avviene spesso (quasi sempre, a dire il vero) in *machine learning* indipendentemente dal modello utilizzato ed è chiamato *over-training* o *over-fitting*.\n",
        "\n",
        "A grandi $x$, tuttavia, continuiamo a vedere oscillazioni violente dovute al fatto che stiamo sottraendo numeri grandi per ottenere numeri piccoli, e come sappiamo, questo introduce un errore numerico importante per via della precisione limitata nella rappresentazione *floating-point*."
      ],
      "metadata": {
        "id": "BQYxnbVlRmhv"
      }
    },
    {
      "cell_type": "code",
      "source": [
        "from sklearn.preprocessing import MinMaxScaler\n",
        "from sklearn.pipeline import Pipeline\n",
        "\n",
        "plt.plot(x, y, '.')\n",
        "ylim = plt.ylim()\n",
        "\n",
        "order = 200\n",
        "X = np.array([x**i for i in range(1,order+1)]).T\n",
        "\n",
        "lm = LinearRegression().fit (X, y)\n",
        "lm_std = Pipeline( [('scaler', MinMaxScaler()), ('regression', LinearRegression())])\n",
        "lm_std.fit (X, y)\n",
        "\n",
        "xAxis = np.linspace(0.*np.pi, 4*np.pi, 100)\n",
        "y_hat_std = lm_std.predict(np.array([xAxis**i for i in range(1,order+1)]).T)\n",
        "\n",
        "plt.plot(xAxis, y_hat_std, label=f'Order {order}; with Scaling')\n",
        "\n",
        "plt.xlabel(\"x\")\n",
        "plt.ylabel(\"y\")\n",
        "\n",
        "plt.ylim (ylim)\n",
        "\n",
        "plt.legend()\n",
        "plt.show()"
      ],
      "metadata": {
        "colab": {
          "base_uri": "https://localhost:8080/",
          "height": 449
        },
        "id": "dd7YqEkSsjKy",
        "outputId": "608d02eb-ec4b-4cac-b169-bf701e0c5215"
      },
      "execution_count": null,
      "outputs": [
        {
          "output_type": "display_data",
          "data": {
            "text/plain": [
              "<Figure size 640x480 with 1 Axes>"
            ],
            "image/png": "[encoded data removed]"
          },
          "metadata": {}
        }
      ]
    },
    {
      "cell_type": "markdown",
      "source": [
        "## Conclusione\n",
        "Il modello lineare è un modello statistico di regressione semplice e robusto. Non richiede minimizzazione numerica del gradiente poiché può essere risolto analiticamente e tradotto in un problema di inversione di matrice.\n",
        "\n",
        "Possiamo generalizzare il modello lineare utilizzando come variabili indipendenti le potenze della variabile di input, ottenendo un modello polinomiale che ancora una volta non richiede minimizzazione numerica del gradiente. Tuttavia, passando dal modello lineare al modello polinomiale perdiamo la robustezza nelle estrapolazioni e possiamo incorrere in problemi di instabilità numerica e over-fitting, come in molti altri modelli di *machine-learning*."
      ],
      "metadata": {
        "id": "JfxjnE_OS_gj"
      }
    },
    {
      "cell_type": "code",
      "source": [],
      "metadata": {
        "id": "7-s-5QdYzUvt"
      },
      "execution_count": null,
      "outputs": []
    }
  ]
}