{
  "nbformat": 4,
  "nbformat_minor": 0,
  "metadata": {
    "colab": {
      "provenance": []
    },
    "kernelspec": {
      "name": "python3",
      "display_name": "Python 3"
    },
    "language_info": {
      "name": "python"
    }
  },
  "cells": [
    {
      "cell_type": "markdown",
      "metadata": {
        "id": "41mnY36jxQSe"
      },
      "source": [
        "# Python pills (for Data Analysis in Subnuclear Physics)\n",
        "\n",
        "---\n",
        "### Contacts\n",
        " * Lucio Anderlini: Lucio.Anderlini@fi.infn.it\n",
        " * Piergiulio Lenzi: Piergiulio.Lenzi@fi.infn.it\n",
        "---\n",
        "\n",
        "Python is a general-purpose programming language designed to be easily readable and quick to write. These features, along with several technological innovations compared to compiled languages, have made it one of the gold standards for data science and data analysis.\n",
        "\n",
        "In this notebook, we will discuss the basic syntax of Python and introduce some fundamental concepts of Object-Oriented Programming (OOP), a programming paradigm widely adopted by the libraries we will explore in future lectures."
      ]
    },
    {
      "cell_type": "markdown",
      "metadata": {
        "id": "Ve987sFLdVM0"
      },
      "source": [
        "## Introduction\n",
        "\n",
        "As with any respectable programming course, let's start with the classic Hello World."
      ]
    },
    {
      "cell_type": "code",
      "metadata": {
        "colab": {
          "base_uri": "https://localhost:8080/"
        },
        "id": "EZp9Hmi0xNK4",
        "outputId": "f28c37e5-e54c-45ad-df71-55bc9a1a3c9c"
      },
      "source": [
        "print (\"Hello world\")"
      ],
      "execution_count": null,
      "outputs": [
        {
          "output_type": "stream",
          "name": "stdout",
          "text": [
            "Hello world\n"
          ]
        }
      ]
    },
    {
      "cell_type": "markdown",
      "source": [
        "The instruction `print(<string>)` is used to display the value of the `string` in the output cell. In fact, `print` itself is a program that is executed when followed by parentheses; it is called a *function*.\n",
        "\n",
        "The instruction that invokes the execution of a function (for example, `print('hello')`) is called a **function call**.\n",
        "\n",
        "The string can be a **variable**: it does not need to be an explicitly literal string typed between the parentheses. The variables a function can accept as *inputs* are called *arguments*. The *print* function can accept multiple arguments.\n",
        "\n",
        "For example,\n"
      ],
      "metadata": {
        "id": "Z4atK3P8Y11S"
      }
    },
    {
      "cell_type": "code",
      "execution_count": null,
      "metadata": {
        "colab": {
          "base_uri": "https://localhost:8080/"
        },
        "id": "sMnUIpvxW0ra",
        "outputId": "f0fc5024-8e00-4fa8-fa40-982c76865ec1"
      },
      "outputs": [
        {
          "output_type": "stream",
          "name": "stdout",
          "text": [
            "Hello world\n",
            "123\n",
            "123.0\n",
            "Hello world 123 123.0\n"
          ]
        }
      ],
      "source": [
        "## Define a string variable and print it\n",
        "a_string_variable = \"Hello world\"\n",
        "print (a_string_variable)\n",
        "\n",
        "## Define an integer variable and print it\n",
        "an_integer_variable = 123\n",
        "print (an_integer_variable)\n",
        "\n",
        "## Define a floating point variable and print it\n",
        "a_floating_point_variable = 123.\n",
        "print (a_floating_point_variable)\n",
        "\n",
        "## Print all the variables defined above in a single print statement\n",
        "print (a_string_variable, an_integer_variable, a_floating_point_variable)"
      ]
    },
    {
      "cell_type": "markdown",
      "source": [
        "# Conditions: the `if` statement\n",
        "\n",
        "As in the vast majority of programming languages, the logical flow of the program can be branched based on the values taken by variables.\n",
        "\n",
        "Branching is defined through the **`if`** statement using the following syntax:\n",
        "\n",
        "```python\n",
        "if <condition 1>:\n",
        "  # statements executed when condition 1 is satisfied\n",
        "elif <condition 2>:\n",
        "  # statements executed when condition 2 is satisfied\n",
        "elif <condition 3>:\n",
        "  # statements executed when:\n",
        "  #  - condition 1 is not satisfied\n",
        "  #  - condition 2 is not satisfied\n",
        "  #  - condition 3 is satisfied [...]\n",
        "else:\n",
        "  # statements executed when none of the above conditions are satisfied\n",
        "```\n",
        "\n",
        "For example,"
      ],
      "metadata": {
        "id": "oCKiaDCPagdO"
      }
    },
    {
      "cell_type": "code",
      "source": [
        "a = 12345\n",
        "\n",
        "if a == 123:\n",
        "  print (\"a is 123!\")\n",
        "elif (a == 123) or (a == 1234):\n",
        "  print (\"a is 1234\")\n",
        "else:\n",
        "  print (\"a is neither 123 nor 1234\")"
      ],
      "metadata": {
        "colab": {
          "base_uri": "https://localhost:8080/"
        },
        "id": "uQS17GalaeFH",
        "outputId": "e02baf82-daac-4b46-98d9-7c5e08a40b46"
      },
      "execution_count": null,
      "outputs": [
        {
          "output_type": "stream",
          "name": "stdout",
          "text": [
            "a is neither 123 nor 1234\n"
          ]
        }
      ]
    },
    {
      "cell_type": "markdown",
      "source": [
        "In Python, indentation (*i.e.*, the number of white spaces between the left margin and the first character of a line of code) is used to delimit code blocks.\n",
        "\n",
        "Lines with the same indentation level belong to the same code block and are subject to the same conditions.\n",
        "\n",
        "For example,\n"
      ],
      "metadata": {
        "id": "QTGSQDpUbyCH"
      }
    },
    {
      "cell_type": "code",
      "source": [
        "a = 'hello'\n",
        "if a == 'goodmorning':\n",
        "  print (\"Line 1 to print in case of goodmorning\")\n",
        "  print (\"Line 2 to print in case of goodmorning\")\n",
        "else:\n",
        "  print (\"Line 1 to print in case it is not a goodmorning\")\n",
        "print (\"Line to print in everycase\")"
      ],
      "metadata": {
        "colab": {
          "base_uri": "https://localhost:8080/"
        },
        "id": "-OHWs-fvbqtu",
        "outputId": "4ecd3b18-f2b1-4ce8-803e-36b76d5eb49d"
      },
      "execution_count": null,
      "outputs": [
        {
          "output_type": "stream",
          "name": "stdout",
          "text": [
            "Line 1 to print in case it is not a goodmorning\n",
            "Line to print in everycase\n"
          ]
        }
      ]
    },
    {
      "cell_type": "markdown",
      "metadata": {
        "id": "r3hPMuWd5u7v"
      },
      "source": [
        "The structure in code blocks enables writing rather complex structures with nested conditions.\n",
        "\n",
        "For example,\n"
      ]
    },
    {
      "cell_type": "code",
      "source": [
        "symbol = 'mu'\n",
        "charge = '-'\n",
        "\n",
        "if symbol == 'e' or symbol == 'mu' or symbol == 'tau' or symbol == 'nu' or symbol == 'nu_bar':\n",
        "  if charge == '0':\n",
        "    if symbol == 'nu':\n",
        "      print (\"matter\")\n",
        "    else:\n",
        "      print ('antimatter')\n",
        "  elif charge == '+' and symbol != 'nu' and symbol != 'nu_bar':\n",
        "    print (\"antimatter\")\n",
        "  elif charge == '-' and symbol != 'nu' and symbol != 'nu_bar':\n",
        "    print (\"matter\")\n",
        "  else:\n",
        "    print (\"Unexpected lepton\")\n",
        "else:\n",
        "  print (\"Not a lepton\")\n"
      ],
      "metadata": {
        "colab": {
          "base_uri": "https://localhost:8080/"
        },
        "id": "oSBHyGEqctkU",
        "outputId": "c0777ed2-d153-4d0f-8ccf-46db2150759c"
      },
      "execution_count": null,
      "outputs": [
        {
          "output_type": "stream",
          "name": "stdout",
          "text": [
            "matter\n"
          ]
        }
      ]
    },
    {
      "cell_type": "markdown",
      "source": [
        "## Ternary operator\n",
        "In Python, it is possible to define a variable based on a condition with a single-line statement combining the condition and the two values the variable will take when the condition is met or not.\n",
        "Since this operator takes three *inputs*, it is called a Ternary operator and is available in several languages (but in Python, the order of the three inputs is rather unique).\n",
        "\n",
        "The syntax is as follows:\n",
        "\n",
        "```python\n",
        "<value if condition is satisfied> if <condition> else <value if condition is not satisfied>\n",
        "```\n",
        "\n",
        "\n",
        "It's more difficult to explain it than to see it in action!\n"
      ],
      "metadata": {
        "id": "jvzUlY4AcvFd"
      }
    },
    {
      "cell_type": "code",
      "source": [
        "charge = '+'\n",
        "print (charge, \"positive\" if charge == \"+\" else \"negative\")\n",
        "charge = '-'\n",
        "print (charge, \"positive\" if charge == \"+\" else \"negative\")"
      ],
      "metadata": {
        "colab": {
          "base_uri": "https://localhost:8080/"
        },
        "id": "qxInI1-sdoBb",
        "outputId": "2c2aa9cc-1fbb-42fc-c4a8-9aa9800c9b10"
      },
      "execution_count": null,
      "outputs": [
        {
          "output_type": "stream",
          "name": "stdout",
          "text": [
            "+ positive\n",
            "- negative\n"
          ]
        }
      ]
    },
    {
      "cell_type": "markdown",
      "source": [
        "# Boolean variables\n",
        "\n",
        "The conditions that define the behavior of conditional statements can define a variable, called a **boolean**. A boolean variable can take the value `True` or `False` depending on whether the condition is satisfied or not.\n",
        "\n",
        "For example,\n"
      ],
      "metadata": {
        "id": "JSZUG3pndyWz"
      }
    },
    {
      "cell_type": "code",
      "source": [
        "## Boolean variable initialized to True\n",
        "successful_condition = True\n",
        "\n",
        "## Variabile initialized to False\n",
        "failed_condition = False\n",
        "\n",
        "## A boolean variable initialized with the result of a condition\n",
        "successful_condition = (1 > 0)\n",
        "\n",
        "## Using a boolean variable in an if statement\n",
        "if successful_condition:\n",
        "  print (\"Successful\")\n",
        "else:\n",
        "  print (\"Failed\")"
      ],
      "metadata": {
        "colab": {
          "base_uri": "https://localhost:8080/"
        },
        "id": "mcIi_E_peAtc",
        "outputId": "fae6a172-b2e3-4e67-d927-3ccfe6e56a78"
      },
      "execution_count": null,
      "outputs": [
        {
          "output_type": "stream",
          "name": "stdout",
          "text": [
            "Successful\n"
          ]
        }
      ]
    },
    {
      "cell_type": "markdown",
      "source": [
        "## Logical Operators\n",
        "\n",
        "As we briefly mentioned earlier, different boolean variables and conditions can be combined using logical operators:\n",
        " * and\n",
        " * or\n",
        " * not\n",
        "\n",
        "For example,\n"
      ],
      "metadata": {
        "id": "oat2kaUXeH_N"
      }
    },
    {
      "cell_type": "code",
      "source": [
        "print (\"False:\", True and False )\n",
        "print (\"True: \", True or False)\n",
        "print (\"False:\", (not True) or False )\n",
        "print (\"False:\", (1 > 0) and (1 < 0))"
      ],
      "metadata": {
        "colab": {
          "base_uri": "https://localhost:8080/"
        },
        "id": "4PXJC9yteBPt",
        "outputId": "38fa8bff-a438-44e0-b99c-884cf77f5551"
      },
      "execution_count": null,
      "outputs": [
        {
          "output_type": "stream",
          "name": "stdout",
          "text": [
            "False: False\n",
            "True:  True\n",
            "False: False\n",
            "False: False\n"
          ]
        }
      ]
    },
    {
      "cell_type": "markdown",
      "source": [
        "Logical operators are always applied to the \"boolean\" version of variables. For example, the integer variable `1` is translated to `True`, while `0` is translated to `False`. Similarly, an empty string is translated to `False`, whereas any string with at least one character is translated to `True`.\n",
        "\n",
        "We can use the syntax\n",
        "```python\n",
        "bool(<variable>)\n",
        "```\n",
        "to have Python print the translation of a variable into a logical value.\n",
        "\n",
        "For example,\n"
      ],
      "metadata": {
        "id": "rKCNWe90eMJd"
      }
    },
    {
      "cell_type": "code",
      "source": [
        "## Logic value of strings\n",
        "print (\"False: \", bool(\"\"))\n",
        "print (\"True:  \", bool(\" \"))\n",
        "\n",
        "## Logic value of integers and non-boolean variables in the if statement\n",
        "a = 1\n",
        "b = 0\n",
        "print (\"Succesful\" if a else \"Failed\")\n",
        "print (\"Succesful\" if b else \"Failed\")"
      ],
      "metadata": {
        "colab": {
          "base_uri": "https://localhost:8080/"
        },
        "id": "FF3aTl-7egZw",
        "outputId": "73629d36-081d-4cf4-9765-380fc57e4e17"
      },
      "execution_count": null,
      "outputs": [
        {
          "output_type": "stream",
          "name": "stdout",
          "text": [
            "False:  False\n",
            "True:   True\n",
            "Succesful\n",
            "Failed\n"
          ]
        }
      ]
    },
    {
      "cell_type": "markdown",
      "source": [
        "# Loops\n",
        "Sometimes it is useful to perform operations iteratively multiple times.\n",
        "The logical flow of a program thus presents a **loop**.\n"
      ],
      "metadata": {
        "id": "xNMk8oSKeiR4"
      }
    },
    {
      "cell_type": "markdown",
      "source": [
        "### The **`while`** Loop\n",
        "The simplest loop is the **while** loop, which allows a portion of code to be executed as long as (*while*, indeed) a condition is valid.\n",
        "\n",
        "For example,\n"
      ],
      "metadata": {
        "id": "td99bzjxenzw"
      }
    },
    {
      "cell_type": "code",
      "source": [
        "## Initialize the month to the first (1) month of the year\n",
        "month = 0\n",
        "season = \"unknown\"\n",
        "\n",
        "## Check the season of each month and stop at the first month labeled as \"summer\"\n",
        "while season != \"summer\":\n",
        "  ## increment month\n",
        "  month += 1\n",
        "\n",
        "  ## Compute the season\n",
        "  if month <= 2 or month >= 12:\n",
        "    season = \"winter\"\n",
        "  elif month >= 3 and month <= 5:\n",
        "    season = \"spring\"\n",
        "  elif month >= 6 and month <= 8:\n",
        "    season = \"summer\"\n",
        "  elif month >= 9 and month <= 11:\n",
        "    season = \"fall\"\n",
        "\n",
        "print (\"The first month of summer is\", month)"
      ],
      "metadata": {
        "colab": {
          "base_uri": "https://localhost:8080/"
        },
        "id": "_b0WMwQyeyQb",
        "outputId": "9c4792f9-51fb-4a7e-f876-2c6b7f4551b6"
      },
      "execution_count": null,
      "outputs": [
        {
          "output_type": "stream",
          "name": "stdout",
          "text": [
            "The first month of summer is 6\n"
          ]
        }
      ]
    },
    {
      "cell_type": "markdown",
      "source": [
        "Alternatively, we can break the loop with the `break` statement.\n"
      ],
      "metadata": {
        "id": "_6KRzqM1e3a0"
      }
    },
    {
      "cell_type": "code",
      "source": [
        "month = 1\n",
        "season = \"unknown\"\n",
        "\n",
        "while month <= 12:\n",
        "  if month >= 6 and month <= 8:\n",
        "    break\n",
        "  month += 1\n",
        "\n",
        "print (\"The first month of summer is\", month)"
      ],
      "metadata": {
        "colab": {
          "base_uri": "https://localhost:8080/"
        },
        "id": "VPPUOR_1eyod",
        "outputId": "2382ae07-a459-4b85-9bbd-f501c841bef0"
      },
      "execution_count": null,
      "outputs": [
        {
          "output_type": "stream",
          "name": "stdout",
          "text": [
            "The first month of summer is 6\n"
          ]
        }
      ]
    },
    {
      "cell_type": "markdown",
      "source": [
        "### The **`for`** Loop\n",
        "\n",
        "Another loop, not based on a condition, but that executes code on a sequence of elements, is the **`for`** loop.\n",
        "\n",
        "For example:\n"
      ],
      "metadata": {
        "id": "9AhVWwq2e5pW"
      }
    },
    {
      "cell_type": "code",
      "source": [
        "for particle in \"e\", \"mu\", \"tau\":\n",
        "  for charge in \"+\", \"-\":\n",
        "    print (\"Particle\", particle, charge, \"is a lepton\")\n",
        "for particle in \"nu\", \"nu_bar\":\n",
        "  print (\"Particle\", particle, \"is a lepton\")\n",
        "for particle in \"udsctb\":\n",
        "  print (\"Particle\", particle, \"is a quark\")"
      ],
      "metadata": {
        "colab": {
          "base_uri": "https://localhost:8080/"
        },
        "id": "xijsI__Ze_Sm",
        "outputId": "a50fc1ba-4b56-49f3-c8ca-84c35ff6a5e6"
      },
      "execution_count": null,
      "outputs": [
        {
          "output_type": "stream",
          "name": "stdout",
          "text": [
            "Particle e + is a lepton\n",
            "Particle e - is a lepton\n",
            "Particle mu + is a lepton\n",
            "Particle mu - is a lepton\n",
            "Particle tau + is a lepton\n",
            "Particle tau - is a lepton\n",
            "Particle nu is a lepton\n",
            "Particle nu_bar is a lepton\n",
            "Particle u is a quark\n",
            "Particle d is a quark\n",
            "Particle s is a quark\n",
            "Particle c is a quark\n",
            "Particle t is a quark\n",
            "Particle b is a quark\n"
          ]
        }
      ]
    },
    {
      "cell_type": "markdown",
      "source": [
        "The **`continue`** statement can be used to skip an iteration of a loop (whether a `for` loop or a `while` loop) without breaking the loop.\n",
        "\n",
        "For example, if we want to exclude positive muons from the previous loop, we can write:\n"
      ],
      "metadata": {
        "id": "ENdHkl5UfBEn"
      }
    },
    {
      "cell_type": "code",
      "source": [
        "for particle in \"e\", \"mu\", \"tau\":\n",
        "  for charge in \"+\", \"-\":\n",
        "    if particle == \"mu\" and charge == \"+\":\n",
        "      continue\n",
        "\n",
        "    print (\"Particle\", particle, charge, \"is a lepton (but certainly not a mu+)\")"
      ],
      "metadata": {
        "colab": {
          "base_uri": "https://localhost:8080/"
        },
        "id": "LKOEVn3pfO8R",
        "outputId": "90b09be1-f563-4e61-b631-99e0d3e86cc1"
      },
      "execution_count": null,
      "outputs": [
        {
          "output_type": "stream",
          "name": "stdout",
          "text": [
            "Particle e + is a lepton (but certainly not a mu+)\n",
            "Particle e - is a lepton (but certainly not a mu+)\n",
            "Particle mu - is a lepton (but certainly not a mu+)\n",
            "Particle tau + is a lepton (but certainly not a mu+)\n",
            "Particle tau - is a lepton (but certainly not a mu+)\n"
          ]
        }
      ]
    },
    {
      "cell_type": "markdown",
      "source": [
        "### Range and other extensions of the `for` loop\n",
        "The most common extension of the `for` loop is the use of the `range` keyword, which allows loops over continuous sequences of integers.\n",
        "Using the `range` statement, we can define sequences from a `start` number to a `stop` number (exclusive) in steps of `step` with the following syntax:\n",
        "\n",
        "```python\n",
        "for <variable> in range (<stop>):\n",
        "  ...\n",
        "\n",
        "for <variable> in range (<start>, <stop>):\n",
        "  ...\n",
        "\n",
        "for <variable> in range (<start>, <stop>, <step>):\n",
        "  ...\n",
        "```\n",
        "\n",
        "Where `start` is not defined, it is assumed to be zero, while `step` is assumed to be one.\n",
        "\n",
        "Let's see three examples of this syntax:\n"
      ],
      "metadata": {
        "id": "OwP0ZDWIfXPj"
      }
    },
    {
      "cell_type": "code",
      "source": [
        "# from 0 to 5 (excluded) with step 1\n",
        "for i in range(5):\n",
        "  print (i)"
      ],
      "metadata": {
        "colab": {
          "base_uri": "https://localhost:8080/"
        },
        "id": "pB2pwkRnfQAC",
        "outputId": "d962b8ec-246e-45ee-d944-864d2aadd3cf"
      },
      "execution_count": null,
      "outputs": [
        {
          "output_type": "stream",
          "name": "stdout",
          "text": [
            "0\n",
            "1\n",
            "2\n",
            "3\n",
            "4\n"
          ]
        }
      ]
    },
    {
      "cell_type": "code",
      "source": [
        "# from 2 to 5 (excluded) with step 1\n",
        "for i in range(3,5):\n",
        "  print (i)"
      ],
      "metadata": {
        "colab": {
          "base_uri": "https://localhost:8080/"
        },
        "id": "mUXMA1v5fguc",
        "outputId": "b1a44b65-8e39-46f4-ca82-58b61dd59f0e"
      },
      "execution_count": null,
      "outputs": [
        {
          "output_type": "stream",
          "name": "stdout",
          "text": [
            "3\n",
            "4\n"
          ]
        }
      ]
    },
    {
      "cell_type": "code",
      "source": [
        "# from 0 to 10 (excluded), only even number\n",
        "for i in range(0, 10, 2):\n",
        "  print (i)"
      ],
      "metadata": {
        "colab": {
          "base_uri": "https://localhost:8080/"
        },
        "id": "57L14BHAfh_t",
        "outputId": "6cc7422f-e6b5-45c9-e594-1c9edbab0388"
      },
      "execution_count": null,
      "outputs": [
        {
          "output_type": "stream",
          "name": "stdout",
          "text": [
            "0\n",
            "2\n",
            "4\n",
            "6\n",
            "8\n"
          ]
        }
      ]
    },
    {
      "cell_type": "markdown",
      "source": [
        "#### Zip\n",
        "The `for` loop can be extended to iterate simultaneously over multiple iterables using the `zip` statement.\n",
        "\n",
        "For example,\n"
      ],
      "metadata": {
        "id": "SZ5cQpuVfnWe"
      }
    },
    {
      "cell_type": "code",
      "source": [
        "even = 0, 2, 4, 6, 8\n",
        "odd = 1, 3, 5, 7, 9\n",
        "\n",
        "for a, b in zip (even, odd):\n",
        "  print (\"even:\", a, \"; odd:\", b)"
      ],
      "metadata": {
        "colab": {
          "base_uri": "https://localhost:8080/"
        },
        "id": "_Syw0MtZfjRN",
        "outputId": "e36a2b28-9998-4eaf-b68e-0da423bd6879"
      },
      "execution_count": null,
      "outputs": [
        {
          "output_type": "stream",
          "name": "stdout",
          "text": [
            "even: 0 ; odd: 1\n",
            "even: 2 ; odd: 3\n",
            "even: 4 ; odd: 5\n",
            "even: 6 ; odd: 7\n",
            "even: 8 ; odd: 9\n"
          ]
        }
      ]
    },
    {
      "cell_type": "markdown",
      "source": [
        "#### Enumerate\n",
        "\n",
        "Un'altra estensione utile è basata su `enumerate` che permette di aggiungere un indice all'iterazione.\n",
        "Ad esempio:"
      ],
      "metadata": {
        "id": "kSRRmpA_fr6v"
      }
    },
    {
      "cell_type": "code",
      "source": [
        "for iChar, char in enumerate(\"hello world\"):\n",
        "  print (\"Char number\", iChar, \"has value:\", char )"
      ],
      "metadata": {
        "colab": {
          "base_uri": "https://localhost:8080/"
        },
        "id": "CxIx1RRUfqNX",
        "outputId": "efd900e5-ae6b-4a35-8dd7-c8cce658d9a0"
      },
      "execution_count": null,
      "outputs": [
        {
          "output_type": "stream",
          "name": "stdout",
          "text": [
            "Char number 0 has value: h\n",
            "Char number 1 has value: e\n",
            "Char number 2 has value: l\n",
            "Char number 3 has value: l\n",
            "Char number 4 has value: o\n",
            "Char number 5 has value:  \n",
            "Char number 6 has value: w\n",
            "Char number 7 has value: o\n",
            "Char number 8 has value: r\n",
            "Char number 9 has value: l\n",
            "Char number 10 has value: d\n"
          ]
        }
      ]
    },
    {
      "cell_type": "markdown",
      "source": [
        "#### Sorted\n",
        "\n",
        "Another interesting trick is the use of the `sorted` function, which sorts the elements we iterate over in ascending order:\n"
      ],
      "metadata": {
        "id": "nipc7rPbfy0P"
      }
    },
    {
      "cell_type": "code",
      "source": [
        "values = 4, 3, 6, 2\n",
        "print (\"Unsorted:\")\n",
        "for a in values:\n",
        "  print (a)\n",
        "\n",
        "print (\"---\")\n",
        "\n",
        "print (\"Sorted:\")\n",
        "for a in sorted(values):\n",
        "  print (a)"
      ],
      "metadata": {
        "colab": {
          "base_uri": "https://localhost:8080/"
        },
        "id": "WiPCg_eZft1n",
        "outputId": "727df583-83e7-4e81-bf79-7705d777838d"
      },
      "execution_count": null,
      "outputs": [
        {
          "output_type": "stream",
          "name": "stdout",
          "text": [
            "Unsorted:\n",
            "4\n",
            "3\n",
            "6\n",
            "2\n",
            "---\n",
            "Sorted:\n",
            "2\n",
            "3\n",
            "4\n",
            "6\n"
          ]
        }
      ]
    },
    {
      "cell_type": "markdown",
      "source": [
        "# Functions\n",
        "Functions allow you to define sequences of operations that represent a logical unit of the program, making them a fundamental building block in **sequential** programming.\n",
        "\n",
        "We have already seen an example of a function (`print`) with its call (`print(<args>)`). In Python, the definition of new functions is extremely concise and follows this syntax:\n",
        "```python\n",
        "def funzione ( [ arg1[, arg2] ]):\n",
        "    # your statements\n",
        "\n",
        "    return <something>\n",
        "```\n",
        "\n",
        "The code that creates a function is called the **definition** of the function and represents the other side of the coin of the **call** (which we have already seen above).\n",
        "\n",
        "For example, let's create a function that adds one to the argument and returns the incremented value as the **return** value.\n"
      ],
      "metadata": {
        "id": "9wA8PZbpf3La"
      }
    },
    {
      "cell_type": "code",
      "source": [
        "## Function definition\n",
        "def add_one (some_value):\n",
        "  return some_value + 1\n",
        "\n",
        "## Function call\n",
        "incremented_value = add_one ( 42 )\n",
        "print (\"Incremented value:\", incremented_value)"
      ],
      "metadata": {
        "colab": {
          "base_uri": "https://localhost:8080/"
        },
        "id": "z5JKiFnKgT3X",
        "outputId": "7d273515-5456-4119-b818-8043d9ea40c0"
      },
      "execution_count": null,
      "outputs": [
        {
          "output_type": "stream",
          "name": "stdout",
          "text": [
            "Incremented value: 43\n"
          ]
        }
      ]
    },
    {
      "cell_type": "markdown",
      "source": [
        "Function arguments can be associated with a default value: that is, the value the argument takes if one is not defined at the time of the call.\n",
        "\n",
        "Arguments with default values (called **keyword arguments** or **`kwargs`**) must always be placed after arguments without default values (also known as **positional arguments**).\n",
        "\n",
        "For example:\n"
      ],
      "metadata": {
        "id": "QMjSZQpHgXCX"
      }
    },
    {
      "cell_type": "code",
      "source": [
        "def a_function(its_first_argument, its_second_argument, a_keyword_argument='hello', another_k='world'):\n",
        "  print (\"Argument 1:\", its_first_argument)\n",
        "  print (\"Argument 2:\", its_second_argument)\n",
        "  print (\"Keyword Arg (kwarg) 1:\", a_keyword_argument)\n",
        "  print (\"-----------------------------\")\n",
        "\n",
        "\n",
        "### Rely on defaults\n",
        "a_function(\"arg 1\", \"arg 2\")\n",
        "\n",
        "### Passing arguments, positionally\n",
        "a_function(\"arg 1\", \"arg 2\", \"arg 3\")\n",
        "\n",
        "### Passing arguments with keys\n",
        "a_function(\n",
        "    its_first_argument = \"arg 1\",\n",
        "    its_second_argument = \"arg 2\",\n",
        "    a_keyword_argument = 'arg 3',\n",
        "    another_k = \"arg 4\"\n",
        ")\n",
        "\n",
        "## Passing arguments mixing positional and keyword arguments (in that order!\n",
        "a_function(\"arg 1\", \"arg 2\", another_k = \"arg 4\")\n"
      ],
      "metadata": {
        "colab": {
          "base_uri": "https://localhost:8080/"
        },
        "id": "0m5Hs6dugsw2",
        "outputId": "a39cfee4-a483-4139-8c20-c02e1f312310"
      },
      "execution_count": null,
      "outputs": [
        {
          "output_type": "stream",
          "name": "stdout",
          "text": [
            "Argument 1: arg 1\n",
            "Argument 2: arg 2\n",
            "Keyword Arg (kwarg) 1: hello\n",
            "-----------------------------\n",
            "Argument 1: arg 1\n",
            "Argument 2: arg 2\n",
            "Keyword Arg (kwarg) 1: arg 3\n",
            "-----------------------------\n",
            "Argument 1: arg 1\n",
            "Argument 2: arg 2\n",
            "Keyword Arg (kwarg) 1: arg 3\n",
            "-----------------------------\n",
            "Argument 1: arg 1\n",
            "Argument 2: arg 2\n",
            "Keyword Arg (kwarg) 1: hello\n",
            "-----------------------------\n"
          ]
        }
      ]
    },
    {
      "cell_type": "markdown",
      "source": [
        "## *Packing* and *unpacking* arguments\n",
        "Sometimes it is useful to treat a sequence of arguments as a single variable, for example, to handle sequences of an arbitrary number of parameters.\n",
        "\n",
        "In these cases, the concept of *packing* (and *unpacking*) arguments can be useful. Packing and unpacking are defined with the `*args` operator for positional arguments, while they are defined with `**kwargs` for keyword arguments.\n",
        "\n",
        "Let's set aside keyword arguments for now and focus on positional arguments. For example, consider a function that sums all the arguments and returns the result,\n"
      ],
      "metadata": {
        "id": "gKwjnqKlguk8"
      }
    },
    {
      "cell_type": "code",
      "source": [
        "## Definition of a function with unpacking\n",
        "def compute_sum (*packed_arguments):\n",
        "  result = 0.\n",
        "  ## Here we loop over the packed arguments\n",
        "  for arg in packed_arguments:\n",
        "    result += arg\n",
        "\n",
        "  return result\n",
        "\n",
        "## Plain call of the example function\n",
        "print (\"Plain sum:\", compute_sum(1,2,3,4))\n",
        "\n",
        "## Same call with packed arguments\n",
        "my_args = 1,2,3,4\n",
        "print (\"Packed-argument sum:\", compute_sum(*my_args))"
      ],
      "metadata": {
        "colab": {
          "base_uri": "https://localhost:8080/"
        },
        "id": "wsBHKlx2hBrP",
        "outputId": "92cf81d9-b925-4c06-88b1-78b8fb913d53"
      },
      "execution_count": null,
      "outputs": [
        {
          "output_type": "stream",
          "name": "stdout",
          "text": [
            "Plain sum: 10.0\n",
            "Packed-argument sum: 10.0\n"
          ]
        }
      ]
    },
    {
      "cell_type": "markdown",
      "source": [
        "The functioning of packing and unpacking for keyword arguments is quite similar. Let's see an example.\n",
        "\n",
        "First, let's define two functions, `f_packed` and `f_unpacked`. The first one simply prints the arguments `arg1` and `arg2`, while the second one prints all the keyword arguments"
      ],
      "metadata": {
        "id": "rAi7uitihFqY"
      }
    },
    {
      "cell_type": "code",
      "source": [
        "def f_unpacked (arg1, arg2):\n",
        "  print (\"from f_unpacked --- arg1\", arg1)\n",
        "  print (\"from f_unpacked --- arg2\", arg2)\n",
        "\n",
        "def f_packed (**args):\n",
        "  print (\"--- from f_packed ---\", args)\n",
        "  f_unpacked (**args)"
      ],
      "metadata": {
        "id": "sD8p2C1NhNIK"
      },
      "execution_count": null,
      "outputs": []
    },
    {
      "cell_type": "markdown",
      "source": [
        "Conversely, the `f_packed` function takes any list of keyword arguments as an argument. To pass them to the `f_unpacked` function, the arguments need to be \"unpacked\".\n"
      ],
      "metadata": {
        "id": "m4g2HObEhMPq"
      }
    },
    {
      "cell_type": "code",
      "source": [
        "f_packed (arg1 = \"first_packed_argument\", arg2 = \"second_packed_argument\")\n"
      ],
      "metadata": {
        "colab": {
          "base_uri": "https://localhost:8080/"
        },
        "id": "TxxJG0f7hTUL",
        "outputId": "d195a58c-fddb-4115-b907-1f184b6e2a08"
      },
      "execution_count": null,
      "outputs": [
        {
          "output_type": "stream",
          "name": "stdout",
          "text": [
            "--- from f_packed --- {'arg1': 'first_packed_argument', 'arg2': 'second_packed_argument'}\n",
            "from f_unpacked --- arg1 first_packed_argument\n",
            "from f_unpacked --- arg2 second_packed_argument\n"
          ]
        }
      ]
    },
    {
      "cell_type": "markdown",
      "source": [
        "## Functions that return multiple values\n",
        "With a mechanism similar to *packing* and *unpacking*, it is possible to define functions that return more than one value.\n",
        "\n",
        "For example, let's see how we could write a function that returns the minimum and maximum values among all the arguments passed to it.\n"
      ],
      "metadata": {
        "id": "XCOagv6GhXRr"
      }
    },
    {
      "cell_type": "code",
      "source": [
        "def min_and_max (*values):\n",
        "  m = values[0] # Initialize to the first value\n",
        "  M = values[0]\n",
        "\n",
        "  # Loops over all the positional arguments\n",
        "  for value in values:\n",
        "    if value < m:   # for each value, if it is found smaller than the minimum,\n",
        "      m = value     #   then the minimum is updated\n",
        "    if value > M:   # if the value is larger than the maximum,\n",
        "      M = value     #   then it updates the value\n",
        "\n",
        "  return m, M       # Finally, it returns minimum and maximum"
      ],
      "metadata": {
        "id": "4Q3nnDbwhTxD"
      },
      "execution_count": null,
      "outputs": []
    },
    {
      "cell_type": "markdown",
      "source": [
        "The return value of a function can therefore be \"unpacked\" immediately in the function call statement,\n"
      ],
      "metadata": {
        "id": "dx0TSq1yhkLd"
      }
    },
    {
      "cell_type": "code",
      "source": [
        "m, M = min_and_max (3, 2, 6, 2, 5)\n",
        "print (\"Min:\", m)\n",
        "print (\"Max:\", M)"
      ],
      "metadata": {
        "colab": {
          "base_uri": "https://localhost:8080/"
        },
        "id": "jrQhl5nNheJ8",
        "outputId": "b86d6b85-10d1-41af-c5a0-6d041c7453ba"
      },
      "execution_count": null,
      "outputs": [
        {
          "output_type": "stream",
          "name": "stdout",
          "text": [
            "Min: 2\n",
            "Max: 6\n"
          ]
        }
      ]
    },
    {
      "cell_type": "markdown",
      "source": [
        "*or* later, by temporarily saving it in a single variable:\n"
      ],
      "metadata": {
        "id": "6_a13YxUhwKI"
      }
    },
    {
      "cell_type": "code",
      "source": [
        "mM = min_and_max (3, 2, 6)\n",
        "print (\"Min and Max\", mM)\n",
        "m, M = mM\n",
        "print (\"Min:\", m)\n",
        "print (\"Max:\", M)"
      ],
      "metadata": {
        "colab": {
          "base_uri": "https://localhost:8080/"
        },
        "id": "vX8pzn-Chmje",
        "outputId": "e3e8576b-07c4-4399-82b5-1c818ff9d2ea"
      },
      "execution_count": null,
      "outputs": [
        {
          "output_type": "stream",
          "name": "stdout",
          "text": [
            "Min and Max (2, 6)\n",
            "Min: 2\n",
            "Max: 6\n"
          ]
        }
      ]
    },
    {
      "cell_type": "markdown",
      "source": [
        "In this case, 1, 2, and 3 to the right of the equal sign are packed and assigned to the tuple `one`, `two`, `three` after being unpacked.\n"
      ],
      "metadata": {
        "id": "wIovyNd4hxoY"
      }
    },
    {
      "cell_type": "markdown",
      "source": [
        "## Functions of functions and decorators\n",
        "Unlike many other programming languages, Python allows functions to be treated as variables. This has two very important implications:\n",
        " 1. Functions can be passed as arguments to other functions;\n",
        " 2. Functions can be defined within other functions.\n"
      ],
      "metadata": {
        "id": "K1y6l3Rth9Bi"
      }
    },
    {
      "cell_type": "markdown",
      "source": [
        "#### Functions of functions\n",
        "\n",
        "Let's start with the first point and see a simple example that shows how to pass a function as an argument.\n",
        "Let's revisit the example of summing arguments, but let's try to generalize it to any operation that is done iteratively with a scheme like this:\n",
        "\n",
        "```\n",
        "Iteration    Operation\n",
        "\n",
        " 1.          result = initial_value\n",
        " 2.          result = f(result, x_1)\n",
        " 3.          result = f(result, x_2)\n",
        " ...\n",
        " N.          result = f(result, x_N)\n",
        "```\n",
        "\n",
        "\n",
        "We will need to pass as input to this function:\n",
        " * the `initial_value` to start the computation\n",
        " * the function `f`\n",
        " * the sequence of values `x_1` ... `x_N` on which the function `f` will operate\n",
        "\n",
        "Having understood what we want to achieve, we are ready to write the code:\n"
      ],
      "metadata": {
        "id": "m0dfqnTfiOD-"
      }
    },
    {
      "cell_type": "code",
      "source": [
        "def associatively_apply (initial_value, operation, *values):\n",
        "  result = initial_value\n",
        "  for value in values:\n",
        "    result = operation (result, value)\n",
        "\n",
        "  return result"
      ],
      "metadata": {
        "id": "2gVXswWdh3VI"
      },
      "execution_count": null,
      "outputs": []
    },
    {
      "cell_type": "markdown",
      "source": [
        "The function thus defined iteratively applies a function called `operation` to the input values. To use this function, we must first define our `operation`.\n",
        "As we mentioned earlier, `operation` is a generic function that takes two arguments as input and returns the result of some operation on those two input values.\n",
        "\n",
        "For example:\n"
      ],
      "metadata": {
        "id": "d4RAos0zi2CR"
      }
    },
    {
      "cell_type": "code",
      "source": [
        "## Sum operation\n",
        "def op_sum (x1, x2):\n",
        "  return x1 + x2\n",
        "\n",
        "## Product operation\n",
        "def op_prod (x1, x2):\n",
        "  return x1 * x2"
      ],
      "metadata": {
        "id": "KfWElX9ii5VJ"
      },
      "execution_count": null,
      "outputs": []
    },
    {
      "cell_type": "markdown",
      "source": [
        "Now we have all the elements we need to test our associative reduction function.\n"
      ],
      "metadata": {
        "id": "3Q2Rg83_jD-G"
      }
    },
    {
      "cell_type": "code",
      "source": [
        "print (\"Sum of 2, 3, 4:\", associatively_apply(0, op_sum, 2, 3, 4))\n",
        "print (\"Product of 2, 3, 4:\", associatively_apply(1, op_prod, 2, 3, 4))"
      ],
      "metadata": {
        "colab": {
          "base_uri": "https://localhost:8080/"
        },
        "id": "CoFciwfEjCg1",
        "outputId": "d3c17eef-0c84-49df-89e3-ca2779ebe314"
      },
      "execution_count": null,
      "outputs": [
        {
          "output_type": "stream",
          "name": "stdout",
          "text": [
            "Sum of 2, 3, 4: 9\n",
            "Product of 2, 3, 4: 24\n"
          ]
        }
      ]
    },
    {
      "cell_type": "markdown",
      "source": [
        "This way of writing functions is extremely powerful, but it exposes the risk of making the code quickly unreadable.\n",
        "\n",
        "Among the precautions that can be taken to mitigate the problem is the suggestion to never mix *packed* and *unpacked* positional arguments in the same function. In this case, we could have written,\n"
      ],
      "metadata": {
        "id": "aU-w_ss-jLdW"
      }
    },
    {
      "cell_type": "code",
      "source": [
        "def readable_associative_apply (*values, initial_value=0, operation=op_sum):\n",
        "  result = initial_value\n",
        "  for value in values:\n",
        "    result = operation (result, value)\n",
        "\n",
        "  return result"
      ],
      "metadata": {
        "id": "2havmcDwjVlb"
      },
      "execution_count": null,
      "outputs": []
    },
    {
      "cell_type": "markdown",
      "source": [
        "In this way, if we do not explicitly declare the operation, our function assumes that we want to perform a sum starting from zero,\n"
      ],
      "metadata": {
        "id": "39ZGwiegjlYG"
      }
    },
    {
      "cell_type": "code",
      "source": [
        "print (\"Sum:\", readable_associative_apply(2,3,4))"
      ],
      "metadata": {
        "colab": {
          "base_uri": "https://localhost:8080/"
        },
        "id": "2RT-ST43jo8u",
        "outputId": "9db6821f-4c6f-4dd2-d266-5088a075bc6e"
      },
      "execution_count": null,
      "outputs": [
        {
          "output_type": "stream",
          "name": "stdout",
          "text": [
            "Sum: 9\n"
          ]
        }
      ]
    },
    {
      "cell_type": "markdown",
      "source": [
        "but we can still modify the default values of the operation and the initial value to apply other operations.\n"
      ],
      "metadata": {
        "id": "cf5eWfV7jp3u"
      }
    },
    {
      "cell_type": "code",
      "source": [
        "print (\"Product:\", readable_associative_apply(2,3,4, initial_value=1, operation=op_prod))"
      ],
      "metadata": {
        "colab": {
          "base_uri": "https://localhost:8080/"
        },
        "id": "pL_Nf52Ej3t8",
        "outputId": "12693758-8b13-46ea-9e46-d339c2e4a8ed"
      },
      "execution_count": null,
      "outputs": [
        {
          "output_type": "stream",
          "name": "stdout",
          "text": [
            "Product: 24\n"
          ]
        }
      ]
    },
    {
      "cell_type": "markdown",
      "source": [
        "### Functions that return functions\n",
        "\n",
        "It can be useful to define functions within other functions to define their behavior without having to pass arguments at each subsequent call.\n",
        "\n",
        "For example, revisiting the example discussed above of `operation` functions, let's build a function that returns a certain operation depending on the input passed as an argument:\n"
      ],
      "metadata": {
        "id": "I4xucf5hj240"
      }
    },
    {
      "cell_type": "code",
      "source": [
        "def op_factory (op_name):\n",
        "  if op_name == 'sum':\n",
        "    def op (x1, x2):\n",
        "      return x1 + x2\n",
        "  elif op_name == 'prod':\n",
        "    def op (x1, x2):\n",
        "      return x1 * x2\n",
        "  else:\n",
        "    def op (x1, x2):\n",
        "      return 0.\n",
        "\n",
        "  ## We return here the function\n",
        "  return op"
      ],
      "metadata": {
        "id": "j1FC8hQ4kAzo"
      },
      "execution_count": null,
      "outputs": []
    },
    {
      "cell_type": "markdown",
      "source": [
        "At the time of the call, we must remember that the returned value is a function, and therefore it must be called to obtain the result.\n"
      ],
      "metadata": {
        "id": "aoUhzKWskHPR"
      }
    },
    {
      "cell_type": "code",
      "source": [
        "## Calls the op_factory function\n",
        "op = op_factory (\"sum\")\n",
        "\n",
        "## Calls the operation\n",
        "result = op(1, 2)\n",
        "\n",
        "## Print the result\n",
        "print (\"1 + 2 =\", result)"
      ],
      "metadata": {
        "colab": {
          "base_uri": "https://localhost:8080/"
        },
        "id": "0XiVTcxikIDA",
        "outputId": "c5151de7-d8e0-4d24-cdd5-cad8f1e16b79"
      },
      "execution_count": null,
      "outputs": [
        {
          "output_type": "stream",
          "name": "stdout",
          "text": [
            "1 + 2 = 3\n"
          ]
        }
      ]
    },
    {
      "cell_type": "markdown",
      "source": [
        "A function B defined within a function A can automatically access (read) the variables defined in A, including the arguments passed at the time of the call.\n",
        "\n",
        "For example, we can build a function that adds a constant to its single argument:\n"
      ],
      "metadata": {
        "id": "Heyjor0MkR4m"
      }
    },
    {
      "cell_type": "code",
      "source": [
        "## Define the factory function\n",
        "def make_adder (addendum):\n",
        "  ## Define an inner function (accessing the arguments of the factory)\n",
        "  def ret (x):\n",
        "    return x + addendum\n",
        "  ## Return the function\n",
        "  return ret\n",
        "\n",
        "## Calls the factory function to define an \"adder\"\n",
        "add3 = make_adder (3)\n",
        "\n",
        "## Calls the defined function\n",
        "print (\"3 + 4 =\", add3(4))"
      ],
      "metadata": {
        "colab": {
          "base_uri": "https://localhost:8080/"
        },
        "id": "OEhcZqf3kJ6h",
        "outputId": "ea56c59b-4489-417b-fc53-b20b5b0fe5bb"
      },
      "execution_count": null,
      "outputs": [
        {
          "output_type": "stream",
          "name": "stdout",
          "text": [
            "3 + 4 = 7\n"
          ]
        }
      ]
    },
    {
      "cell_type": "markdown",
      "source": [
        "### Decorators\n",
        "\n",
        "At this point, we have all the elements to build functions that accept other functions as input, modify them, and return them.\n",
        "\n",
        "For example, we can define a function that swaps the order of the arguments of one of the operators we discussed earlier.\n",
        "Of course, this function won't be particularly useful for a sum, but it could be for a subtraction or division, or for any operation where the commutative property does not hold.\n",
        "\n",
        "For example,\n"
      ],
      "metadata": {
        "id": "LQs-RTH9kaBR"
      }
    },
    {
      "cell_type": "code",
      "source": [
        "## (Re-)define the op_sum function\n",
        "def op_diff (x1, x2):\n",
        "  return x1 - x2\n",
        "\n",
        "## Then we make the factory function\n",
        "def swap_args (operator):\n",
        "  def new_operator (x1, x2):\n",
        "    return operator (x2, x1)\n",
        "\n",
        "  return new_operator\n",
        "\n",
        "## Then we call the factory function\n",
        "swapped_diff = swap_args (op_diff)\n",
        "\n",
        "## And then we call both the op_diff...\n",
        "print (\"4 - 3 =\", op_diff(4, 3))\n",
        "## ... and its version with swapped args\n",
        "print (\"3 - 4 =\", swapped_diff(4, 3))"
      ],
      "metadata": {
        "colab": {
          "base_uri": "https://localhost:8080/"
        },
        "id": "6Qn6SpQ-kQwc",
        "outputId": "b85b1433-8bf7-4ed1-b368-70ba0d15255d"
      },
      "execution_count": null,
      "outputs": [
        {
          "output_type": "stream",
          "name": "stdout",
          "text": [
            "4 - 3 = 1\n",
            "3 - 4 = -1\n"
          ]
        }
      ]
    },
    {
      "cell_type": "markdown",
      "source": [
        "A function that takes a function as an argument and returns a modified version of that function is called a **decorator**.\n",
        "*Decorators* can be used to add (or modify) the characteristics of a function at the time of its definition.\n",
        "Again, it may not seem very useful for a simple operation like swapping arguments, but in general, it can be a very powerful tool.\n",
        "\n",
        "For example, let's see how to apply the decorator that swaps arguments at the time of defining a function.\n"
      ],
      "metadata": {
        "id": "KpTdhtUCkiKF"
      }
    },
    {
      "cell_type": "code",
      "source": [
        "## Define the difference operator, swapping the arguments at the moment of the definition\n",
        "@swap_args\n",
        "def swapped_diff (x1, x2):\n",
        "  return x1-x2\n",
        "\n",
        "## Now, when calling swappwd_diff, the arguments are automatically swapped:\n",
        "print (\"4 - 3 =\", swapped_diff(3, 4))"
      ],
      "metadata": {
        "colab": {
          "base_uri": "https://localhost:8080/"
        },
        "id": "oABgKgWFkjR5",
        "outputId": "4587526f-ec50-4e6f-beae-92da233ac358"
      },
      "execution_count": null,
      "outputs": [
        {
          "output_type": "stream",
          "name": "stdout",
          "text": [
            "4 - 3 = 1\n"
          ]
        }
      ]
    },
    {
      "cell_type": "markdown",
      "source": [
        "In Python, there are many libraries that also include decorators that allow you to extend the functionality of functions in an extremely concise way.\n",
        "\n",
        "We will see some examples of decorators in the definition of classes, a little further down.\n"
      ],
      "metadata": {
        "id": "v0y3RTk2kupI"
      }
    },
    {
      "cell_type": "markdown",
      "source": [
        "## Lambda functions\n",
        "In the case of operators, we have seen examples of very short functions that have the sole purpose of transforming inputs into an output that is returned via the `return` statement.\n",
        "\n",
        "These short functions can be defined in an even more concise way in Python, using `lambda` functions:\n"
      ],
      "metadata": {
        "id": "vzqVpLMsk0Xb"
      }
    },
    {
      "cell_type": "code",
      "source": [
        "op_sum = lambda x1, x2: x1 + x2\n",
        "\n",
        "print (\"1 + 2 =\", op_sum (1, 2))\n"
      ],
      "metadata": {
        "colab": {
          "base_uri": "https://localhost:8080/"
        },
        "id": "Ed5cLTJPkmH6",
        "outputId": "b4fd97c0-389f-41a5-f820-0238cea2407d"
      },
      "execution_count": null,
      "outputs": [
        {
          "output_type": "stream",
          "name": "stdout",
          "text": [
            "1 + 2 = 3\n"
          ]
        }
      ]
    },
    {
      "cell_type": "markdown",
      "source": [
        "Lambda functions are particularly useful when used in combination with the *factory* functions we saw earlier.\n",
        "\n",
        "Let's revisit the example of associative reduction:"
      ],
      "metadata": {
        "id": "u6-C5bkWk_z0"
      }
    },
    {
      "cell_type": "code",
      "source": [
        "## Definition using a lambda function to define a default value\n",
        "def associatively_reduce (*values, operator=lambda x1, x2: x1+x2, initial_value=0):\n",
        "  ret = initial_value\n",
        "  for value in values:\n",
        "    ret = operator (ret, value)\n",
        "  return ret\n",
        "\n",
        "## Call of the function with its default values\n",
        "print (\"1 + 2 + 3 + 4 =\", associatively_reduce(1,2,3,4))"
      ],
      "metadata": {
        "colab": {
          "base_uri": "https://localhost:8080/"
        },
        "id": "P8qritB0k-6k",
        "outputId": "203ebe89-707e-4b9d-d4db-a14a5111edf3"
      },
      "execution_count": null,
      "outputs": [
        {
          "output_type": "stream",
          "name": "stdout",
          "text": [
            "1 + 2 + 3 + 4 = 10\n"
          ]
        }
      ]
    },
    {
      "cell_type": "markdown",
      "source": [
        "We can use a lambda function to define the operator *inline*, that is, within a single line of code.\n",
        "\n",
        "For example:\n"
      ],
      "metadata": {
        "id": "UpqyClYElGoo"
      }
    },
    {
      "cell_type": "code",
      "source": [
        "print (\"2 * 5 =\", associatively_reduce(2, 5, operator=lambda a,b: a*b, initial_value=1))"
      ],
      "metadata": {
        "colab": {
          "base_uri": "https://localhost:8080/"
        },
        "id": "aRiKd5FGlIn_",
        "outputId": "bd361c26-31b3-4792-8063-1c17e31c7553"
      },
      "execution_count": null,
      "outputs": [
        {
          "output_type": "stream",
          "name": "stdout",
          "text": [
            "2 * 5 = 10\n"
          ]
        }
      ]
    },
    {
      "cell_type": "markdown",
      "source": [
        "## Documentation with **docstring**\n",
        "Since Python does not define the data type of each variable, it is crucial to document functions, explaining what the input arguments represent and what the function returns.\n",
        "\n",
        "The documentation of functions can be (and it is good practice to do so) entrusted to `docstrings`, which are text strings placed immediately after the function definition with the following syntax\n"
      ],
      "metadata": {
        "id": "DiEtcGrwlNEh"
      }
    },
    {
      "cell_type": "code",
      "source": [
        "def some_function (arg1, arg2, arg3):\n",
        "  \"Some function is a function that returns the sum of its there arguments\"\n",
        "  return arg1 + arg2 + arg3"
      ],
      "metadata": {
        "id": "J556mwn0lb4T"
      },
      "execution_count": null,
      "outputs": []
    },
    {
      "cell_type": "markdown",
      "source": [
        "The documentation of a function can then be retrieved and printed using the `help` command."
      ],
      "metadata": {
        "id": "gCVbjBNDlgp_"
      }
    },
    {
      "cell_type": "code",
      "source": [
        "help(some_function)"
      ],
      "metadata": {
        "colab": {
          "base_uri": "https://localhost:8080/"
        },
        "id": "e-RPRc8WlrVa",
        "outputId": "a6d36213-1a5e-405f-c560-44a8cd3e8f6f"
      },
      "execution_count": null,
      "outputs": [
        {
          "output_type": "stream",
          "name": "stdout",
          "text": [
            "Help on function some_function in module __main__:\n",
            "\n",
            "some_function(arg1, arg2, arg3)\n",
            "    Some function is a function that returns the sum of its there arguments\n",
            "\n"
          ]
        }
      ]
    },
    {
      "cell_type": "markdown",
      "source": [
        "In this way, the documentation remains attached to the function even when using library functions, which are therefore not directly displayed in the notebook or Python script.\n"
      ],
      "metadata": {
        "id": "ndxg56J-lp1j"
      }
    },
    {
      "cell_type": "markdown",
      "source": [
        "# Classes\n",
        "Just as functions allow for the representation of elementary units in sequential programming, classes represent the fundamental unit of object-oriented programming (*Object Oriented Programming, OOP*).\n"
      ],
      "metadata": {
        "id": "IP1OCSzvgzqS"
      }
    },
    {
      "cell_type": "markdown",
      "source": [
        "Object-oriented programming is a programming paradigm that involves the existence of abstract objects which include data and the functions to access that data.\n",
        "\n",
        "These \"*objects*\" allow for the definition of logical units of a program that can be distributed and reused in other programs much more effectively than what can be done with functions.\n",
        "\n",
        "Each object is characterized by a **definition** and an **instance**.\n",
        "The *definition* of a class indicates which variables each instance should contain and the functions that should access those variables to modify the data \"contained\" in each instance.\n",
        "\n",
        "It is important to note that a single definition (class) can correspond to multiple instances. Each instance will have the same interface, but the data contained can be different.\n",
        "\n",
        "Let's see an example:\n"
      ],
      "metadata": {
        "id": "di_E1XagqNFc"
      }
    },
    {
      "cell_type": "code",
      "source": [
        "## Definition of the class (with no data)\n",
        "class Object:\n",
        "  pass\n",
        "\n",
        "## Two instances: same class, different data\n",
        "instance1 = Object()\n",
        "instance2 = Object()"
      ],
      "metadata": {
        "id": "dtm3S13IhAtf"
      },
      "execution_count": null,
      "outputs": []
    },
    {
      "cell_type": "markdown",
      "source": [
        "## Constructor and Destructor\n",
        "\n",
        "When a class is instantiated, a function called the *constructor* is executed with the task of allocating the necessary memory for the data included in each instance.\n",
        "In Python, the constructor is defined by the function `__init__`.\n",
        "Similarly, there is a function that is called when each instance is removed from memory to cleanly remove the data from memory. In Python, the destructor function is called `__del__` and is used very, very rarely, because Python keeps track of the used memory and automatically cleans up unnecessary memory with a mechanism called *garbage collection* (which we will discuss later).\n",
        "\n",
        "Let's see an example of a class with a constructor and destructor.\n"
      ],
      "metadata": {
        "id": "xHq5MWJUhC04"
      }
    },
    {
      "cell_type": "code",
      "source": [
        "class Object:\n",
        "  def __init__ (self):\n",
        "    print (\"Class Object was instanciated\")\n",
        "\n",
        "  def __del__ (self):\n",
        "    print (\"Removed Object from memory\")"
      ],
      "metadata": {
        "id": "RdGMkH3thIhY"
      },
      "execution_count": null,
      "outputs": []
    },
    {
      "cell_type": "markdown",
      "source": [
        "We observe that both the constructor (`__init__`) and the destructor (`__del__`) are defined with an argument called `self`.\n",
        "\n",
        "The first argument of a class function is always a *reference* to the class instance.\n",
        "This will become clearer later. The word `self` is not a Python keyword reserved for this variable, so it could be called something else. However, the use of `self` has become such a widespread convention that it is now considered a rule of the language.\n",
        "\n",
        "Normally, the `__init__` function is used to initialize the variables contained in an object.\n",
        "\n",
        "To access the variables of an object, the `.` (dot) operator is used,\n",
        "\n",
        "```\n",
        "<instance>.<variable>\n",
        "```\n",
        "\n",
        "This syntax is also valid within the class functions, where it becomes\n",
        "```\n",
        "self.<variable>\n",
        "```\n",
        "\n",
        "Let's see an example:\n"
      ],
      "metadata": {
        "id": "it8y0eFLhGBg"
      }
    },
    {
      "cell_type": "code",
      "source": [
        "## Define a class named Object\n",
        "class Object:\n",
        "  ## Define the constructor\n",
        "  def __init__ (self):\n",
        "    ## initializes and defines the variable `some_variable`\n",
        "    self.some_variable = 5\n",
        "\n",
        "## Create an instance of Object, named obj5\n",
        "obj5 = Object()\n",
        "\n",
        "## Create an other instance, named obj4\n",
        "obj4 = Object()\n",
        "\n",
        "## Modify the value of \"some_variable\" in obj4\n",
        "obj4.some_variable = 4\n",
        "\n",
        "## the variable `some_variable` of the instance obj5 has\n",
        "## not been modified and it is still set to its default value\n",
        "print (obj5.some_variable, \"= 5\")\n",
        "\n",
        "## the variable `some_variable` of the instance obj4 has been\n",
        "## set to 4\n",
        "print (obj4.some_variable, \"= 4\")"
      ],
      "metadata": {
        "colab": {
          "base_uri": "https://localhost:8080/"
        },
        "id": "GOdZOmp1hVqQ",
        "outputId": "33905ef4-57f2-4ff5-ab3c-392beac300a4"
      },
      "execution_count": null,
      "outputs": [
        {
          "output_type": "stream",
          "name": "stdout",
          "text": [
            "5 = 5\n",
            "4 = 4\n"
          ]
        }
      ]
    },
    {
      "cell_type": "markdown",
      "source": [
        "We can define additional arguments for the constructor, besides the reference to the instance (`self`).\n",
        "The exact same rules apply as for other functions.\n",
        "We can define positional and keyword arguments, and we can use packing and unpacking operators. Just like with \"normal\" functions.\n"
      ],
      "metadata": {
        "id": "j83qoz2GhtV4"
      }
    },
    {
      "cell_type": "code",
      "source": [
        "class Object:\n",
        "  def __init__ (self, variable):\n",
        "    self.variable = variable\n",
        "\n",
        "obj1 = Object(1)          # define `variable` as a positional argument\n",
        "obj2 = Object(variable=2) # define `variable` as a keyed argument\n",
        "\n",
        "print (obj1.variable, \"= 1\")\n",
        "print (obj2.variable, \"= 2\")"
      ],
      "metadata": {
        "colab": {
          "base_uri": "https://localhost:8080/"
        },
        "id": "j65QM7TPhoDb",
        "outputId": "97623b02-31b1-4870-a6d5-59f1bd65c2da"
      },
      "execution_count": null,
      "outputs": [
        {
          "output_type": "stream",
          "name": "stdout",
          "text": [
            "1 = 1\n",
            "2 = 2\n"
          ]
        }
      ]
    },
    {
      "cell_type": "markdown",
      "metadata": {
        "id": "nq1BplV36_SI"
      },
      "source": [
        "## *Garbage collection*"
      ]
    },
    {
      "cell_type": "markdown",
      "metadata": {
        "id": "upp9vAng1S4l"
      },
      "source": [
        "Before concluding the introduction to constructors and destructors, let's see the destructor in action. Even though the destructor is rarely defined in Python, adding a `print` statement to the destructor can be useful to understand when Python removes variables (in this case, instances) from memory.\n",
        "\n",
        "Consider the following example:"
      ]
    },
    {
      "cell_type": "code",
      "metadata": {
        "id": "Xwv1a9uJwUrH"
      },
      "source": [
        "# Define a class with both constructor and destructor\n",
        "class Object:\n",
        "  def __init__ (self):\n",
        "    print (\"init\")\n",
        "\n",
        "  def __del__ (self):\n",
        "    print (\"del\")\n",
        "\n",
        "# Then we define a function that creates that object\n",
        "def func_create ():\n",
        "  obj = Object()\n",
        "\n",
        "# And another function that creates and *returns* the object\n",
        "def func_return ():\n",
        "  obj = Object()\n",
        "  return obj"
      ],
      "execution_count": null,
      "outputs": []
    },
    {
      "cell_type": "markdown",
      "source": [
        "Now, if we call the function `func_create`, the object is created and immediately destroyed because it is not accessible outside the function, so Python removes it from memory. And when it is removed, the destructor is called.\n"
      ],
      "metadata": {
        "id": "tVrohonwh2BA"
      }
    },
    {
      "cell_type": "code",
      "source": [
        "func_create()"
      ],
      "metadata": {
        "colab": {
          "base_uri": "https://localhost:8080/"
        },
        "id": "Qn8KB2Tshv2g",
        "outputId": "9884a2c7-73e0-4dc9-c11e-bf9b60712986"
      },
      "execution_count": null,
      "outputs": [
        {
          "output_type": "stream",
          "name": "stdout",
          "text": [
            "init\n",
            "del\n"
          ]
        }
      ]
    },
    {
      "cell_type": "markdown",
      "source": [
        "The block (or blocks) of code in which a variable is visible is called the ***scope***. When exiting a *scope*, Python checks which variables are still accessible, and if it finds variables that no longer have \"references\" and are therefore no longer usable, it eliminates them.\n",
        "\n",
        "This mechanism is called *garbage collection*.\n",
        "\n",
        "Let's see what happens if, instead of just creating the object, we create it and return it.\n"
      ],
      "metadata": {
        "id": "attkgyIJh5_V"
      }
    },
    {
      "cell_type": "code",
      "source": [
        "a = func_return()"
      ],
      "metadata": {
        "colab": {
          "base_uri": "https://localhost:8080/"
        },
        "id": "1f7Up8Z_h4hw",
        "outputId": "eed318d1-f42c-4df4-cd8a-ca36157ea06f"
      },
      "execution_count": null,
      "outputs": [
        {
          "output_type": "stream",
          "name": "stdout",
          "text": [
            "init\n"
          ]
        }
      ]
    },
    {
      "cell_type": "markdown",
      "source": [
        "In this case, the destructor is not called because the object is still accessible through its \"reference\" `a`.\n",
        "\n",
        "However, we can remove the \"reference\" `a`, foregoing access to the instance of Object created in `func_return` later in the program:\n"
      ],
      "metadata": {
        "id": "YubMsUPAh9Gz"
      }
    },
    {
      "cell_type": "code",
      "source": [
        "del a"
      ],
      "metadata": {
        "colab": {
          "base_uri": "https://localhost:8080/"
        },
        "id": "vnyl7YFGh7v4",
        "outputId": "3581b08c-cb98-42e1-f935-10a564c84c58"
      },
      "execution_count": null,
      "outputs": [
        {
          "output_type": "stream",
          "name": "stdout",
          "text": [
            "del\n"
          ]
        }
      ]
    },
    {
      "cell_type": "markdown",
      "source": [
        "Rimossa la referenza `a`, non c'è più nessuna referenza all'istanza di `Object` che abbiamo creato poco sopra, e infatti Python invoca il distruttore per ripulire la memoria da un oggetto non più necessario.\n",
        "\n",
        "Il meccanismo del *garbage collection* è piuttosto robusto, e normalmente si possono scrivere programmi complicati a piacere ignorando del tutto come Python gestisce la memoria.\n",
        "Tuttavia, laddove si utilizzino librerie con implementazioni in `C++` che gestiscono la memoria senza *garbage collection*, la gestione della memoria va considerata con attenzione perché l'accesso a determinate risorse può avvenire tramite puntatori di cui Python non ha contezza. E una volta che Python non ha più referenze verso un oggetto, lo rimuove dalla memoria, anche se la libreria `C++` lo sta ancora utilizzando.\n",
        "In fisica subnucleare, questo problema si incontra spesso, perché le librerie ROOT sviluppate dal CERN per l'analisi dei dati dei grandi esperimenti di LHC sono scritte in C++ e sono state solo recentemente interfacciate a Python.\n",
        "\n"
      ],
      "metadata": {
        "id": "wZ4funoLiA4n"
      }
    },
    {
      "cell_type": "markdown",
      "source": [
        "## Methods (or *member functions*)\n",
        "\n",
        "The functions `__init__` and `__del__` have special names that indicate to Python that they should be called automatically in certain circumstances. With the same syntax, functions can be defined as members of the class with arbitrary names. Clearly, these functions will not be called automatically by Python, but only upon explicit call"
      ],
      "metadata": {
        "id": "tFKnMxfpiQdP"
      }
    },
    {
      "cell_type": "code",
      "source": [
        "## Define the class\n",
        "class MinMaxer:\n",
        "  ## Define its constructor, with packed arguments\n",
        "  def __init__ (self, *args):\n",
        "    ## Store the packed arguments in a member variable (where ctor is the short for constructor)\n",
        "    self.ctor_args = args\n",
        "\n",
        "  ## Define a method to access the minimum\n",
        "  def get_min (self):\n",
        "    min = self.ctor_args[0]\n",
        "    for arg in self.ctor_args:\n",
        "      if arg < min:\n",
        "        min = arg\n",
        "\n",
        "    return min\n",
        "\n",
        "  ## Define a method to access the maximum\n",
        "  def get_max (self):\n",
        "    max = self.ctor_args[0]\n",
        "    for arg in self.ctor_args:\n",
        "      if arg > max:\n",
        "        max = arg\n",
        "\n",
        "    return max\n"
      ],
      "metadata": {
        "id": "fHQ49JvhiMXy"
      },
      "execution_count": null,
      "outputs": []
    },
    {
      "cell_type": "markdown",
      "source": [
        "After that, we instantiate the class into a couple of variables and call the methods `get_min` and `get_max`.\n"
      ],
      "metadata": {
        "id": "XPc80qJAiW-H"
      }
    },
    {
      "cell_type": "code",
      "source": [
        "mM16 = MinMaxer (1, 2, 3, 4, 5, 6)\n",
        "mM79 = MinMaxer (9, 9, 8, 9, 7, 8)\n",
        "\n",
        "print (\"1 =\", mM16.get_min())\n",
        "print (\"6 =\", mM16.get_max())\n",
        "print (\"7 =\", mM79.get_min())\n",
        "print (\"9 =\", mM79.get_max())"
      ],
      "metadata": {
        "colab": {
          "base_uri": "https://localhost:8080/"
        },
        "id": "viBMKXk1iZ5v",
        "outputId": "d9e11f2d-0d0f-41aa-bbb8-4a2dbda78103"
      },
      "execution_count": null,
      "outputs": [
        {
          "output_type": "stream",
          "name": "stdout",
          "text": [
            "1 = 1\n",
            "6 = 6\n",
            "7 = 7\n",
            "9 = 9\n"
          ]
        }
      ]
    },
    {
      "cell_type": "markdown",
      "source": [
        "This is the first example of a class with all the elements that made object-oriented programming a revolution in the world of computer science. Let's focus a bit more on these elements.\n",
        "\n",
        "1. `MinMaxer` defines a constructor, where resources are acquired. In this very simple case, the resources are represented by a list of integers passed as \"packed\" arguments. The data is stored within the class in a member variable.\n",
        "2. `MinMaxer` defines an interface that allows access to the data"
      ],
      "metadata": {
        "id": "206pCeq_ik2e"
      }
    },
    {
      "cell_type": "markdown",
      "source": [
        "## Operators\n",
        "Besides `__init__` and `__del__`, there are many other keywords in Python that allow defining methods that are called automatically in certain circumstances. These methods are typically referred to as **operators** because the \"circumstances\" that determine their call are often indicated by symbols that appear around the instance, which in mathematics represent operators.\n",
        "\n",
        "Easier done than said, so let's see an example.\n",
        "We define a \"vector\" class that takes three coordinates as an argument (limiting ourselves to a three-dimensional space). For example, we want to be able to define our vectors with the syntax\n",
        "\n",
        "```python\n",
        "vecX = Vector3d(1, 0, 0)\n",
        "vecY = Vector3d(0, 1, 0)\n",
        "vecZ = Vector3d(0, 0, 1)\n",
        "```\n",
        "\n",
        "At this point, we want to implement the dot product between these vectors, so that\n",
        "```python\n",
        "vecX * vecX\n",
        "```\n",
        "returns one, while\n",
        "```python\n",
        "vecX * vecY\n",
        "```\n",
        "returns zero.\n",
        "\n",
        "So,\n",
        "\n"
      ],
      "metadata": {
        "id": "IBtF7fNFiVRf"
      }
    },
    {
      "cell_type": "code",
      "source": [
        "class Vector3d:\n",
        "  def __init__ (self, x, y, z):\n",
        "    self.x = x\n",
        "    self.y = y\n",
        "    self.z = z\n",
        "\n",
        "  ## Defines the operator multiplication.\n",
        "  def __mul__ (self, other):\n",
        "    return self.x * other.x + self.y * other.y + self.z * other.z\n",
        "\n",
        "vecX = Vector3d(1, 0, 0)\n",
        "vecY = Vector3d(0, 1, 0)\n",
        "\n",
        "print (vecX * vecX, \"= 1\")\n",
        "print (vecX * vecY, \"= 0\")\n"
      ],
      "metadata": {
        "colab": {
          "base_uri": "https://localhost:8080/"
        },
        "id": "nrqPaQCtiuow",
        "outputId": "b989a665-15d6-4f7a-ea00-035cc8823029"
      },
      "execution_count": null,
      "outputs": [
        {
          "output_type": "stream",
          "name": "stdout",
          "text": [
            "1 = 1\n",
            "0 = 0\n"
          ]
        }
      ]
    },
    {
      "cell_type": "markdown",
      "source": [
        "The `*` operator placed between `vecX` and `vecY` causes the `__mul__` function to be called, even without an explicit call.\n",
        "\n",
        "The `__mul__` function takes two arguments representing the references to the two factors involved in the multiplication. Note that the first of the two is always the class itself, while the second can be an arbitrary object, such as a real number.\n",
        "That is, we expect that\n",
        "```python\n",
        "vecX * 3\n",
        "```\n",
        "would return a vector (3, 0, 0), but in this simple example an error would be generated because we have implemented the `__mul__` function with the assumption that the second factor is a vector.\n",
        "\n",
        "Let's see an example of `Vector3d` where, instead of defining the `vector*vector` product, we define the `vector*real` product.\n"
      ],
      "metadata": {
        "id": "hJSQo9mLm5QU"
      }
    },
    {
      "cell_type": "code",
      "source": [
        "class Vector3d:\n",
        "  def __init__ (self, x, y, z):\n",
        "    self.x, self.y, self.z = x, y, z\n",
        "\n",
        "  def __mul__ (self, other):\n",
        "    \"Multiplication with a scalar\"\n",
        "    return Vector3d (self.x * other, self.y * other, self.z * other)\n",
        "\n",
        "vecX = Vector3d (1, 0, 0)\n",
        "vec3X = vecX * 3\n",
        "print (\"3 0 0 =\", vec3X.x, vec3X.y, vec3X.z)"
      ],
      "metadata": {
        "colab": {
          "base_uri": "https://localhost:8080/"
        },
        "id": "ugZ47Gg4nBcR",
        "outputId": "deb2c719-96b6-4f8d-8556-3f1ad82a1090"
      },
      "execution_count": null,
      "outputs": [
        {
          "output_type": "stream",
          "name": "stdout",
          "text": [
            "3 0 0 = 3 0 0\n"
          ]
        }
      ]
    },
    {
      "cell_type": "markdown",
      "source": [
        "Unfortunately, Python cannot know if our multiplication enjoys the commutative property or not. So, if instead of writing `vecX * 3`, we wrote `3 * vecX`, we would generate an error.\n",
        "In fact, the multiplication `other * self` does not invoke the same function `__mul__` invoked by `self * other`!\n",
        "\n",
        " * `self * other` -> calls `__mul__`\n",
        " * `other * self` -> calls `__rmul__`\n",
        "\n",
        "A table that reports the names of functions called depending on the syntactic context in which the reference to an instance is found can be consulted [here](https://docs.python.org/3/library/operator.html#mapping-operators-to-functions).\n"
      ],
      "metadata": {
        "id": "kRkUba6pnITY"
      }
    },
    {
      "cell_type": "markdown",
      "source": [
        "## Object-Oriented Programming (Introduction)\n",
        "\n",
        "Structuring code into objects, instead of as a sequence of instructions, offers great advantages in code reuse. Indeed, a sufficiently generic object can be reused as-is in many different contexts.\n",
        "Consider a class that defines a vector or a matrix, with an interface that allows calculations"
      ],
      "metadata": {
        "id": "GI2uCIgQnPwY"
      }
    },
    {
      "cell_type": "markdown",
      "source": [
        "The reuse of code has led to the proliferation of libraries that address more or less specific problems, presenting an interface to the \"client\" application that can adapt to different contexts without needing to understand the logic used to solve various problems.\n",
        "\n",
        "This approach to programming is called \"object-oriented\" and has historically represented a true revolution in the way software is conceived and distributed.\n",
        "Along with the concept of an object, techniques for interacting with these objects have also been developed to address specific issues that may arise in the distribution of object-based libraries.\n",
        "\n",
        "Among these, we will briefly discuss three important concepts and see how they have been adopted in Python. In particular, we will see:\n",
        " * the concept of *encapsulation*, which involves exposing an interface that is as generic and independent of the implementation as possible. Encapsulating the *implementation* means allowing the freedom to modify it later without having to change the interface that the object exposes to client applications. *Encapsulation* is thus a fundamental technique for ensuring *maintainability* of the code;\n",
        " * the concept of *inheritance* of a class, which involves extending the behavior of a class by adding new functionalities (or in some measure modifying existing ones). The inheritance technique takes the concept of code reuse to the extreme because it allows the construction of \"inheritance trees\" where all functionalities shared among even very different objects are grouped in classes progressively closer to the root, and are differentiated by functionalities described closer to the leaves.\n",
        " * the concept of *polymorphism* which allows using an object by considering only parts of its interface, even mixing different objects that still present compatible interfaces.\n",
        "\n",
        "These concepts are not unique to Python and, in fact, were developed in compiled languages (such as C++) where they are used much more widely than in Python.\n"
      ],
      "metadata": {
        "id": "5KHTfMVanRsH"
      }
    },
    {
      "cell_type": "markdown",
      "source": [
        "### Inheritance\n",
        "\n",
        "Let's start by discussing the concept of inheritance with an example.\n",
        "\n",
        "We define a class `Base` that, when instantiated, stores an integer, which we will call `datum`, and returns it through the `get_value` function. We also add a function that simply prints the original data, which we will call `dump`.\n"
      ],
      "metadata": {
        "id": "FgSsW4Z6nVpw"
      }
    },
    {
      "cell_type": "code",
      "source": [
        "class Base:\n",
        "  def __init__ (self, value):\n",
        "    self.datum = value\n",
        "\n",
        "  def get_value (self):\n",
        "    return self.datum\n",
        "\n",
        "  def dump (self):\n",
        "    print (self.datum)"
      ],
      "metadata": {
        "id": "0RBsqf9FnDZI"
      },
      "execution_count": null,
      "outputs": []
    },
    {
      "cell_type": "markdown",
      "source": [
        "From this class, we derive two subclasses that, instead of returning the data initialized by the constructor, return it multiplied and divided by a constant, respectively, which is also defined in the constructor.\n",
        "\n",
        "Here is the first class (which multiplies):\n"
      ],
      "metadata": {
        "id": "4HZZfOO_nZWA"
      }
    },
    {
      "cell_type": "code",
      "source": [
        "class Multiplier (Base):  # The parentheses indicate that the Multiplier class\n",
        "                          # inherit from \"Base\" object.\n",
        "  def __init__ (self, value, multiplier):\n",
        "    Base.__init__ (self, value)  # Fall back on the original multiplier\n",
        "    self.multiplier = multiplier\n",
        "\n",
        "  def get_value (self):   # Override of the function `get_value`\n",
        "    return self.datum * self.multiplier"
      ],
      "metadata": {
        "id": "86P2utRbnE7R"
      },
      "execution_count": null,
      "outputs": []
    },
    {
      "cell_type": "markdown",
      "source": [
        "Let's go through it line by line.\n",
        "```\n",
        "class Multiplier (Base):\n",
        "```\n",
        "First, we define a new class called `Multiplier` that **inherits** from the `Base` class.\n",
        "The inheritance relationship means that every instance of `Multiplier` is also an instance of `Base`. Removing functionalities from a `Base` class, while possible, often results in code full of bugs and very difficult to read and maintain. The rule is that as we inherit from a class, we add functionalities so that every instance of a derived class *is also* an instance of the base class.\n",
        "\n",
        "```\n",
        "def __init__ (self, value, multiplier):\n",
        "```\n",
        "Here we define the constructor. We take as input a value that initializes the `Base` class, plus the multiplier.\n",
        "\n",
        "```\n",
        "  Base.__init__ (self, value)\n",
        "```\n",
        "With this instruction, we are \"reusing\" the constructor of the `Base` class, explicitly indicating it.\n",
        "Note that `Base`"
      ],
      "metadata": {
        "id": "k_4ji5Ivn3Xh"
      }
    },
    {
      "cell_type": "code",
      "source": [
        "class Divider (Base):\n",
        "  def __init__ (self, value, divider):\n",
        "    Base.__init__ (self, value)\n",
        "    self.divider = divider\n",
        "\n",
        "  def get_value (self):\n",
        "    return self.datum / self.divider"
      ],
      "metadata": {
        "id": "mzsX4asin274"
      },
      "execution_count": null,
      "outputs": []
    },
    {
      "cell_type": "markdown",
      "source": [
        "Let's proceed to instantiate all three of them:"
      ],
      "metadata": {
        "id": "idf07f5lob0k"
      }
    },
    {
      "cell_type": "code",
      "source": [
        "base = Base(3)\n",
        "mult = Multiplier(4, 2)\n",
        "divi = Divider(6, 2)\n",
        "\n",
        "## As a Base instance, base will return the argument as it is\n",
        "print (\"3 =\", base.get_value())\n",
        "## As a Multiplier instance, mult will return the product of the two arguments\n",
        "print (\"8 =\", mult.get_value())\n",
        "## As a Divider instance, divi will return the division of the first and second argument\n",
        "print (\"3 =\", divi.get_value())\n"
      ],
      "metadata": {
        "colab": {
          "base_uri": "https://localhost:8080/"
        },
        "id": "6gjyQRl5oUQK",
        "outputId": "366874b2-400d-4949-b0cf-faac79f6248d"
      },
      "execution_count": null,
      "outputs": [
        {
          "output_type": "stream",
          "name": "stdout",
          "text": [
            "3 = 3\n",
            "8 = 8\n",
            "3 = 3.0\n"
          ]
        }
      ]
    },
    {
      "cell_type": "markdown",
      "source": [
        "Since we did not override the `dump` function,\n",
        "we can call the original version defined in `Base`, which ignores multiplication and division and simply prints the value.\n"
      ],
      "metadata": {
        "id": "OJkbDbT9oYU4"
      }
    },
    {
      "cell_type": "code",
      "source": [
        "base.dump() ## -> 3\n",
        "mult.dump() ## -> 4\n",
        "divi.dump() ## -> 6"
      ],
      "metadata": {
        "colab": {
          "base_uri": "https://localhost:8080/"
        },
        "id": "7gz_8LMjog-4",
        "outputId": "4bf87ad4-2d97-435f-caeb-eb0210e8b4fe"
      },
      "execution_count": null,
      "outputs": [
        {
          "output_type": "stream",
          "name": "stdout",
          "text": [
            "3\n",
            "4\n",
            "6\n"
          ]
        }
      ]
    },
    {
      "cell_type": "markdown",
      "source": [
        "### Polymorphism and *Duck Typing*\n",
        "Continuing with this example, let's try to show a case of polymorphism.\n",
        "We can, for example, loop through different objects, trusting that they all expose at least a part of the interface (the one we use) in common.\n",
        "In this case, we will use the `get_value` function. They are different objects, they have different implementations, but the `<instance>.get_value()` interface is common to all, so the loop works:\n"
      ],
      "metadata": {
        "id": "jh1Ynz3yokUw"
      }
    },
    {
      "cell_type": "code",
      "source": [
        "for instance in base, mult, divi:\n",
        "  print (instance.get_value())\n",
        "print ('---')\n",
        "for instance in base, mult, divi:\n",
        "  instance.dump()"
      ],
      "metadata": {
        "colab": {
          "base_uri": "https://localhost:8080/"
        },
        "id": "D4nyKUnWorK6",
        "outputId": "2f200bdd-9029-49cd-cfad-15908146c250"
      },
      "execution_count": null,
      "outputs": [
        {
          "output_type": "stream",
          "name": "stdout",
          "text": [
            "3\n",
            "8\n",
            "3.0\n",
            "---\n",
            "3\n",
            "4\n",
            "6\n"
          ]
        }
      ]
    },
    {
      "cell_type": "markdown",
      "source": [
        "In Python, as in most object-oriented languages, this behavior can be achieved with inheritance, as shown above, so that a common `Base` ensures a common interface.\n",
        "\n",
        "In Python, however, since there is no compilation, the same effect can be achieved simply by defining the same interface in objects that share nothing.\n",
        "\n",
        "This technique of achieving polymorphism without inheritance is called ***duck typing***.\n",
        "\n",
        "For example,\n"
      ],
      "metadata": {
        "id": "WOxy6isfow40"
      }
    },
    {
      "cell_type": "code",
      "source": [
        "class Three:\n",
        "  def get(self):\n",
        "    return 3\n",
        "\n",
        "class Four:\n",
        "  def get(self):\n",
        "    return 4\n",
        "\n",
        "\n",
        "i3, i4 = Three(), Four()\n",
        "for instance in i3, i4:\n",
        "  print (instance.get())"
      ],
      "metadata": {
        "colab": {
          "base_uri": "https://localhost:8080/"
        },
        "id": "LqFca-Lgoy8_",
        "outputId": "cfe226f4-8f14-42d8-a97d-17d2ce2ec4a5"
      },
      "execution_count": null,
      "outputs": [
        {
          "output_type": "stream",
          "name": "stdout",
          "text": [
            "3\n",
            "4\n"
          ]
        }
      ]
    },
    {
      "cell_type": "markdown",
      "source": [
        "### Encapsulation and Properties\n",
        "\n",
        "As previously discussed, encapsulation is a technique that allows modifying the implementation while maintaining the same interface.\n",
        "\n",
        "Let's try to understand why it is useful and important with an example *not to follow*.\n",
        "\n",
        "We define a new class MinMaxer that directly calculates the minimum and maximum value in the constructor and saves them in two variables `min` and `max` which are exposed to client applications to obtain, precisely, the minimum and maximum value among the arguments.\n"
      ],
      "metadata": {
        "id": "c-I7WzeDo5T3"
      }
    },
    {
      "cell_type": "code",
      "source": [
        "class MinMaxer:\n",
        "  def __init__ (self, *values):\n",
        "    self.min = values[0]\n",
        "    self.max = values[0]\n",
        "    for value in values:\n",
        "      if value > self.max:\n",
        "        self.max = value\n",
        "      if value < self.min:\n",
        "        self.min = value\n"
      ],
      "metadata": {
        "id": "TfxhuvIxo0pJ"
      },
      "execution_count": null,
      "outputs": []
    },
    {
      "cell_type": "markdown",
      "source": [
        "Let's imagine a very complex application that uses our MinMaxer.\n"
      ],
      "metadata": {
        "id": "blI_QL5GpAyT"
      }
    },
    {
      "cell_type": "code",
      "source": [
        "class VeryComplicatedClientApplication:\n",
        "  def at_some_point (self, *args):\n",
        "    maxer = MinMaxer(*args)\n",
        "    print (\"Max is\", maxer.max)\n",
        "\n",
        "app = VeryComplicatedClientApplication()\n",
        "app.at_some_point(2, 3, 4, 5, 6)"
      ],
      "metadata": {
        "colab": {
          "base_uri": "https://localhost:8080/"
        },
        "id": "N00gWKvvo-_g",
        "outputId": "246b31c0-d4de-4ac1-c13e-56331a68d43e"
      },
      "execution_count": null,
      "outputs": [
        {
          "output_type": "stream",
          "name": "stdout",
          "text": [
            "Max is 6\n"
          ]
        }
      ]
    },
    {
      "cell_type": "markdown",
      "source": [
        "At this point, we decide that we want to add the ability to define two thresholds to `MinMaxer`, so that the maximum and minimum values can never be above or below these thresholds.\n",
        "\n",
        "With the class defined as it is, we would be forced to recalculate the minimum and maximum values every time the thresholds are updated, which can be very inconvenient in terms of computational cost.\n",
        "\n",
        "Let's look at this alternative example:\n"
      ],
      "metadata": {
        "id": "uGKrXAAhpO_A"
      }
    },
    {
      "cell_type": "code",
      "source": [
        "class MinMaxer:\n",
        "  def __init__ (self, *values, th_min=-10000, th_max=10000):\n",
        "    self._min = values[0]\n",
        "    self._max = values[0]\n",
        "    self.th_min = th_min\n",
        "    self.th_max = th_max\n",
        "    for value in values:\n",
        "      if value > self._max:\n",
        "        self._max = value\n",
        "      if value < self._min:\n",
        "        self._min = value\n",
        "\n",
        "  def get_min(self):\n",
        "    if self._min > self.th_min:\n",
        "      return self._min\n",
        "    else:\n",
        "      return self.th_min\n",
        "\n",
        "  def get_max(self):\n",
        "    if self._max < self.th_max:\n",
        "      return self._max\n",
        "    else:\n",
        "      return self.th_max\n"
      ],
      "metadata": {
        "id": "BAxwQYB4pOMQ"
      },
      "execution_count": null,
      "outputs": []
    },
    {
      "cell_type": "markdown",
      "source": [
        "By exposing functions as interfaces instead of member variables, we retain the ability to modify them, for example, to add new functionalities to the class.\n",
        "\n",
        "This principle is at the core of the concept of *encapsulation*.\n",
        "\n",
        "We note that the convention in Python is that variables not intended to be accessed from outside the class (*private*) are indicated by prefixing the variable name with an underscore (`_`).\n",
        "So, looking at the defined class above, we quickly understand that:\n",
        " * `_min` and `_max` should not be read (or written) directly but are internal variables of the class.\n",
        " * `th_min` and `th_max` are public variables that we can read and modify (public variables).\n",
        "\n",
        "Python allows implementing *encapsulation* for variables as well, through the concept of properties.\n",
        "\n",
        "This way, we can have the advantages of *encapsulation* discussed above while maintaining the same exact interface that we have used *so extensively* in our `VeryComplicatedClientApplication`.\n"
      ],
      "metadata": {
        "id": "5WNuflK1pYhG"
      }
    },
    {
      "cell_type": "code",
      "source": [
        "## MinMaxer\n",
        "class MinMaxer:\n",
        "  def __init__ (self, *values, th_min=-10000, th_max=10000):\n",
        "    self._min = values[0]\n",
        "    self._max = values[0]\n",
        "    self.th_min = th_min\n",
        "    self.th_max = th_max\n",
        "    for value in values:\n",
        "      if value > self._max:\n",
        "        self._max = value\n",
        "      if value < self._min:\n",
        "        self._min = value\n",
        "\n",
        "  @property\n",
        "  def min(self):\n",
        "    if self._min > self.th_min:\n",
        "      return self._min\n",
        "    else:\n",
        "      return self.th_min\n",
        "\n",
        "  @property\n",
        "  def max(self):\n",
        "    if self._max < self.th_max:\n",
        "      return self._max\n",
        "    else:\n",
        "      return self.th_max\n",
        "\n",
        "\n",
        "## Client Application\n",
        "class VeryComplicatedClientApplication:\n",
        "  def at_some_point (self, *args):\n",
        "    maxer = MinMaxer(*args)\n",
        "    print (\"Max is\", maxer.max)\n",
        "\n",
        "app = VeryComplicatedClientApplication()\n",
        "app.at_some_point(2, 3, 4, 5, 6)"
      ],
      "metadata": {
        "colab": {
          "base_uri": "https://localhost:8080/"
        },
        "id": "iAhxLvZKpZ54",
        "outputId": "e8ff6e95-48c2-44b0-e61f-2576869e87fc"
      },
      "execution_count": null,
      "outputs": [
        {
          "output_type": "stream",
          "name": "stdout",
          "text": [
            "Max is 6\n"
          ]
        }
      ]
    },
    {
      "cell_type": "markdown",
      "source": [
        "By exposing functions as interfaces instead of member variables, we retain the ability to modify them, for example, to add new functionalities to the class.\n",
        "\n",
        "This principle is at the core of the concept of *encapsulation*.\n",
        "\n",
        "We note that the convention in Python is that variables not intended to be accessed from outside the class (*private*) are indicated by prefixing the variable name with an underscore (`_`).\n",
        "So, looking at the defined class above, we quickly understand that:\n",
        " * `_min` and `_max` should not be read (or written) directly but are internal variables of the class.\n",
        " * `th_min` and `th_max` are public variables that we can read and modify (public variables).\n",
        "\n",
        "Python allows implementing *encapsulation* for variables as well, through the concept of properties.\n",
        "\n",
        "This way, we can have the advantages of *encapsulation* discussed above while maintaining the same exact interface that we have used *so extensively* in our `VeryComplicatedClientApplication`.\n"
      ],
      "metadata": {
        "id": "9IKwyzmkphDS"
      }
    },
    {
      "cell_type": "code",
      "source": [
        "## MinMaxer\n",
        "class MinMaxer:\n",
        "  def __init__ (self, *values, th_min=-10000, th_max=10000):\n",
        "    self._min = values[0]\n",
        "    self._max = values[0]\n",
        "    self.th_min = th_min\n",
        "    self.th_max = th_max\n",
        "    for value in values:\n",
        "      if value > self._max:\n",
        "        self._max = value\n",
        "      if value < self._min:\n",
        "        self._min = value\n",
        "\n",
        "  @property\n",
        "  def min(self):\n",
        "    if self._min > self.th_min:\n",
        "      return self._min\n",
        "    else:\n",
        "      return self.th_min\n",
        "\n",
        "  @property\n",
        "  def max(self):\n",
        "    if self._max < self.th_max:\n",
        "      return self._max\n",
        "    else:\n",
        "      return self.th_max\n",
        "\n",
        "\n",
        "## Client Application\n",
        "class VeryComplicatedClientApplication:\n",
        "  def at_some_point (self, *args):\n",
        "    maxer = MinMaxer(*args)\n",
        "    print (\"Max is\", maxer.max)\n",
        "\n",
        "app = VeryComplicatedClientApplication()\n",
        "app.at_some_point(2, 3, 4, 5, 6)"
      ],
      "metadata": {
        "colab": {
          "base_uri": "https://localhost:8080/"
        },
        "id": "qgP2czc8pjJP",
        "outputId": "ff4896bf-ef56-4894-a392-585427728d3b"
      },
      "execution_count": null,
      "outputs": [
        {
          "output_type": "stream",
          "name": "stdout",
          "text": [
            "Max is 6\n"
          ]
        }
      ]
    },
    {
      "cell_type": "markdown",
      "source": [
        "Properties also allow making some variables read-only. In fact,\n",
        "```\n",
        "minmaxer.min = 3\n",
        "```\n",
        "would generate an error because we have not defined a function to set a variable.\n",
        "\n",
        "As a concluding example on encapsulation with properties, let's see an example of a class that defines a circle and allows defining the radius and area, and calculating one given the other.\n"
      ],
      "metadata": {
        "id": "-OX-zEJWp5dy"
      }
    },
    {
      "cell_type": "code",
      "source": [
        "class Circle:\n",
        "  def __init__ (self, radius):\n",
        "    self.radius = radius\n",
        "\n",
        "  @property\n",
        "  def radius (self):\n",
        "    return self._radius\n",
        "\n",
        "  @radius.setter\n",
        "  def radius (self, value):\n",
        "    self._radius = value if value > 0 else 0\n",
        "\n",
        "  @property\n",
        "  def area (self):\n",
        "    return 3.141 * self.radius * self.radius\n",
        "\n",
        "  @area.setter\n",
        "  def area (self, new_area):\n",
        "    new_area = new_area if new_area > 0 else 0\n",
        "    self._radius = (new_area/3.141)**0.5\n",
        "\n",
        "print (\"--- Circle with radius: 3 ---\")\n",
        "c = Circle (3)\n",
        "print (\"R:\", c.radius)\n",
        "print (\"A:\", c.area)\n",
        "print (\"--- Circle with radius: 1 ---\")\n",
        "c.radius = 1\n",
        "print (\"R:\", c.radius)\n",
        "print (\"A:\", c.area)\n",
        "print (\"--- Circle with area: 3 ---\")\n",
        "c.area = 3\n",
        "print (\"R:\", c.radius)\n",
        "print (\"A:\", c.area)"
      ],
      "metadata": {
        "colab": {
          "base_uri": "https://localhost:8080/"
        },
        "id": "kO65LD8yp8J4",
        "outputId": "09245abf-4296-4475-8e60-0f5cee235ff9"
      },
      "execution_count": null,
      "outputs": [
        {
          "output_type": "stream",
          "name": "stdout",
          "text": [
            "--- Circle with radius: 3 ---\n",
            "R: 3\n",
            "A: 28.269\n",
            "--- Circle with radius: 1 ---\n",
            "R: 1\n",
            "A: 3.141\n",
            "--- Circle with area: 3 ---\n",
            "R: 0.9772972104898937\n",
            "A: 3.0\n"
          ]
        }
      ]
    },
    {
      "cell_type": "markdown",
      "source": [
        "## Static Methods and Class Methods\n",
        "\n",
        "Besides properties, there are two other *special methods* that allow the use of methods in a non-standard way:\n",
        " * *static methods*, which do not access the instance of the class and can be called even without instantiating the class.\n",
        " * *class methods*, which access the class but not the instance"
      ],
      "metadata": {
        "id": "WM6vgQe2qBfr"
      }
    },
    {
      "cell_type": "code",
      "source": [
        "class MyClass:\n",
        "  def __init__ (self, name):\n",
        "    self.name = name\n",
        "\n",
        "  def standard_method (self):\n",
        "    print (\"instance: \", self.name)\n",
        "\n",
        "  @classmethod\n",
        "  def class_method (cls):\n",
        "    print (\"inherited?\", cls != MyClass)\n",
        "\n",
        "  @staticmethod\n",
        "  def static_method ():\n",
        "    print (\"No self, no class reference\")\n",
        "\n",
        "class DerivedClass (MyClass):\n",
        "  pass\n",
        "\n",
        "## Let's intanciate the two classes\n",
        "instance = MyClass(\"an instance\")\n",
        "another_instance = DerivedClass(\"another_instance\")\n",
        "\n",
        "## All functions can be called from instances\n",
        "instance.standard_method()\n",
        "instance.class_method()\n",
        "instance.static_method()\n",
        "\n",
        "## The class method access to the class of the instance, so for example\n",
        "## it can be used to check if the instance is of a certain class\n",
        "another_instance.class_method()\n",
        "\n",
        "## Static and class methods can be called without an instance, from the class\n",
        "MyClass.class_method()\n",
        "DerivedClass.class_method()\n",
        "\n",
        "MyClass.static_method()"
      ],
      "metadata": {
        "colab": {
          "base_uri": "https://localhost:8080/"
        },
        "id": "dciJHl7Np-Ui",
        "outputId": "548633b3-6377-4024-dab6-2c526d13636d"
      },
      "execution_count": null,
      "outputs": [
        {
          "output_type": "stream",
          "name": "stdout",
          "text": [
            "instance:  an instance\n",
            "inherited? False\n",
            "No self, no class reference\n",
            "inherited? True\n",
            "inherited? False\n",
            "inherited? True\n",
            "No self, no class reference\n"
          ]
        }
      ]
    },
    {
      "cell_type": "markdown",
      "source": [
        "# Gli oggetti *built-in* in Python\n",
        "\n",
        "Dopo aver discusso come si implementano gli ogget in Python, vediamo alcuni esempi di oggetti in Python. Questi oggetti sono parte integrante del linguaggio e disponibili senza caricare librerie esterne.\n",
        "\n",
        "Qui ci limiteremo ad un breve riassunto utile al corso.\n",
        "La documentazione completa è disponibile qui: https://docs.python.org/3.8/library/stdtypes.html#text-sequence-type-str"
      ],
      "metadata": {
        "id": "r7wsl1SXqOBA"
      }
    },
    {
      "cell_type": "markdown",
      "source": [
        "## Mutable and Immutable Data Types\n",
        "Data types in Python are classified into two categories: **mutable** and **immutable**.\n",
        "\n",
        "Immutable data types are:\n",
        " * Integers (`int`)\n",
        " * Floating-point numbers (`float`)\n",
        " * Boolean variables (`bool`)\n",
        " * Text strings (`str`)\n",
        " * Tuple sequences (`tuple`)\n",
        "\n",
        "While mutable data types are:\n",
        " * Lists (`list`)\n",
        " * Dictionaries or hash tables (`dict`)\n",
        " * Sets of unique or non-repeated variables (`set`)\n",
        " * Instances of classes (see above)\n",
        "\n",
        "Before considering each of these types in detail, let's focus on the difference between mutable and immutable data types.\n",
        "\n",
        "Let's create a function `add` that takes two input arguments and adds the second argument to the first one, without returning anything.\n"
      ],
      "metadata": {
        "id": "01twjgzYqeqw"
      }
    },
    {
      "cell_type": "code",
      "source": [
        "def add (arg1, arg2):\n",
        "  arg1 += arg2"
      ],
      "metadata": {
        "id": "Fale9sDcqWEX"
      },
      "execution_count": null,
      "outputs": []
    },
    {
      "cell_type": "markdown",
      "source": [
        "When calling this function with immutable data, such as integers or strings, the variables passed as arguments are not modified.\n"
      ],
      "metadata": {
        "id": "Zq2AsuFoqlyo"
      }
    },
    {
      "cell_type": "code",
      "source": [
        "# Example with integers\n",
        "a, b = 1, 2\n",
        "add (a, b)\n",
        "print (a)\n",
        "\n",
        "# Example with strings\n",
        "a = \"hello\"\n",
        "b = \"world\"\n",
        "add (a, b)\n",
        "print (a)"
      ],
      "metadata": {
        "colab": {
          "base_uri": "https://localhost:8080/"
        },
        "id": "fGAR61iEqhRi",
        "outputId": "02f202e5-fc0b-4804-871a-79d7f053e7b7"
      },
      "execution_count": null,
      "outputs": [
        {
          "output_type": "stream",
          "name": "stdout",
          "text": [
            "1\n",
            "hello\n"
          ]
        }
      ]
    },
    {
      "cell_type": "markdown",
      "source": [
        "With mutable data types, however, the variables used\n",
        "as arguments are modified. Even outside the function.\n",
        "\n",
        "Let's see an example with lists.\n"
      ],
      "metadata": {
        "id": "Lp8NYVEQqtKI"
      }
    },
    {
      "cell_type": "code",
      "source": [
        "a = list(['hello'])\n",
        "b = list(['world'])\n",
        "add (a, b)          ## Notice: the + operator means \"concatenate\" for two lists\n",
        "print (a)"
      ],
      "metadata": {
        "colab": {
          "base_uri": "https://localhost:8080/"
        },
        "id": "_Au-oY9OqwJw",
        "outputId": "48ef80ec-8379-4ede-988c-14f3b95b8eec"
      },
      "execution_count": null,
      "outputs": [
        {
          "output_type": "stream",
          "name": "stdout",
          "text": [
            "['hello', 'world']\n"
          ]
        }
      ]
    },
    {
      "cell_type": "markdown",
      "source": [
        "In this second case, the variable `a` gets modified!\n",
        "\n",
        "**Why is the behavior different?**\n",
        "The reason is that immutable data types are considered small objects that can be copied every time they are modified. For example, when we write\n",
        "```\n",
        "a = 42\n",
        "a += 1\n",
        "```\n",
        "the variable `a` is allocated and assigned the value 42, then a second variable is allocated and assigned the value 43, and finally the new variable allocated containing 43 is \"linked\" to the symbol `a`. If there are no more active references to the original variable (42), it is removed from memory according to the *garbage collection* mechanism discussed earlier.\n",
        "In the case discussed above, a reference to the original variable still exists after it has been incremented (outside the `add` function), so it is not deallocated, nor is it modified.\n",
        "\n",
        "In Python, the `id` instruction allows you to know the identifier of a memory area where a variable is stored. Using it, we can verify that the variable `a` is stored in two different memory cells before and after its increment:\n"
      ],
      "metadata": {
        "id": "0sQpgp-zrKTJ"
      }
    },
    {
      "cell_type": "code",
      "source": [
        "a = 42\n",
        "print (id(a))\n",
        "a += 1\n",
        "print (id(a))"
      ],
      "metadata": {
        "colab": {
          "base_uri": "https://localhost:8080/"
        },
        "id": "_n6_J7C2rcNz",
        "outputId": "dc50c8a6-34e8-408f-f2fb-bacbe56a9c65"
      },
      "execution_count": null,
      "outputs": [
        {
          "output_type": "stream",
          "name": "stdout",
          "text": [
            "10752168\n",
            "10752200\n"
          ]
        }
      ]
    },
    {
      "cell_type": "markdown",
      "source": [
        "These differences between **mutable** and **immutable** variables should be taken into consideration especially when working with functions and classes, because passing a mutable variable as an argument implicitly authorizes that class or function to modify that object, and this can have unexpected implications.\n",
        "\n",
        "The difference is so important that Python has defined two data types that are practically identical except for the fact that one is mutable and the other is not: *lists* (mutable) and *tuples* (immutable).\n"
      ],
      "metadata": {
        "id": "W5lRDLHlrjsM"
      }
    },
    {
      "cell_type": "markdown",
      "source": [
        "## Strings\n",
        "Text strings, or simply strings, represent fragments of text. Working with strings is fundamental for interacting with human beings.\n"
      ],
      "metadata": {
        "id": "m-IzUA6xrrMg"
      }
    },
    {
      "cell_type": "markdown",
      "source": [
        "In Python, strings can be defined indifferently\n",
        " * `with 'single quotes'`, or\n",
        " * `with \"double quotes\"`\n",
        "\n",
        "When defined this way, the text strings must be closed on the same line in which they are opened. That is,\n",
        "```\n",
        "\"this string is valid\"\n",
        "\"this string\n",
        " is not valid\"\n",
        "```\n",
        "\n",
        "**You can** define multi-line strings with triple quotes, for example:\n",
        "```\n",
        "\"\"\"This is\n",
        "a valid string\"\"\"\n",
        "\n",
        "''' and so is\n",
        "this one'''\n",
        "\n",
        "\"\"\" and this one, even though it is on a single line\"\"\"\n",
        "```\n",
        "\n",
        "Being able to define strings with an arbitrary choice of the four opening and closing symbols allows you to use the other quote character within the string. For example, we can write a string like:\n",
        "```\n",
        "'In English, the word \"Monday\" translates to \"Monday\".'\n",
        "```\n",
        "while\n",
        "```\n",
        "\"In English \"Tuesday\" translates to \"Tuesday\"\"\n",
        "```\n",
        "would result in an error because the string would be closed by the double quote between \"In English\" and \"Tuesday\".\n",
        "\n",
        "By using the four symbols, you can create strings that push the limits, like:\n",
        "```\n",
        "\"\"\"Writing in Python: '''The translation of \"the word 'Wednesday' translates to 'Wednesday'\" is \"the word 'Wednesday' translates to 'Wednesday'.\"\"\"\n",
        "```\n",
        "Although not particularly suitable for interaction with humans, this nesting of strings is very useful when generating snippets of Python code, for example, to interact with databases.\n",
        "\n",
        "Here are some examples of assigning strings to a variable:\n"
      ],
      "metadata": {
        "id": "1bjbVZAXrsBA"
      }
    },
    {
      "cell_type": "code",
      "source": [
        "a_string = \"This is a string\"\n",
        "another_string = 'This is a string'\n",
        "a_third_string = '''This is a different string'''\n",
        "a_fourth_string = 'This is a string and its type is \"str\"'"
      ],
      "metadata": {
        "id": "Uh8rXEpDr2lY"
      },
      "execution_count": null,
      "outputs": []
    },
    {
      "cell_type": "markdown",
      "source": [
        "### Characters and Substrings (*Indexing* and *Slicing*)\n",
        "As in other programming languages, square brackets can be used to access portions of a string, for example:\n"
      ],
      "metadata": {
        "id": "ozELpTiysDaS"
      }
    },
    {
      "cell_type": "code",
      "source": [
        "a = \"s1234\"\n",
        "print (\"s =\", a[0])\n",
        "print (\"4 =\", a[4])"
      ],
      "metadata": {
        "colab": {
          "base_uri": "https://localhost:8080/"
        },
        "id": "CRnl6TkRsD8o",
        "outputId": "840b6ddd-1602-41d7-f602-b09f9a486bab"
      },
      "execution_count": null,
      "outputs": [
        {
          "output_type": "stream",
          "name": "stdout",
          "text": [
            "s = s\n",
            "4 = 4\n"
          ]
        }
      ]
    },
    {
      "cell_type": "markdown",
      "source": [
        "However, since strings are immutable, you cannot replace a character in a string, and the code\n",
        "\\```\n",
        "a[3] = 4\n",
        "\\```\n",
        "would cause an error (`'str' does not support item assignment`).\n"
      ],
      "metadata": {
        "id": "J__b4b7JsZXL"
      }
    },
    {
      "cell_type": "markdown",
      "source": [
        "Python also supports the use of negative indices, which are interpreted as *starting from the last character*. For example, `a[-1]` is the last character of the string `a`, `a[-2]` is the second to last, `a[-3]` is the third to last, and so on."
      ],
      "metadata": {
        "id": "IBS8GGtRsewJ"
      }
    },
    {
      "cell_type": "code",
      "source": [
        "a = \"hello world\"\n",
        "print (a[-1], a[-2], a[-3])"
      ],
      "metadata": {
        "colab": {
          "base_uri": "https://localhost:8080/"
        },
        "id": "Y8-5aIDPshlZ",
        "outputId": "8e9cbb9a-8bde-42bd-dcc7-79ecff8a0d3b"
      },
      "execution_count": null,
      "outputs": [
        {
          "output_type": "stream",
          "name": "stdout",
          "text": [
            "d l r\n"
          ]
        }
      ]
    },
    {
      "cell_type": "markdown",
      "source": [
        "Square brackets can also be used to identify portions of a string through an operation called ***slicing***, to distinguish them from single character selection operations typically referred to as ***indexing***.\n",
        "To select the substring that starts with the `start` character and ends with the `stop` character (excluding it) in steps of `step`, use the expression\n",
        "`string[from:to:step]` in which, if not explicitly indicated, `from` is initialized to zero, `to` to -1, and `step` to 1.\n",
        "\n",
        "Let's see some examples:"
      ],
      "metadata": {
        "id": "ipysghnnspFQ"
      }
    },
    {
      "cell_type": "code",
      "source": [
        "a = \"Large Hadron Collider\"\n",
        "print (a[:5])\n",
        "print (a[6:-9])\n",
        "print (a[-8:])"
      ],
      "metadata": {
        "colab": {
          "base_uri": "https://localhost:8080/"
        },
        "id": "xPQzM1lAsjDa",
        "outputId": "434c05a5-eba1-4a01-c252-7b5931be1a7c"
      },
      "execution_count": null,
      "outputs": [
        {
          "output_type": "stream",
          "name": "stdout",
          "text": [
            "Large\n",
            "Hadron\n",
            "Collider\n"
          ]
        }
      ]
    },
    {
      "cell_type": "markdown",
      "source": [
        "### String Comparison\n",
        "\n",
        "In Python, you can use the operators `==`, `>` and `<` to compare strings. The meaning of the `==` operator is probably obvious, while the *greater than* and *less than* operators refer to the \"ASCII alphabetical order\". As in the traditional alphabetical order, you start from the first letter and sort so that words that begin with letters that appear earlier in the alphabet come first in the sorted list. However, unlike the standard alphabetical order, in Python, uppercase letters always come before lowercase letters.\n",
        "\n",
        "**To learn more, see:** [ASCII Character Order](http://support.ecisolutions.com/doc-ddms/help/reportsmenu/ascii_sort_order_chart.htm)\n"
      ],
      "metadata": {
        "id": "pXSsGmvHtBYx"
      }
    },
    {
      "cell_type": "code",
      "source": [
        "print (\"best\" > \"art\")  ## \"b\" appears after in the alphabet, so it is \"larger\" than \"a\"\n",
        "print (\"Best\" < \"art\")  ## but \"B\", being an upper case letter appears before any lower case letter, including \"a\"\n",
        "print (\"Best\" > \"Art\")  ## Standard alphabetical order is restored when both are uppercase\n",
        "print (\"Best\" > \"Beast\") ## If the first letter is equal, ordering continues with the second one and so on\n",
        "\n",
        "print (\"Best\" == \"Best\") ## Similarly, comparison with '==' is case sensitive\n",
        "print (\"Best\" != \"best\")"
      ],
      "metadata": {
        "colab": {
          "base_uri": "https://localhost:8080/"
        },
        "id": "zmWPmjhWsqph",
        "outputId": "b3783915-18c8-45c0-9517-b53fee13ce3b"
      },
      "execution_count": null,
      "outputs": [
        {
          "output_type": "stream",
          "name": "stdout",
          "text": [
            "True\n",
            "True\n",
            "True\n",
            "True\n",
            "True\n",
            "True\n"
          ]
        }
      ]
    },
    {
      "cell_type": "markdown",
      "source": [
        "Thanks to the definition of the operators `<` and `>`, we can use the `sorted` keyword that we have already seen as an extension of the `for` loop to sort alphabetically (ASCII).\n",
        "\n",
        "For example,\n"
      ],
      "metadata": {
        "id": "pRhNRXlttHbB"
      }
    },
    {
      "cell_type": "code",
      "source": [
        "authors = \"Duck, Donald\", \"Mouse, Mickey\", \"Goofy\"\n",
        "\n",
        "for author in sorted(authors):\n",
        "  print (author)"
      ],
      "metadata": {
        "colab": {
          "base_uri": "https://localhost:8080/"
        },
        "id": "B6IG4hrys_ih",
        "outputId": "c3753314-5167-4098-f450-605acf2fa573"
      },
      "execution_count": null,
      "outputs": [
        {
          "output_type": "stream",
          "name": "stdout",
          "text": [
            "Duck, Donald\n",
            "Goofy\n",
            "Mouse, Mickey\n"
          ]
        }
      ]
    },
    {
      "cell_type": "markdown",
      "source": [
        "#### Uppercase and Lowercase\n",
        "\n",
        "The `upper` and `lower` functions allow converting a string to its uppercase and lowercase counterpart, respectively.\n"
      ],
      "metadata": {
        "id": "Zpo0wN3btRsB"
      }
    },
    {
      "cell_type": "code",
      "source": [
        "print (\"Hello world!\".lower())\n",
        "print (\"Hello world!\".upper())"
      ],
      "metadata": {
        "colab": {
          "base_uri": "https://localhost:8080/"
        },
        "id": "4bG1yfAwtPQh",
        "outputId": "6009045c-66fd-423f-f747-1c50c3856f56"
      },
      "execution_count": null,
      "outputs": [
        {
          "output_type": "stream",
          "name": "stdout",
          "text": [
            "hello world!\n",
            "HELLO WORLD!\n"
          ]
        }
      ]
    },
    {
      "cell_type": "code",
      "source": [
        "words = [\"art\", \"beauty\", \"Charm\"]\n",
        "\n",
        "print (\"Ordering with ASCII alphabet:\")\n",
        "print (\", \".join (sorted(words)))\n",
        "print ()\n",
        "print (\"Ordering with upper ASCII alphabet:\")\n",
        "print (\", \".join (sorted(words, key=str.upper)))"
      ],
      "metadata": {
        "colab": {
          "base_uri": "https://localhost:8080/"
        },
        "id": "vSnynYDMtT6S",
        "outputId": "77e190c8-5062-4799-fa1d-d71e670f780b"
      },
      "execution_count": null,
      "outputs": [
        {
          "output_type": "stream",
          "name": "stdout",
          "text": [
            "Ordering with ASCII alphabet:\n",
            "Charm, art, beauty\n",
            "\n",
            "Ordering with upper ASCII alphabet:\n",
            "art, beauty, Charm\n"
          ]
        }
      ]
    },
    {
      "cell_type": "markdown",
      "source": [
        "### Concatenare e suddividere stringhe\n",
        "Le stringhe in Python possono essere concatenate utilizzando gli operatori `+` e `+=`. Ad esempio possiamo scrivere,\n"
      ],
      "metadata": {
        "id": "XGx9E8oZtYYh"
      }
    },
    {
      "cell_type": "code",
      "source": [
        "name = \"Mickey\"\n",
        "surname = \"Mouse\"\n",
        "full_name = name + \" \" + surname\n",
        "print (\"Full Name:\", full_name)"
      ],
      "metadata": {
        "colab": {
          "base_uri": "https://localhost:8080/"
        },
        "id": "gs1SWVBDtVe5",
        "outputId": "e69aa9c5-35ad-48f8-8dba-9f912c3be660"
      },
      "execution_count": null,
      "outputs": [
        {
          "output_type": "stream",
          "name": "stdout",
          "text": [
            "Full Name: Mickey Mouse\n"
          ]
        }
      ]
    },
    {
      "cell_type": "markdown",
      "source": [
        "### Concatenating and Splitting Strings\n",
        "Strings in Python can be concatenated using the operators `+` and `+=`. For example, we can write,\n"
      ],
      "metadata": {
        "id": "kdDgjblptojR"
      }
    },
    {
      "cell_type": "code",
      "source": [
        "name = \"Mickey\"\n",
        "surname = \"Mouse\"\n",
        "full_name = name + \" \" + surname\n",
        "print (\"Full Name:\", full_name)"
      ],
      "metadata": {
        "colab": {
          "base_uri": "https://localhost:8080/"
        },
        "id": "5_7xC6Nhto-4",
        "outputId": "06255666-95ca-4c87-df89-362e0f65cd71"
      },
      "execution_count": null,
      "outputs": [
        {
          "output_type": "stream",
          "name": "stdout",
          "text": [
            "Full Name: Mickey Mouse\n"
          ]
        }
      ]
    },
    {
      "cell_type": "markdown",
      "source": [
        "or"
      ],
      "metadata": {
        "id": "UgceYRIptxG4"
      }
    },
    {
      "cell_type": "code",
      "source": [
        "full_name = name\n",
        "full_name += \" \"\n",
        "full_name += surname\n",
        "print (\"Full Name:\", full_name)"
      ],
      "metadata": {
        "colab": {
          "base_uri": "https://localhost:8080/"
        },
        "id": "hjBhT1v0tzSq",
        "outputId": "3922de27-5413-4d69-b2e3-cefff575201d"
      },
      "execution_count": null,
      "outputs": [
        {
          "output_type": "stream",
          "name": "stdout",
          "text": [
            "Full Name: Mickey Mouse\n"
          ]
        }
      ]
    },
    {
      "cell_type": "markdown",
      "source": [
        "However, for very long strings, or an arbitrary number of strings, it may not be very convenient.\n",
        "We can use the `join` method of the `str` class to concatenate a sequence of strings, separated by a delimiter.\n",
        "For example,\n"
      ],
      "metadata": {
        "id": "8kw4XHN8t2go"
      }
    },
    {
      "cell_type": "code",
      "source": [
        "name_and_surname = 'Donald', 'Duck'\n",
        "print (' '.join(name_and_surname))  ## Here, the separator is a \"white space\"\n",
        "\n",
        "surname_and_name = 'Duck', 'Donald'\n",
        "print (\", \".join(surname_and_name)) ## Here the separator is \", \""
      ],
      "metadata": {
        "colab": {
          "base_uri": "https://localhost:8080/"
        },
        "id": "HCDPvtizt5H4",
        "outputId": "d37c4a6e-be61-4d4a-c76e-585c57b5a3ff"
      },
      "execution_count": null,
      "outputs": [
        {
          "output_type": "stream",
          "name": "stdout",
          "text": [
            "Donald Duck\n",
            "Duck, Donald\n"
          ]
        }
      ]
    },
    {
      "cell_type": "markdown",
      "source": [
        "The `join` method can be used, for example, to concatenate a directory to a filename:\n",
        "```\n",
        "separator = \"\\\" if windows else \"/\"\n",
        "path_and_file = path_to_dir, filename\n",
        "path = separator.join(path_and_file)\n",
        "```\n",
        "\n",
        "Or in combination with the newline character indicated as `\\n`:\n",
        "```\n",
        "lines = [\"first line\", \"second line\", \"third line\"]\n",
        "multiline_string = \"\\n\".join(lines)\n",
        "```\n"
      ],
      "metadata": {
        "id": "SHBBD2jpt4S5"
      }
    },
    {
      "cell_type": "code",
      "source": [
        "crucial_apps = \"chrome\", \"firefox\", \"vim\", \"openssh\", \"python3.8+\"\n",
        "print (\"\\n\".join(crucial_apps))"
      ],
      "metadata": {
        "colab": {
          "base_uri": "https://localhost:8080/"
        },
        "id": "AfsUsAoCuElB",
        "outputId": "24ac66a5-0599-4281-e72c-d7e6acb88c5b"
      },
      "execution_count": null,
      "outputs": [
        {
          "output_type": "stream",
          "name": "stdout",
          "text": [
            "chrome\n",
            "firefox\n",
            "vim\n",
            "openssh\n",
            "python3.8+\n"
          ]
        }
      ]
    },
    {
      "cell_type": "markdown",
      "source": [
        "The reverse operation of `join`, which concatenates strings, is `split`, which allows splitting a string into multiple substrings based on a delimiter.\n",
        "For example,\n"
      ],
      "metadata": {
        "id": "MC9FzBNguMrE"
      }
    },
    {
      "cell_type": "code",
      "source": [
        "surname, name = \"Mouse, Mickey\".split(', ')\n",
        "print (name[0] + \". \" + surname)"
      ],
      "metadata": {
        "colab": {
          "base_uri": "https://localhost:8080/"
        },
        "id": "IFRBwjn8uP6A",
        "outputId": "0f54ffb4-3cee-4f2f-a58a-7e304448b55d"
      },
      "execution_count": null,
      "outputs": [
        {
          "output_type": "stream",
          "name": "stdout",
          "text": [
            "M. Mouse\n"
          ]
        }
      ]
    },
    {
      "cell_type": "markdown",
      "source": [
        "#### String Formatting\n",
        "String formatting allows inserting numerical variables into a string according to various conversion rules (e.g., base, or number of significant digits).\n",
        "\n",
        "Starting from Python 3.6, strings can be formatted with the following syntax:\n",
        "```\n",
        "f\"<string> {<variable>:<format>} <string>\"\n",
        "```\n",
        "where `f` before the double quotes indicates that in this string, curly braces denote the presence of variables to be formatted in the string, `<string>` indicates generic text strings that compose the string,\n",
        "`<variable>` is the variable we want to appear in the string with the format `<format>`. Once again, easier said than done.\n",
        "\n",
        "The format can be omitted, making our `f`*-string* particularly readable.\n",
        "Let's see an example,\n",
        "```\n",
        "name = \"Alice\"\n",
        "age = 30\n",
        "greeting = f\"Hello, {name}! You are {age} years old.\"\n",
        "print(greeting)\n",
        "```\n"
      ],
      "metadata": {
        "id": "6IHZf99UuSou"
      }
    },
    {
      "cell_type": "code",
      "source": [
        "v = 16\n",
        "## Base\n",
        "print (f\"{v}\") ## plain, decimal formatting\n",
        "print (f\"{v:d}\") ## explicited decimal base\n",
        "print (f\"{v:x}\") ## hex formatting\n",
        "print (f\"{v:o}\") ## octal formatting\n",
        "print (f\"{v:b}\") ## binary formatting"
      ],
      "metadata": {
        "colab": {
          "base_uri": "https://localhost:8080/"
        },
        "id": "NDNdd1dTuQaK",
        "outputId": "90956c4a-25bf-48af-d863-119b593d22fd"
      },
      "execution_count": null,
      "outputs": [
        {
          "output_type": "stream",
          "name": "stdout",
          "text": [
            "16\n",
            "16\n",
            "10\n",
            "20\n",
            "10000\n"
          ]
        }
      ]
    },
    {
      "cell_type": "code",
      "source": [
        "## As a floating point (see later for more details)\n",
        "print (f\"{v:f}\")"
      ],
      "metadata": {
        "colab": {
          "base_uri": "https://localhost:8080/"
        },
        "id": "bwASKwaVuvpB",
        "outputId": "b2e2f61c-8c87-4a59-cf2c-951f238f3462"
      },
      "execution_count": null,
      "outputs": [
        {
          "output_type": "stream",
          "name": "stdout",
          "text": [
            "16.000000\n"
          ]
        }
      ]
    },
    {
      "cell_type": "code",
      "source": [
        "## padding\n",
        "print (f\"{v:03d}\") ## at least three digits, padding the rest with zeros\n",
        "print (f\"{v:05d}\") ## at least five digits\n",
        "print (f\"{v:5d}\")  ## five chars, padding with white spaces at left\n",
        "print (f\"{v:<5d}.\") ## five chars, padding with spaces at right\n",
        "print (f\"{v:^5d}\") ## five chars, trying to center the number in the field"
      ],
      "metadata": {
        "colab": {
          "base_uri": "https://localhost:8080/"
        },
        "id": "oxi9eyvEuxVt",
        "outputId": "5f75b5c0-ccaa-4d32-8588-8bf1524d88d4"
      },
      "execution_count": null,
      "outputs": [
        {
          "output_type": "stream",
          "name": "stdout",
          "text": [
            "016\n",
            "00016\n",
            "   16\n",
            "16   .\n",
            " 16  \n"
          ]
        }
      ]
    },
    {
      "cell_type": "markdown",
      "source": [
        "For real numbers, the formatting rules are the same, but we can also define how many decimal places should appear and whether we want to use scientific notation (useful for large numbers).\n"
      ],
      "metadata": {
        "id": "PcMtRm0gu1wT"
      }
    },
    {
      "cell_type": "code",
      "source": [
        " # a decent approximation for pi\n",
        "\n",
        "pi = 3.141592653589793238462643383279\n",
        "\n",
        "print (f\"\"\"Formatting pi:\n",
        "  - bare format:              {pi}\n",
        "  - explicit floating point:  {pi:f}\n",
        "  - with fixed precision:     {pi:.2f}\n",
        "  - with scientific notation: {pi:.2e}\n",
        "  - with scientific notation: {pi:.2E}\n",
        "  - general format:           {pi:.3g}  {pi*1e5:.3g} (note that here .3 indicates the number of significant, rather than decimal, digits)\n",
        "  \"\"\")"
      ],
      "metadata": {
        "colab": {
          "base_uri": "https://localhost:8080/"
        },
        "id": "iXLGw8Plu3oN",
        "outputId": "47f0e6f8-98af-44e7-e5f9-12ba5e190e63"
      },
      "execution_count": null,
      "outputs": [
        {
          "output_type": "stream",
          "name": "stdout",
          "text": [
            "Formatting pi:\n",
            " - bare format:              3.141592653589793\n",
            " - explicit floating point:  3.141593\n",
            " - with fixed precision:     3.14\n",
            " - with scientific notation: 3.14e+00\n",
            " - with scientific notation: 3.14E+00\n",
            " - general format:           3.14  3.14e+05 (note that here .3 indicates the number of significant, rather than decimal, digits)\n",
            " \n"
          ]
        }
      ]
    },
    {
      "cell_type": "markdown",
      "source": [
        "#### Solved Exercise\n",
        "Given the list of characters:\n",
        "```\n",
        "Mickey Mouse, Donald Duck, Minnie Mouse\n",
        "```\n",
        "write a program that constructs a string\n",
        "```\n",
        "\"\"\"\n",
        "1) M. Mouse\n",
        "2) D. Duck\n",
        "3) M. Mouse\n",
        "\"\"\"\n",
        "```\n",
        "and then prints it on the screen.\n",
        "\n",
        "**Solution**\n"
      ],
      "metadata": {
        "id": "r9uLfhRvvKRZ"
      }
    },
    {
      "cell_type": "code",
      "source": [
        "characters = \"Mickey Mouse, Donal Duck, Minnie Mouse\"\n",
        "characters = characters.split (\", \")\n",
        "\n",
        "string = \"\"\n",
        "\n",
        "for iChar, char in enumerate(characters):\n",
        "  name, surname = char.split(\" \")\n",
        "  string += f\"{iChar+1}) {name[0]}. {surname}\\n\"\n",
        "\n",
        "print (string)"
      ],
      "metadata": {
        "colab": {
          "base_uri": "https://localhost:8080/"
        },
        "id": "JgW53deau2QQ",
        "outputId": "b2316783-0ad8-476d-937e-86818c8e778d"
      },
      "execution_count": null,
      "outputs": [
        {
          "output_type": "stream",
          "name": "stdout",
          "text": [
            "1) M. Mouse\n",
            "2) D. Duck\n",
            "3) M. Mouse\n",
            "\n"
          ]
        }
      ]
    },
    {
      "cell_type": "markdown",
      "source": [
        "## Tuple\n",
        "Tuples represent non-modifiable (immutable) sequences of variables.\n",
        "\n",
        "The *Packing* and *Unpacking* of arguments, discussed in the context of functions, works by constructing and reading `tuples` composed of those arguments.\n",
        "\n",
        "In fact,\n"
      ],
      "metadata": {
        "id": "SUn3W-9Ojkz7"
      }
    },
    {
      "cell_type": "code",
      "source": [
        "def a_function (*args):\n",
        "  print (type(args))\n",
        "\n",
        "a_function(\"Hello\", \"World\")"
      ],
      "metadata": {
        "colab": {
          "base_uri": "https://localhost:8080/"
        },
        "id": "BXNg5w2avJGR",
        "outputId": "4d716d6c-b9e9-488a-d5a9-2cd185a8f05f"
      },
      "execution_count": null,
      "outputs": [
        {
          "output_type": "stream",
          "name": "stdout",
          "text": [
            "<class 'tuple'>\n"
          ]
        }
      ]
    },
    {
      "cell_type": "markdown",
      "source": [
        "or simply"
      ],
      "metadata": {
        "id": "Ilt2BcBdjsm7"
      }
    },
    {
      "cell_type": "code",
      "source": [
        "a_sequence = \"Hello\", \"World\"\n",
        "print(type(a_sequence))"
      ],
      "metadata": {
        "colab": {
          "base_uri": "https://localhost:8080/"
        },
        "id": "Svt4aki9jwRd",
        "outputId": "2772d608-eed9-45d2-9e04-7a57b6663476"
      },
      "execution_count": null,
      "outputs": [
        {
          "output_type": "stream",
          "name": "stdout",
          "text": [
            "<class 'tuple'>\n"
          ]
        }
      ]
    },
    {
      "cell_type": "markdown",
      "source": [
        "Tuples can also be defined within the same line using parentheses, for example, in the call to a function with a single argument we can write:\n"
      ],
      "metadata": {
        "id": "Tn66nDn7juKS"
      }
    },
    {
      "cell_type": "code",
      "source": [
        "def a_function (single_argument):\n",
        "  print (type(single_argument))\n",
        "\n",
        "a_function ( (\"Hello\", \"World\") )"
      ],
      "metadata": {
        "colab": {
          "base_uri": "https://localhost:8080/"
        },
        "id": "T53PScBDj4RM",
        "outputId": "ce049ba7-0236-4796-9a7a-db660f51e818"
      },
      "execution_count": null,
      "outputs": [
        {
          "output_type": "stream",
          "name": "stdout",
          "text": [
            "<class 'tuple'>\n"
          ]
        }
      ]
    },
    {
      "cell_type": "markdown",
      "source": [
        "The keyword `tuple` can be used to convert other *iterables* into `tuples`. For example, we have seen that `range` can be used in combination with the `for` loop to iterate over ordered sequences of integers. We can convert those sequences into tuples by writing:\n"
      ],
      "metadata": {
        "id": "7w539g9Pj7Yw"
      }
    },
    {
      "cell_type": "code",
      "source": [
        "tuple(range(10))"
      ],
      "metadata": {
        "colab": {
          "base_uri": "https://localhost:8080/"
        },
        "id": "j0vvUND8j63D",
        "outputId": "67574663-01d3-4e6d-e9c4-881412be3fe0"
      },
      "execution_count": null,
      "outputs": [
        {
          "output_type": "execute_result",
          "data": {
            "text/plain": [
              "(0, 1, 2, 3, 4, 5, 6, 7, 8, 9)"
            ]
          },
          "metadata": {},
          "execution_count": 515
        }
      ]
    },
    {
      "cell_type": "markdown",
      "source": [
        "similarly, a string can be converted into a tuple\n"
      ],
      "metadata": {
        "id": "2EBWTBCxj-f0"
      }
    },
    {
      "cell_type": "code",
      "source": [
        "tuple (\"Hello world\")"
      ],
      "metadata": {
        "colab": {
          "base_uri": "https://localhost:8080/"
        },
        "id": "sqiKzc_hj43r",
        "outputId": "3d0c663b-2137-4969-d464-e6ce0ee9d5aa"
      },
      "execution_count": null,
      "outputs": [
        {
          "output_type": "execute_result",
          "data": {
            "text/plain": [
              "('H', 'e', 'l', 'l', 'o', ' ', 'w', 'o', 'r', 'l', 'd')"
            ]
          },
          "metadata": {},
          "execution_count": 516
        }
      ]
    },
    {
      "cell_type": "markdown",
      "source": [
        "Of course, a tuple can also be converted into another tuple, and although it is unnecessary, it is often done to improve code readability. For example,\n"
      ],
      "metadata": {
        "id": "INIjHtPRkA25"
      }
    },
    {
      "cell_type": "code",
      "source": [
        "a = tuple((1,2,3,4))"
      ],
      "metadata": {
        "id": "DAb9pQAPkNhy"
      },
      "execution_count": null,
      "outputs": []
    },
    {
      "cell_type": "markdown",
      "source": [
        "first create a tuple `(1,2,3,4)` and then explicitly convert it into a `tuple`.\n",
        "This allows us to immediately see that `a` is a tuple (and therefore immutable).\n"
      ],
      "metadata": {
        "id": "Qg2c2V3okRy4"
      }
    },
    {
      "cell_type": "markdown",
      "source": [
        "#### Simple operations with `tuples`\n",
        "We can count the number of elements that make up a `tuple` with the `len` function\n"
      ],
      "metadata": {
        "id": "ez42L3CDkWN5"
      }
    },
    {
      "cell_type": "code",
      "source": [
        "len((1,\"Mickey Mouse\", 2.3))"
      ],
      "metadata": {
        "colab": {
          "base_uri": "https://localhost:8080/"
        },
        "id": "CS_ZwyOJkSUk",
        "outputId": "648a6763-3853-4f7c-e573-89d8a9fc9962"
      },
      "execution_count": null,
      "outputs": [
        {
          "output_type": "execute_result",
          "data": {
            "text/plain": [
              "3"
            ]
          },
          "metadata": {},
          "execution_count": 518
        }
      ]
    },
    {
      "cell_type": "markdown",
      "source": [
        "We can sum the values it contains using `sum`\n"
      ],
      "metadata": {
        "id": "RWW2l10BkZHF"
      }
    },
    {
      "cell_type": "code",
      "source": [
        "one_to_four = (1,2,3,4)\n",
        "print (type(one_to_four), \",\", sum(one_to_four))"
      ],
      "metadata": {
        "colab": {
          "base_uri": "https://localhost:8080/"
        },
        "id": "SrDmuORTkjZ3",
        "outputId": "c7d1b495-cb47-444e-8f5f-740acd5e5e58"
      },
      "execution_count": null,
      "outputs": [
        {
          "output_type": "stream",
          "name": "stdout",
          "text": [
            "<class 'tuple'> , 10\n"
          ]
        }
      ]
    },
    {
      "cell_type": "markdown",
      "source": [
        "And of course, we can define a loop over the elements of a tuple\n"
      ],
      "metadata": {
        "id": "j9nzcOQtkqxK"
      }
    },
    {
      "cell_type": "code",
      "source": [
        "one_to_four = tuple((1,2,3,4))\n",
        "for a in one_to_four:\n",
        "  print (a)"
      ],
      "metadata": {
        "colab": {
          "base_uri": "https://localhost:8080/"
        },
        "id": "KHC4XHJxkj5O",
        "outputId": "28019216-ed8d-4efe-80ad-5640d846ef62"
      },
      "execution_count": null,
      "outputs": [
        {
          "output_type": "stream",
          "name": "stdout",
          "text": [
            "1\n",
            "2\n",
            "3\n",
            "4\n"
          ]
        }
      ]
    },
    {
      "cell_type": "markdown",
      "source": [
        "#### The `in` operator\n",
        "The `in` operator can be used to check whether an element is present in a tuple or not.\n",
        "For example:\n"
      ],
      "metadata": {
        "id": "nxP3VL2bkxUp"
      }
    },
    {
      "cell_type": "code",
      "source": [
        "deny_list = (\"Mickey Mouse\", \"Donald Duck\")\n",
        "allow_list = (\"Minnie Mouse\")\n",
        "\n",
        "for char in \"Mickey Mouse\", \"Minnie Mouse\", \"Donald Duck\", \"Goofy\":\n",
        "  if char in deny_list:\n",
        "    print(f\"Access explicitly denied to {char}\")\n",
        "  elif char in allow_list:\n",
        "    print(f\"Access granted to {char}\")\n",
        "  else:\n",
        "    print(f\"Unknown user {char}. Please proceed to registration to use our service.\")\n"
      ],
      "metadata": {
        "colab": {
          "base_uri": "https://localhost:8080/"
        },
        "id": "S9rRsmhsktZA",
        "outputId": "cbdafe5c-a1df-44b6-cbd7-1f2035399006"
      },
      "execution_count": null,
      "outputs": [
        {
          "output_type": "stream",
          "name": "stdout",
          "text": [
            "Access explicitly denied to Mickey Mouse\n",
            "Access granted to Minnie Mouse\n",
            "Access explicitly denied to Donald Duck\n",
            "Unknown user Goofy. Please proceed to registration to use our service.\n"
          ]
        }
      ]
    },
    {
      "cell_type": "markdown",
      "source": [
        "#### Nested Tuples\n",
        "Since objects in Python can be treated regardless of their type, we can build tuples of complex objects as desired, including other tuples.\n",
        "Building tuples of tuples is known as **nesting** (*nested tuples*).\n",
        "\n",
        "In the example below, we build a nested tuple and then loop through the outermost tuple, unpacking the elements of each of the inner tuples in the same (`for`) statement:\n"
      ],
      "metadata": {
        "id": "WFEoG2pqk2D6"
      }
    },
    {
      "cell_type": "code",
      "source": [
        "characters = (\n",
        "    (\"Mickey\", \"Mouse\"),\n",
        "    (\"Donald\", \"Duck\"),\n",
        "    (\"Minnie\", \"Mouse\")\n",
        ")\n",
        "\n",
        "for name, surname in characters:\n",
        "  print (name, surname)"
      ],
      "metadata": {
        "colab": {
          "base_uri": "https://localhost:8080/"
        },
        "id": "isaOWQcMk3iY",
        "outputId": "16de3349-f6f6-468e-ca30-943b1e1adfd5"
      },
      "execution_count": null,
      "outputs": [
        {
          "output_type": "stream",
          "name": "stdout",
          "text": [
            "Mickey Mouse\n",
            "Donald Duck\n",
            "Minnie Mouse\n"
          ]
        }
      ]
    },
    {
      "cell_type": "markdown",
      "source": [
        "#### *Indexing* and *Slicing*\n",
        "Regarding *indexing* and *slicing*, the same rules as for strings apply.\n",
        "\n",
        "Example of *indexing*:\n"
      ],
      "metadata": {
        "id": "0x_FiuJxk8K6"
      }
    },
    {
      "cell_type": "code",
      "source": [
        "doubles = (0, 2, 4, 6, 8, 10, 12)\n",
        "for i in 3, 5:\n",
        "  print (f\"Doubling {i}, I got {doubles[i]}\")"
      ],
      "metadata": {
        "colab": {
          "base_uri": "https://localhost:8080/"
        },
        "id": "85tUp5CdlBNk",
        "outputId": "fcb95040-5f10-4449-e662-5c34a5e3d06e"
      },
      "execution_count": null,
      "outputs": [
        {
          "output_type": "stream",
          "name": "stdout",
          "text": [
            "Doubling 3, I got 6\n",
            "Doubling 5, I got 10\n"
          ]
        }
      ]
    },
    {
      "cell_type": "markdown",
      "source": [
        "Similarly, slicing works just like it does for strings and allows selecting elements from a tuple by writing\n"
      ],
      "metadata": {
        "id": "cm8PdlSXlGKE"
      }
    },
    {
      "cell_type": "code",
      "source": [
        "one_to_ten = tuple(range(1,11))\n",
        "print (f\"The original tuple: {one_to_ten}\\n\")\n",
        "\n",
        "print (f\"First: {one_to_ten[0]}\")\n",
        "print (f\"Second and third: {one_to_ten[1:3]}\")\n",
        "print (f\"All but last one: {one_to_ten[:-1]}\")\n",
        "print (f\"The last two: {one_to_ten[-2:]}\")\n",
        "print (f\"Odd only: {one_to_ten[::2]}\")\n",
        "print (f\"Even only: {one_to_ten[1::2]}\")"
      ],
      "metadata": {
        "colab": {
          "base_uri": "https://localhost:8080/"
        },
        "id": "9OHBoFallG2p",
        "outputId": "8d7368a2-76ad-472f-c5a5-85f2507739c2"
      },
      "execution_count": null,
      "outputs": [
        {
          "output_type": "stream",
          "name": "stdout",
          "text": [
            "The original tuple: (1, 2, 3, 4, 5, 6, 7, 8, 9, 10)\n",
            "\n",
            "First: 1\n",
            "Second and third: (2, 3)\n",
            "All but last one: (1, 2, 3, 4, 5, 6, 7, 8, 9)\n",
            "The last two: (9, 10)\n",
            "Odd only: (1, 3, 5, 7, 9)\n",
            "Even only: (2, 4, 6, 8, 10)\n"
          ]
        }
      ]
    },
    {
      "cell_type": "markdown",
      "source": [
        "#### *Tuple comprehension*\n",
        "Some complex operations can be written directly in the tuple definition using an operation called *tuple comprehension*.\n"
      ],
      "metadata": {
        "id": "UVIH9UMqlJeB"
      }
    },
    {
      "cell_type": "code",
      "source": [
        "original = 1,2,3,4,5,6,7,8\n",
        "doubles = tuple(x * 2 for x in original)\n",
        "print (\"Doubles\", doubles)"
      ],
      "metadata": {
        "colab": {
          "base_uri": "https://localhost:8080/"
        },
        "id": "g1jXoimglMUo",
        "outputId": "0e6381a4-9ac0-4940-d122-738264fd5244"
      },
      "execution_count": null,
      "outputs": [
        {
          "output_type": "stream",
          "name": "stdout",
          "text": [
            "Doubles (2, 4, 6, 8, 10, 12, 14, 16)\n"
          ]
        }
      ]
    },
    {
      "cell_type": "markdown",
      "source": [
        "Here is a second example where we use *list* comprehension to define a nested list from two *simple* lists\n"
      ],
      "metadata": {
        "id": "_Rp3xv8JlMw5"
      }
    },
    {
      "cell_type": "code",
      "source": [
        "l1 = 1,2,3,4\n",
        "l2 = 2,4,6,8\n",
        "l12 = tuple((l1[i], l2[i]) for i in range(len(l1)))\n",
        "for a, b in l12:\n",
        "  print (a,b )"
      ],
      "metadata": {
        "colab": {
          "base_uri": "https://localhost:8080/"
        },
        "id": "Xbva5XiHlYrw",
        "outputId": "c243478c-7647-4a15-ecd4-8f2a71a17331"
      },
      "execution_count": null,
      "outputs": [
        {
          "output_type": "stream",
          "name": "stdout",
          "text": [
            "1 2\n",
            "2 4\n",
            "3 6\n",
            "4 8\n"
          ]
        }
      ]
    },
    {
      "cell_type": "markdown",
      "metadata": {
        "id": "7Mq8wxd0WWb-"
      },
      "source": [
        "Actually, the *pythonic* way to do this operation is by using `zip` as we saw in the case of for loops:\n"
      ]
    },
    {
      "cell_type": "code",
      "metadata": {
        "id": "WU8MNcbrWfFq",
        "colab": {
          "base_uri": "https://localhost:8080/"
        },
        "outputId": "f56deb0e-a21d-44e1-c236-0ffd3a2e5cdd"
      },
      "source": [
        "for a, b in tuple (zip(l1, l2)):\n",
        "  print (a,b)"
      ],
      "execution_count": null,
      "outputs": [
        {
          "output_type": "stream",
          "name": "stdout",
          "text": [
            "1 2\n",
            "2 4\n",
            "3 6\n",
            "4 8\n"
          ]
        }
      ]
    },
    {
      "cell_type": "markdown",
      "metadata": {
        "id": "oinYCpLZZD9B"
      },
      "source": [
        "The syntax of *tuple comprehension* also includes the use of conditions, in the form\n",
        "```\n",
        "tuple ( <operation> for <variable[s]> in <iterator> if <condition> )\n",
        "```\n",
        "\n",
        "so for example, we can write\n"
      ]
    },
    {
      "cell_type": "code",
      "metadata": {
        "id": "CpwxFJXIZcYz",
        "colab": {
          "base_uri": "https://localhost:8080/"
        },
        "outputId": "dde0b2f9-5abf-49ea-8002-d28006929345"
      },
      "source": [
        "input_tuple = 1,5,2,6,2,5,7,8,3,4,7,8,9,3\n",
        "print (\"Elements less than 5\", tuple (x for x in input_tuple if x < 5))\n",
        "print (\"and their double\", tuple (2*x for x in input_tuple if x < 5))"
      ],
      "execution_count": null,
      "outputs": [
        {
          "output_type": "stream",
          "name": "stdout",
          "text": [
            "Elements less than 5 (1, 2, 2, 3, 4, 3)\n",
            "and their double (2, 4, 4, 6, 8, 6)\n"
          ]
        }
      ]
    },
    {
      "cell_type": "markdown",
      "metadata": {
        "id": "qvXSX-UrWsmJ"
      },
      "source": [
        "#### An important application of tuple comprehension (the histogram)\n",
        "An application that we will often use, in one form or another, is the one that allows us to loop over numerical ranges given a list of thresholds.\n",
        "\n",
        "For example, we may be interested in classifying the numerical values in a certain tuple according to the interval in which they fall.\n",
        "\n",
        "Let's imagine we want to count how many values fall between 0 and 2, how many between 2 and 5, and how many between 5 and 10 in the tuple\n",
        "(1, 1, 1, 4, 3, 3, 1, 7, 8)\n",
        "\n",
        "We can set up the problem like this:\n"
      ]
    },
    {
      "cell_type": "code",
      "metadata": {
        "id": "3LLamGyaXxOp",
        "colab": {
          "base_uri": "https://localhost:8080/"
        },
        "outputId": "3280f938-75fa-4026-b037-092796a252d0"
      },
      "source": [
        "input_tuple = (1, 1, 1, 4, 3, 3, 1, 7, 8)\n",
        "boundaries = (0, 2, 5, 10)\n",
        "bins = tuple((min, max) for min, max in zip(boundaries[:-1], boundaries[1:]))\n",
        "for min, max in bins:\n",
        "  print (f\"Entries in interval {min}--{max}: {len(tuple(x for x in input_tuple if x >= min and x < max))}\")"
      ],
      "execution_count": null,
      "outputs": [
        {
          "output_type": "stream",
          "name": "stdout",
          "text": [
            "Entries in interval 0--2: 4\n",
            "Entries in interval 2--5: 3\n",
            "Entries in interval 5--10: 2\n"
          ]
        }
      ]
    },
    {
      "cell_type": "markdown",
      "metadata": {
        "id": "ALyoV0B3Ykdf"
      },
      "source": [
        "which can be further condensed into\n"
      ]
    },
    {
      "cell_type": "code",
      "metadata": {
        "id": "YbPrnv5tYkFf",
        "colab": {
          "base_uri": "https://localhost:8080/"
        },
        "outputId": "3d8a9d03-bbff-4079-be2c-fd248c771246"
      },
      "source": [
        "input_tuple = (1, 1, 1, 4, 3, 3, 1, 7, 8)\n",
        "boundaries = (0, 2, 5, 10)\n",
        "\n",
        "for min, max in zip (boundaries[0:-1], boundaries[1:]):\n",
        "  print (f\"Entries in interval {min}-{max}: {len(tuple(x for x in input_tuple if x >= min and x < max))}\")"
      ],
      "execution_count": null,
      "outputs": [
        {
          "output_type": "stream",
          "name": "stdout",
          "text": [
            "Entries in interval 0-2: 4\n",
            "Entries in interval 2-5: 3\n",
            "Entries in interval 5-10: 2\n"
          ]
        }
      ]
    },
    {
      "cell_type": "markdown",
      "metadata": {
        "id": "SO9y13JSbHu_"
      },
      "source": [
        "#### Worked Exercise: the Sieve of Eratosthenes\n",
        "\n",
        "The Sieve of Eratosthenes is an algorithm introduced around 2300 years ago for calculating prime numbers, [Wikipedia](https://en.wikipedia.org/wiki/Sieve_of_Eratosthenes).\n",
        "\n",
        "Its implementation in Python can be reduced to a single line\n"
      ]
    },
    {
      "cell_type": "code",
      "metadata": {
        "id": "fskPoXxwbSZe",
        "colab": {
          "base_uri": "https://localhost:8080/"
        },
        "outputId": "c77011ce-23c0-4cec-8e46-c4f50c6826af"
      },
      "source": [
        "print (tuple(x for x in range(2,1001) if x not in tuple(x*y for x in range(2,1001) for y in range(2,100))))"
      ],
      "execution_count": null,
      "outputs": [
        {
          "output_type": "stream",
          "name": "stdout",
          "text": [
            "(2, 3, 5, 7, 11, 13, 17, 19, 23, 29, 31, 37, 41, 43, 47, 53, 59, 61, 67, 71, 73, 79, 83, 89, 97, 101, 103, 107, 109, 113, 127, 131, 137, 139, 149, 151, 157, 163, 167, 173, 179, 181, 191, 193, 197, 199, 211, 223, 227, 229, 233, 239, 241, 251, 257, 263, 269, 271, 277, 281, 283, 293, 307, 311, 313, 317, 331, 337, 347, 349, 353, 359, 367, 373, 379, 383, 389, 397, 401, 409, 419, 421, 431, 433, 439, 443, 449, 457, 461, 463, 467, 479, 487, 491, 499, 503, 509, 521, 523, 541, 547, 557, 563, 569, 571, 577, 587, 593, 599, 601, 607, 613, 617, 619, 631, 641, 643, 647, 653, 659, 661, 673, 677, 683, 691, 701, 709, 719, 727, 733, 739, 743, 751, 757, 761, 769, 773, 787, 797, 809, 811, 821, 823, 827, 829, 839, 853, 857, 859, 863, 877, 881, 883, 887, 907, 911, 919, 929, 937, 941, 947, 953, 967, 971, 977, 983, 991, 997)\n"
          ]
        }
      ]
    },
    {
      "cell_type": "markdown",
      "metadata": {
        "id": "NFXRJKlrde_-"
      },
      "source": [
        "***Deep Dive*** *(a bit challenging)*: If you are interested in exploring further, try to understand, by searching the Internet, why removing the word \"tuple\" makes the algorithm extremely more efficient.\n",
        "\n",
        "*Hint*: look up what a generator is\n"
      ]
    },
    {
      "cell_type": "code",
      "metadata": {
        "id": "l_vrd8EJefGn",
        "colab": {
          "base_uri": "https://localhost:8080/"
        },
        "outputId": "412b4d9f-3420-4a6c-ff4d-366bcc56582e"
      },
      "source": [
        "print (tuple(x for x in range(2,1001) if x not in (x*y for x in range(2,1001) for y in range(2,100))))"
      ],
      "execution_count": null,
      "outputs": [
        {
          "output_type": "stream",
          "name": "stdout",
          "text": [
            "(2, 3, 5, 7, 11, 13, 17, 19, 23, 29, 31, 37, 41, 43, 47, 53, 59, 61, 67, 71, 73, 79, 83, 89, 97, 101, 103, 107, 109, 113, 127, 131, 137, 139, 149, 151, 157, 163, 167, 173, 179, 181, 191, 193, 197, 199, 211, 223, 227, 229, 233, 239, 241, 251, 257, 263, 269, 271, 277, 281, 283, 293, 307, 311, 313, 317, 331, 337, 347, 349, 353, 359, 367, 373, 379, 383, 389, 397, 401, 409, 419, 421, 431, 433, 439, 443, 449, 457, 461, 463, 467, 479, 487, 491, 499, 503, 509, 521, 523, 541, 547, 557, 563, 569, 571, 577, 587, 593, 599, 601, 607, 613, 617, 619, 631, 641, 643, 647, 653, 659, 661, 673, 677, 683, 691, 701, 709, 719, 727, 733, 739, 743, 751, 757, 761, 769, 773, 787, 797, 809, 811, 821, 823, 827, 829, 839, 853, 857, 859, 863, 877, 881, 883, 887, 907, 911, 919, 929, 937, 941, 947, 953, 967, 971, 977, 983, 991, 997)\n"
          ]
        }
      ]
    },
    {
      "cell_type": "markdown",
      "metadata": {
        "id": "FYdWSSix98_P"
      },
      "source": [
        "## Lists\n",
        "Lists are data types very similar to tuples, but they are modifiable. As we have seen, this exposes them to the risk of being unexpectedly modified by some functions, but it also makes them incredibly more versatile tools.\n"
      ]
    },
    {
      "cell_type": "markdown",
      "metadata": {
        "id": "cC9e_2xUfJ4l"
      },
      "source": [
        "Just like with `tuples`, let's start with the definition. Lists are defined by square brackets, for example:\n"
      ]
    },
    {
      "cell_type": "code",
      "metadata": {
        "id": "w6LOnVQqfQ11",
        "colab": {
          "base_uri": "https://localhost:8080/"
        },
        "outputId": "9a5b60d8-b110-4936-b0d9-7a1080793bd6"
      },
      "source": [
        "my_list = [1,2,3,4]\n",
        "print (type(my_list))"
      ],
      "execution_count": null,
      "outputs": [
        {
          "output_type": "stream",
          "name": "stdout",
          "text": [
            "<class 'list'>\n"
          ]
        }
      ]
    },
    {
      "cell_type": "markdown",
      "metadata": {
        "id": "p2CHeK_qfabb"
      },
      "source": [
        "The keyword to convert other sequences into lists, for example tuples, is `list`\n"
      ]
    },
    {
      "cell_type": "code",
      "metadata": {
        "id": "WZFL8s1RfZ6T",
        "colab": {
          "base_uri": "https://localhost:8080/"
        },
        "outputId": "af9adb4b-516e-46f5-b7a8-ced2406b5073"
      },
      "source": [
        "t = (1,2,3)\n",
        "l = list(t)\n",
        "print (type(t), \"->\", type(l))\n",
        "print (list(\"hello\"))"
      ],
      "execution_count": null,
      "outputs": [
        {
          "output_type": "stream",
          "name": "stdout",
          "text": [
            "<class 'tuple'> -> <class 'list'>\n",
            "['h', 'e', 'l', 'l', 'o']\n"
          ]
        }
      ]
    },
    {
      "cell_type": "markdown",
      "metadata": {
        "id": "g14c6SG9fuo8"
      },
      "source": [
        "Everything discussed for tuples also applies to lists.\n",
        "For example, we can sum a list generated with *list comprehension* as follows\n"
      ]
    },
    {
      "cell_type": "code",
      "metadata": {
        "id": "CDgVbUzWfqvm",
        "colab": {
          "base_uri": "https://localhost:8080/"
        },
        "outputId": "bdb794d3-395d-451e-af06-126e119d1695"
      },
      "source": [
        "sum([2**n for n in range(0,3)])   ### Note: in Python the operator ** means \"power\""
      ],
      "execution_count": null,
      "outputs": [
        {
          "output_type": "execute_result",
          "data": {
            "text/plain": [
              "7"
            ]
          },
          "metadata": {},
          "execution_count": 535
        }
      ]
    },
    {
      "cell_type": "markdown",
      "metadata": {
        "id": "_f8wcSbUgQOx"
      },
      "source": [
        "A small difference is that *list comprehension* does not require the keyword `list` because the square brackets make it unambiguous that we are defining a list. The same syntax seen for `tuples` is still valid:\n"
      ]
    },
    {
      "cell_type": "code",
      "metadata": {
        "id": "MOEIYfMMgxsi",
        "colab": {
          "base_uri": "https://localhost:8080/"
        },
        "outputId": "c60d8cc7-5aa0-41bf-e7f0-4f47e02cd6a9"
      },
      "source": [
        "my_list = list(x for x in range(10) if x > 2)\n",
        "print (my_list)"
      ],
      "execution_count": null,
      "outputs": [
        {
          "output_type": "stream",
          "name": "stdout",
          "text": [
            "[3, 4, 5, 6, 7, 8, 9]\n"
          ]
        }
      ]
    },
    {
      "cell_type": "markdown",
      "metadata": {
        "id": "ORdGWCdpjvzI"
      },
      "source": [
        "As with tuples, lists can also be unpacked.\n"
      ]
    },
    {
      "cell_type": "code",
      "metadata": {
        "id": "R0W5nxIujvYt",
        "colab": {
          "base_uri": "https://localhost:8080/"
        },
        "outputId": "e7557100-185a-4703-dcb6-eacb71490fc2"
      },
      "source": [
        "name, surname = [\"Mickey\", \"Mouse\"]\n",
        "print (surname)"
      ],
      "execution_count": null,
      "outputs": [
        {
          "output_type": "stream",
          "name": "stdout",
          "text": [
            "Mouse\n"
          ]
        }
      ]
    },
    {
      "cell_type": "markdown",
      "metadata": {
        "id": "ZV-iE3z0htgU"
      },
      "source": [
        "#### Modifying a List\n",
        "Unlike tuples, lists can be modified. For example, we can concatenate two lists using the `+` and `+=` operators.\n"
      ]
    },
    {
      "cell_type": "code",
      "metadata": {
        "id": "ky6Ah4johs33",
        "colab": {
          "base_uri": "https://localhost:8080/"
        },
        "outputId": "795971a6-b0ef-4493-83b7-22844efe0e44"
      },
      "source": [
        "l1 = list(2**n for n in range(3))\n",
        "print (l1)\n",
        "l1 += list(2**n for n in range(3,10))\n",
        "print (l1)\n",
        "print (l1 + l1)"
      ],
      "execution_count": null,
      "outputs": [
        {
          "output_type": "stream",
          "name": "stdout",
          "text": [
            "[1, 2, 4]\n",
            "[1, 2, 4, 8, 16, 32, 64, 128, 256, 512]\n",
            "[1, 2, 4, 8, 16, 32, 64, 128, 256, 512, 1, 2, 4, 8, 16, 32, 64, 128, 256, 512]\n"
          ]
        }
      ]
    },
    {
      "cell_type": "markdown",
      "metadata": {
        "id": "WGjsbU6Ein-g"
      },
      "source": [
        "Similarly, an element can be added to the end of the list using `append` in a frequently used construct.\n"
      ]
    },
    {
      "cell_type": "code",
      "metadata": {
        "id": "4NQ5qHi2i2pm",
        "colab": {
          "base_uri": "https://localhost:8080/"
        },
        "outputId": "6093673d-b239-477c-fdcf-b8a49fc2764c"
      },
      "source": [
        "def a_very_complex_calculation (input):\n",
        "  return (0.1 + input) ** -1.2 - input*3 + 2\n",
        "\n",
        "results = []\n",
        "for i in range(5):\n",
        "  res = a_very_complex_calculation(i)\n",
        "  results.append (res)\n",
        "\n",
        "print (results)"
      ],
      "execution_count": null,
      "outputs": [
        {
          "output_type": "stream",
          "name": "stdout",
          "text": [
            "[17.848931924611133, -0.10807409479430508, -3.589477612191418, -6.742743730617972, -9.816067119617623]\n"
          ]
        }
      ]
    },
    {
      "cell_type": "markdown",
      "metadata": {
        "id": "kx1zXW6jvWKB"
      },
      "source": [
        "#### Removing Elements from a List\n",
        "To remove elements from a list, use the syntax:\n",
        "```\n",
        "del <list>[<index>]\n",
        "```\n",
        "For example,\n"
      ]
    },
    {
      "cell_type": "code",
      "metadata": {
        "id": "MRixIuGdvgO-",
        "colab": {
          "base_uri": "https://localhost:8080/"
        },
        "outputId": "33326813-f342-44cb-c2d5-f73129fa97d5"
      },
      "source": [
        "l = list (i * 2 for i in range(10))\n",
        "print (l)\n",
        "del l[2]  ## drops the second element of the list\n",
        "print (l)"
      ],
      "execution_count": null,
      "outputs": [
        {
          "output_type": "stream",
          "name": "stdout",
          "text": [
            "[0, 2, 4, 6, 8, 10, 12, 14, 16, 18]\n",
            "[0, 2, 6, 8, 10, 12, 14, 16, 18]\n"
          ]
        }
      ]
    },
    {
      "cell_type": "markdown",
      "metadata": {
        "id": "yg5CsN9Gv6pj"
      },
      "source": [
        "To remove a value from a list, you can obtain its position using the `index` method and then immediately remove the value at that position.\n",
        "\n",
        "Of course, since `index` returns only the first position where a certain value appears, this method removes only the first occurrence of that value:\n"
      ]
    },
    {
      "cell_type": "code",
      "metadata": {
        "id": "izcMPPcFvyPC",
        "colab": {
          "base_uri": "https://localhost:8080/"
        },
        "outputId": "7cfdc63f-d8b9-44e4-abc5-9545f1e8942e"
      },
      "source": [
        "mylist = list(range(5)) + list(range(5))\n",
        "print (\"Full list:\", mylist)\n",
        "del mylist [ mylist.index (3) ]\n",
        "print (\"Drop the first occurency of '3':\", mylist)\n",
        "\n",
        "while 4 in mylist:\n",
        "  del mylist [mylist.index(4)]\n",
        "print (\"Drop all occurencies of '4':\", mylist)"
      ],
      "execution_count": null,
      "outputs": [
        {
          "output_type": "stream",
          "name": "stdout",
          "text": [
            "Full list: [0, 1, 2, 3, 4, 0, 1, 2, 3, 4]\n",
            "Drop the first occurency of '3': [0, 1, 2, 4, 0, 1, 2, 3, 4]\n",
            "Drop all occurencies of '4': [0, 1, 2, 0, 1, 2, 3]\n"
          ]
        }
      ]
    },
    {
      "cell_type": "markdown",
      "metadata": {
        "id": "3A5372IJxC0i"
      },
      "source": [
        "Almost always, *list comprehension* is preferred in these cases (and also has the advantage of working with tuples as well).\n"
      ]
    },
    {
      "cell_type": "code",
      "metadata": {
        "id": "Fz-hNOiGxOCJ",
        "colab": {
          "base_uri": "https://localhost:8080/"
        },
        "outputId": "b95e6d21-3447-4882-a51a-0027b9cb0971"
      },
      "source": [
        "mylist = list(range(5))*2   ## Note the usage of the multiplication operator. When applied to a list and an integer n, it repeats the list content n times.\n",
        "print (\"Full list\", mylist)\n",
        "print (\"Drop all occurency of 4:\", [value for value in mylist if value != 4])\n",
        "print (\"Drop the first occurency of 3:\", [value for index, value in enumerate(mylist) if index != mylist.index(3)])"
      ],
      "execution_count": null,
      "outputs": [
        {
          "output_type": "stream",
          "name": "stdout",
          "text": [
            "Full list [0, 1, 2, 3, 4, 0, 1, 2, 3, 4]\n",
            "Drop all occurency of 4: [0, 1, 2, 3, 0, 1, 2, 3]\n",
            "Drop the first occurency of 3: [0, 1, 2, 4, 0, 1, 2, 3, 4]\n"
          ]
        }
      ]
    },
    {
      "cell_type": "markdown",
      "metadata": {
        "id": "C59hJSZG9-uL"
      },
      "source": [
        "## Dictionaries\n",
        "*Dictionaries* are Python's implementation of **hash tables**, which are data types consisting of an unordered sequence of key-value pairs.\n"
      ]
    },
    {
      "cell_type": "markdown",
      "metadata": {
        "id": "3BeCdaiFkUfq"
      },
      "source": [
        "To define a dictionary, use the syntax:\n",
        "```\n",
        "d = {<key1>: <value1>, <key2>: <value2>, ... }\n",
        "```\n",
        "or, in the case of string keys\n",
        "```\n",
        "d = dict(key1 = value1, key2 = value2)\n",
        "```\n",
        "\n",
        "For example,\n"
      ]
    },
    {
      "cell_type": "code",
      "metadata": {
        "id": "OnRBBjBWlKAu",
        "colab": {
          "base_uri": "https://localhost:8080/"
        },
        "outputId": "7ea8b1c4-1c11-4137-894b-0e51774ae73a"
      },
      "source": [
        "d = {\"Mickey\": \"mouse\", \"Minnie\": \"mouse\", \"Goofy\": \"dog\", \"Donald\": 'duck' }\n",
        "\n",
        "print (d)"
      ],
      "execution_count": null,
      "outputs": [
        {
          "output_type": "stream",
          "name": "stdout",
          "text": [
            "{'Mickey': 'mouse', 'Minnie': 'mouse', 'Goofy': 'dog', 'Donald': 'duck'}\n"
          ]
        }
      ]
    },
    {
      "cell_type": "markdown",
      "metadata": {
        "id": "iJkEuVfNnPnq"
      },
      "source": [
        "You can access a key-value pair by key using the syntax:\n",
        "\\```\n",
        "<dictionary>[<key>]\n",
        "\\```\n",
        "for example\n"
      ]
    },
    {
      "cell_type": "code",
      "metadata": {
        "id": "xZH5HSVinekG",
        "colab": {
          "base_uri": "https://localhost:8080/"
        },
        "outputId": "dcc7ca9c-2d27-4120-b64d-53d1a90c7181"
      },
      "source": [
        "print (f\"Mickey is a {d['Mickey']}\")"
      ],
      "execution_count": null,
      "outputs": [
        {
          "output_type": "stream",
          "name": "stdout",
          "text": [
            "Mickey is a mouse\n"
          ]
        }
      ]
    },
    {
      "cell_type": "markdown",
      "metadata": {
        "id": "efxigu6eoXEC"
      },
      "source": [
        "As with lists and tuples, you can use the `in` keyword to check if a certain key (or even a certain value, by specifying it) is present in the dictionary.\n"
      ]
    },
    {
      "cell_type": "code",
      "metadata": {
        "id": "3sMhAMuOohet",
        "colab": {
          "base_uri": "https://localhost:8080/"
        },
        "outputId": "d6d3ac77-aec2-44e0-f644-70c2a1667ff0"
      },
      "source": [
        "print (\"Is Mickey present in d?\", 'Mickey' in d)\n",
        "print (\"Is Clarabelle present in d?\", 'Clarabelle' in d)\n",
        "print (\"Is there any mouse in d?\", 'mouse' in d.values())\n",
        "print (\"Is there any cat in d?\", 'cat' in d.values())"
      ],
      "execution_count": null,
      "outputs": [
        {
          "output_type": "stream",
          "name": "stdout",
          "text": [
            "Is Mickey present in d? True\n",
            "Is Clarabelle present in d? False\n",
            "Is there any mouse in d? True\n",
            "Is there any cat in d? False\n"
          ]
        }
      ]
    },
    {
      "cell_type": "markdown",
      "metadata": {
        "id": "DDRkJnWDlgot"
      },
      "source": [
        "#### Iterating over Dictionaries\n",
        "Once defined, we can iterate over the elements of a dictionary, remembering that the order is not guaranteed!\n",
        "\n",
        "We can iterate over the keys:\n"
      ]
    },
    {
      "cell_type": "code",
      "metadata": {
        "id": "3b_6VtRTmDJa",
        "colab": {
          "base_uri": "https://localhost:8080/"
        },
        "outputId": "56723ca3-4043-4b04-cbc8-f883485ccecc"
      },
      "source": [
        "for character in d.keys():\n",
        "  print (character)"
      ],
      "execution_count": null,
      "outputs": [
        {
          "output_type": "stream",
          "name": "stdout",
          "text": [
            "Mickey\n",
            "Minnie\n",
            "Goofy\n",
            "Donald\n"
          ]
        }
      ]
    },
    {
      "cell_type": "markdown",
      "metadata": {
        "id": "SUPJ-GUzmIKn"
      },
      "source": [
        "or over the values\n"
      ]
    },
    {
      "cell_type": "code",
      "metadata": {
        "id": "D2YroAwOmHV7",
        "colab": {
          "base_uri": "https://localhost:8080/"
        },
        "outputId": "e4663fea-03bf-429e-a13d-597996507cb0"
      },
      "source": [
        "for specie in d.values():\n",
        "  print (specie)"
      ],
      "execution_count": null,
      "outputs": [
        {
          "output_type": "stream",
          "name": "stdout",
          "text": [
            "mouse\n",
            "mouse\n",
            "dog\n",
            "duck\n"
          ]
        }
      ]
    },
    {
      "cell_type": "markdown",
      "metadata": {
        "id": "K-B7vjnemS_y"
      },
      "source": [
        "or over the key-value pairs\n"
      ]
    },
    {
      "cell_type": "code",
      "metadata": {
        "id": "loLBKO4kmWtx",
        "colab": {
          "base_uri": "https://localhost:8080/"
        },
        "outputId": "bcc7080c-01e1-4b3f-ae3b-49378727bde6"
      },
      "source": [
        "for char, specie in d.items():\n",
        "  print (f'Character \"{char}\" is a {specie}')"
      ],
      "execution_count": null,
      "outputs": [
        {
          "output_type": "stream",
          "name": "stdout",
          "text": [
            "Character \"Mickey\" is a mouse\n",
            "Character \"Minnie\" is a mouse\n",
            "Character \"Goofy\" is a dog\n",
            "Character \"Donald\" is a duck\n"
          ]
        }
      ]
    },
    {
      "cell_type": "markdown",
      "metadata": {
        "id": "3TJhheKCms9U"
      },
      "source": [
        "Similarly, dictionaries can appear in the comprehensions discussed above:\n"
      ]
    },
    {
      "cell_type": "code",
      "metadata": {
        "id": "lNXJPRP5mzze",
        "colab": {
          "base_uri": "https://localhost:8080/"
        },
        "outputId": "d820ae90-84af-47f6-fdc8-41e3d3d43c72"
      },
      "source": [
        "print (\", \".join(char for char in d.keys()))"
      ],
      "execution_count": null,
      "outputs": [
        {
          "output_type": "stream",
          "name": "stdout",
          "text": [
            "Mickey, Minnie, Goofy, Donald\n"
          ]
        }
      ]
    },
    {
      "cell_type": "markdown",
      "metadata": {
        "id": "IjgczdE-lkcK"
      },
      "source": [
        "#### Modifying Dictionaries\n",
        "The most common way to modify an existing dictionary is by adding (or overwriting) a key-value pair. For example,\n"
      ]
    },
    {
      "cell_type": "code",
      "metadata": {
        "id": "hdCB8Y7vn0Yf",
        "colab": {
          "base_uri": "https://localhost:8080/"
        },
        "outputId": "49350013-edeb-410a-cfa7-78098989056b"
      },
      "source": [
        "d['Clarabelle'] = 'cow'\n",
        "print (d)\n",
        "d['Clarabelle'] = 'bull'\n",
        "print (d)"
      ],
      "execution_count": null,
      "outputs": [
        {
          "output_type": "stream",
          "name": "stdout",
          "text": [
            "{'Mickey': 'mouse', 'Minnie': 'mouse', 'Goofy': 'dog', 'Donald': 'duck', 'Clarabelle': 'cow'}\n",
            "{'Mickey': 'mouse', 'Minnie': 'mouse', 'Goofy': 'dog', 'Donald': 'duck', 'Clarabelle': 'bull'}\n"
          ]
        }
      ]
    },
    {
      "cell_type": "markdown",
      "metadata": {
        "id": "-4jqKIjnnGxZ"
      },
      "source": [
        "Two dictionaries `d1` and `d2` can be combined, giving priority to `d1` if a key appears in both dictionaries.\n"
      ]
    },
    {
      "cell_type": "code",
      "metadata": {
        "id": "E4jvgNpoqTeK",
        "colab": {
          "base_uri": "https://localhost:8080/"
        },
        "outputId": "bb952b17-b285-417b-e5ae-e8e2c886ec8b"
      },
      "source": [
        "french_french = {1: 'un', 2: 'deux', 3: 'trois', 80: 'quatrevingt', 90: 'quatrevingt-dix'}\n",
        "swiss_french  = {1: 'un', 4: 'quatre', 80: 'huitante', 90: 'nonante'}\n",
        "\n",
        "print (\"Use a French, French word if that is not defined in Swiss French dict\")\n",
        "french_french.update(swiss_french)\n",
        "\n",
        "print (french_french)\n"
      ],
      "execution_count": null,
      "outputs": [
        {
          "output_type": "stream",
          "name": "stdout",
          "text": [
            "Use a French, French word if that is not defined in Swiss French dict\n",
            "{1: 'un', 2: 'deux', 3: 'trois', 80: 'huitante', 90: 'nonante', 4: 'quatre'}\n"
          ]
        }
      ]
    },
    {
      "cell_type": "markdown",
      "metadata": {
        "id": "zVYRybQKrX8F"
      },
      "source": [
        "As an important note, `update` modifies the original dictionary! To avoid this, you can define a new dictionary, for example, using dictionary comprehension (discussed below).\n"
      ]
    },
    {
      "cell_type": "markdown",
      "metadata": {
        "id": "eWfjEUl9lqoe"
      },
      "source": [
        "#### Removing Key-Value Pairs\n",
        "\n",
        "To remove a key (and its value) from a dictionary, use the keyword `del`. For example,\n",
        "```\n",
        "del <dictionary>[<key>]\n",
        "```\n"
      ]
    },
    {
      "cell_type": "code",
      "metadata": {
        "id": "0S1OrC_wsAng",
        "colab": {
          "base_uri": "https://localhost:8080/"
        },
        "outputId": "2b67fdc5-d8e8-4ec9-97c1-287b61e6425d"
      },
      "source": [
        "mydict = {\"Mickey\": \"mouse\", \"Minnie\": \"mouse\", \"Goofy\": \"dog\", \"Donald\": 'duck', \"Clarabelle\": 'cow' }\n",
        "print (mydict)\n",
        "del mydict['Clarabelle']\n",
        "print (mydict)"
      ],
      "execution_count": null,
      "outputs": [
        {
          "output_type": "stream",
          "name": "stdout",
          "text": [
            "{'Mickey': 'mouse', 'Minnie': 'mouse', 'Goofy': 'dog', 'Donald': 'duck', 'Clarabelle': 'cow'}\n",
            "{'Mickey': 'mouse', 'Minnie': 'mouse', 'Goofy': 'dog', 'Donald': 'duck'}\n"
          ]
        }
      ]
    },
    {
      "cell_type": "markdown",
      "metadata": {
        "id": "GVBd65Rxsl6k"
      },
      "source": [
        "Multiple elements can also be removed iteratively from a dictionary, but not while iterating over it. For example, you can save them in a list and remove them later:\n"
      ]
    },
    {
      "cell_type": "code",
      "metadata": {
        "id": "_vGMIzSEtHHE",
        "colab": {
          "base_uri": "https://localhost:8080/"
        },
        "outputId": "8aa552b2-dbeb-4394-efd8-dbc092e4ceeb"
      },
      "source": [
        "mydict = {\"Mickey\": \"mouse\", \"Minnie\": \"mouse\", \"Goofy\": \"dog\", \"Donald\": 'duck', \"Clarabelle\": 'cow' }\n",
        "to_be_dropped = list()\n",
        "\n",
        "for key, value in mydict.items():\n",
        "  if value == 'mouse':\n",
        "    to_be_dropped.append (key)\n",
        "\n",
        "for key in to_be_dropped:\n",
        "  del mydict[key]\n",
        "\n",
        "print (mydict)"
      ],
      "execution_count": null,
      "outputs": [
        {
          "output_type": "stream",
          "name": "stdout",
          "text": [
            "{'Goofy': 'dog', 'Donald': 'duck', 'Clarabelle': 'cow'}\n"
          ]
        }
      ]
    },
    {
      "cell_type": "markdown",
      "metadata": {
        "id": "XIiP1ECilwa8"
      },
      "source": [
        "#### Dictionary Comprehension\n",
        "Just like tuples and lists, dictionaries can also be defined using *comprehension*.\n",
        "\n",
        "For example, we can repeat the example of removing characters of type \"mouse\" from the dictionary by defining a new dictionary in which those characters do not appear:\n"
      ]
    },
    {
      "cell_type": "code",
      "metadata": {
        "id": "HZlEf7hYt9XL",
        "colab": {
          "base_uri": "https://localhost:8080/"
        },
        "outputId": "10c08705-07f2-4df4-edde-8f8941f6d7f5"
      },
      "source": [
        "mydict = {\"Mickey\": \"mouse\", \"Minnie\": \"mouse\", \"Goofy\": \"dog\", \"Donald\": 'duck', \"Clarabelle\": 'cow' }\n",
        "mouseless = {key: value for key, value in mydict.items() if value != 'mouse'}\n",
        "print (mouseless)"
      ],
      "execution_count": null,
      "outputs": [
        {
          "output_type": "stream",
          "name": "stdout",
          "text": [
            "{'Goofy': 'dog', 'Donald': 'duck', 'Clarabelle': 'cow'}\n"
          ]
        }
      ]
    },
    {
      "cell_type": "markdown",
      "metadata": {
        "id": "tBr1whRLuhB5"
      },
      "source": [
        "This mechanism is usually preferred over the explicit removal of elements from the dictionary (and from a list, equivalently).\n",
        "Thanks to Python's *garbage collection*, you just need to call the new dictionary with the same name as the original, and Python will automatically remove the latter from memory, along with all the keys and values that no longer appear in any references.\n"
      ]
    },
    {
      "cell_type": "code",
      "metadata": {
        "id": "I7jMCJuBu8bU"
      },
      "source": [
        "mydict = {\"Mickey\": \"mouse\", \"Minnie\": \"mouse\", \"Goofy\": \"dog\", \"Donald\": 'duck', \"Clarabelle\": 'cow' }\n",
        "mydict = {k:v for k, v in mydict.items() if v != 'mouse'}  ## Drops from memory Mickey and Minnie, exactly as obtained with del. But it's much cleaner!"
      ],
      "execution_count": null,
      "outputs": []
    },
    {
      "cell_type": "markdown",
      "metadata": {
        "id": "cqN8_Umz-C5M"
      },
      "source": [
        "## Sets\n",
        "Sets are unordered sequences of unique values. They offer an interface with various set operations (such as unions, intersections, and differences) that are implemented more efficiently than for lists and similar data types.\n"
      ]
    },
    {
      "cell_type": "markdown",
      "metadata": {
        "id": "AFnaQYwa5cTs"
      },
      "source": [
        "Sets are identified with curly braces, without the colons to separate key and value as in the case of *dictionaries*.\n",
        "For historical reasons, `{}` is interpreted as an empty `dict`, not as a `set`.\n",
        "\n",
        "To define an empty set, use `set()`.\n",
        "\n",
        "Let's see some examples:\n"
      ]
    },
    {
      "cell_type": "code",
      "metadata": {
        "id": "yKHkOFCL9gQ1"
      },
      "source": [
        "baryons = {'neutron', 'proton'}\n",
        "mesons = {'pion', 'kaon'}\n",
        "charged_leptons = set(('electron', 'muon', 'tauon'))\n",
        "neutrinos = {'neutrino'}"
      ],
      "execution_count": null,
      "outputs": []
    },
    {
      "cell_type": "markdown",
      "metadata": {
        "id": "aBy5aSjw6csO"
      },
      "source": [
        "#### Logical Operations on Sets\n",
        "The following operations on sets are defined:\n",
        " * union (`union`)\n",
        " * intersection (`intersection`)\n",
        " * difference (`difference`)\n"
      ]
    },
    {
      "cell_type": "code",
      "metadata": {
        "id": "v1ydEC316hE5",
        "colab": {
          "base_uri": "https://localhost:8080/"
        },
        "outputId": "d05fde2c-7a71-442c-9670-a5efb29dd4d2"
      },
      "source": [
        "## Union\n",
        "hadrons = baryons.union(mesons)\n",
        "print (hadrons)\n",
        "\n",
        "## Intersection\n",
        "charged = charged_leptons.union({'proton', 'pion', 'kaon'})\n",
        "charged_hadrons = hadrons.intersection (charged)\n",
        "print (charged_hadrons)\n",
        "\n",
        "## Difference\n",
        "neutral_hadrons = hadrons.difference(charged_hadrons)\n",
        "print (neutral_hadrons)"
      ],
      "execution_count": null,
      "outputs": [
        {
          "output_type": "stream",
          "name": "stdout",
          "text": [
            "{'proton', 'kaon', 'pion', 'neutron'}\n",
            "{'proton', 'kaon', 'pion'}\n",
            "{'neutron'}\n"
          ]
        }
      ]
    },
    {
      "cell_type": "markdown",
      "metadata": {
        "id": "yR6XoFNI6fgo"
      },
      "source": [
        "#### Sets for Identifying Unique Elements\n",
        "Sets are often used because of their characteristic of containing unique elements, to count how many different elements appear in a sequence.\n",
        "For example, if we wonder how many different letters are needed to write \"Hello, world!\" we can write:\n"
      ]
    },
    {
      "cell_type": "code",
      "metadata": {
        "id": "UiJgpZH07-RL",
        "colab": {
          "base_uri": "https://localhost:8080/"
        },
        "outputId": "dbfb99bd-5efe-41f2-a3fa-018a0a577369"
      },
      "source": [
        "string = \"Hello, world!\"\n",
        "letters = set(\"ABCDEFGHIJKLMNOPQRSTUVWXYZabcdefghijklmnopqrstuvwxyz\")\n",
        "\n",
        "print (f\"Processing string: '{string}'\")\n",
        "print (f'Number of uniques letters: ', len(set(string).intersection(letters)))\n",
        "print (f'Total number of letters: {len(tuple(char for char in string if char in letters))}')\n",
        "print (f'Total length of the string: {len(string)}')"
      ],
      "execution_count": null,
      "outputs": [
        {
          "output_type": "stream",
          "name": "stdout",
          "text": [
            "Processing string: 'Hello, world!'\n",
            "Number of uniques letters:  7\n",
            "Total number of letters: 10\n",
            "Total length of the string: 13\n"
          ]
        }
      ]
    },
    {
      "cell_type": "markdown",
      "metadata": {
        "id": "92MbTbvqelWb"
      },
      "source": [
        "# *Python Standard Libraries* and the *Python Package Index*\n",
        "\n",
        "Starting from Python's basic types, and extending the language with programs written in other languages, over the years, an ecosystem of Python packages has formed that codifies solutions to a wide range of problems.\n"
      ]
    },
    {
      "cell_type": "markdown",
      "metadata": {
        "id": "Q3A-Ueb6isBl"
      },
      "source": [
        "The primary way to access these packages is the `import` statement, which can be used with the following syntax:\n",
        "```\n",
        "import <package_name> [as <local_name>]\n",
        "from <package_name> import <module_name> [as <local_name>]\n",
        "```\n",
        "\n",
        "For example, the package [`itertools`](https://docs.python.org/3/library/itertools.html) contains functions useful for constructing loops in a more intelligent way.\n",
        "\n",
        "To use one of the functions defined in this package, we first need to import the package.\n"
      ]
    },
    {
      "cell_type": "code",
      "metadata": {
        "id": "Ex4RP6A4gNiU"
      },
      "source": [
        "import itertools"
      ],
      "execution_count": null,
      "outputs": []
    },
    {
      "cell_type": "markdown",
      "metadata": {
        "id": "mjv3J42AgQO1"
      },
      "source": [
        "Therefore, we can access the functions defined in `itertools` using the same syntax used to access the functions of a class (*methods*).\n",
        "\n",
        "For example:\n"
      ]
    },
    {
      "cell_type": "code",
      "metadata": {
        "id": "6ea45uBfghP4",
        "colab": {
          "base_uri": "https://localhost:8080/"
        },
        "outputId": "7ec3b27d-c6d2-4832-a223-f7e670229c51"
      },
      "source": [
        "itertools.product"
      ],
      "execution_count": null,
      "outputs": [
        {
          "output_type": "execute_result",
          "data": {
            "text/plain": [
              "itertools.product"
            ]
          },
          "metadata": {},
          "execution_count": 560
        }
      ]
    },
    {
      "cell_type": "markdown",
      "metadata": {
        "id": "0hmLmUTNgkm6"
      },
      "source": [
        "These functions can be used within the program as if they were defined in the program itself.\n",
        "\n",
        "For example, using the `product` function, we can suggest to Walt Disney's heirs some characters they may not have thought of yet.\n"
      ]
    },
    {
      "cell_type": "code",
      "metadata": {
        "id": "xI-FdliJgrdr",
        "colab": {
          "base_uri": "https://localhost:8080/"
        },
        "outputId": "2fd5b8d3-0dc9-4304-ecdd-2ac7a9b51147"
      },
      "source": [
        "species = 'mouse', 'duck', 'dog'\n",
        "genders = 'male', 'female'\n",
        "ages = 'child', 'young', 'adult', 'aged'\n",
        "\n",
        "print (\"Ideas for a new Disney Characters\")\n",
        "for specie, gender, age in itertools.product(species, genders, ages):\n",
        "  article = 'An' if age[0].lower() in 'aeiou' else 'A'\n",
        "  print (f\" - {article} {age} {gender} {specie}\")"
      ],
      "execution_count": null,
      "outputs": [
        {
          "output_type": "stream",
          "name": "stdout",
          "text": [
            "Ideas for a new Disney Characters\n",
            " - A child male mouse\n",
            " - A young male mouse\n",
            " - An adult male mouse\n",
            " - An aged male mouse\n",
            " - A child female mouse\n",
            " - A young female mouse\n",
            " - An adult female mouse\n",
            " - An aged female mouse\n",
            " - A child male duck\n",
            " - A young male duck\n",
            " - An adult male duck\n",
            " - An aged male duck\n",
            " - A child female duck\n",
            " - A young female duck\n",
            " - An adult female duck\n",
            " - An aged female duck\n",
            " - A child male dog\n",
            " - A young male dog\n",
            " - An adult male dog\n",
            " - An aged male dog\n",
            " - A child female dog\n",
            " - A young female dog\n",
            " - An adult female dog\n",
            " - An aged female dog\n"
          ]
        }
      ]
    },
    {
      "cell_type": "markdown",
      "metadata": {
        "id": "eIhnnvXJgrEs"
      },
      "source": [
        "## *Python Standard Libraries*\n",
        "The Python standard libraries are automatically available in (almost) every Python installation and are maintained by the Python development team.\n",
        "\n",
        "https://docs.python.org/3/library/index.html\n",
        "\n",
        "Some particularly important libraries that any Python developer should know about are:\n",
        " * `os` — Interface to the operating system\n",
        " * `os.path` — Interface to the file system\n",
        " * `sys` — System-specific parameters and functions\n",
        " * `glob` — File system exploration with wildcards\n",
        " * `itertools` — Tools for constructing loops and iterators\n",
        " * `time` — Time-related functions\n",
        " * `datetime` — Time-related data types (e.g., dates)\n",
        " * `pickle` — Functions for saving Python objects to disk (serialization)\n",
        "\n",
        "At a much higher level of complexity, but which I cannot refrain from mentioning in a data analysis course:\n",
        " * `sqlite3` for SQLite Database management, allowing the use of SQL to describe data access\n",
        " * `re` for regular expressions\n",
        "\n",
        "These last two libraries introduce two more languages into Python for specific applications, significantly extending the scope of this language.\n"
      ]
    },
    {
      "cell_type": "markdown",
      "metadata": {
        "id": "-vIYkWNHpFWN"
      },
      "source": [
        "## Python Package Index\n",
        "\n",
        "In addition to the packages offered by the standard libraries, thousands of developers have shared their software packages with the Python developer community.\n",
        "\n",
        "The *repository* where these packages are uploaded by developers is called the *Python Package Index* (PyPI) and it is a fundamental resource for Python programmers.\n",
        "\n",
        "Don't think that the packages released on PyPI are developed solely by enthusiasts and *nerds* looking for visibility. Companies like Google, Facebook, and other tech giants contribute to very important packages released through PyPI.\n",
        "\n",
        "To install packages from PyPI in Jupyter, you can write\n",
        "```\n",
        "!pip install <package_name>\n",
        "```\n"
      ]
    },
    {
      "cell_type": "code",
      "metadata": {
        "id": "tGrxUrMRqLXF",
        "colab": {
          "base_uri": "https://localhost:8080/"
        },
        "outputId": "d6c10897-0682-4c89-bd72-02ffa45ac9ef"
      },
      "source": [
        "!pip install particle"
      ],
      "execution_count": null,
      "outputs": [
        {
          "output_type": "stream",
          "name": "stdout",
          "text": [
            "Requirement already satisfied: particle in /usr/local/lib/python3.11/dist-packages (0.25.2)\n",
            "Requirement already satisfied: attrs>=19.2 in /usr/local/lib/python3.11/dist-packages (from particle) (25.1.0)\n",
            "Requirement already satisfied: hepunits>=2.0.0 in /usr/local/lib/python3.11/dist-packages (from particle) (2.3.5)\n",
            "Requirement already satisfied: typing-extensions>=4.5 in /usr/local/lib/python3.11/dist-packages (from particle) (4.12.2)\n"
          ]
        }
      ]
    },
    {
      "cell_type": "markdown",
      "metadata": {
        "id": "IBPBtmORqOkU"
      },
      "source": [
        "and then you can import the package exactly as if it were a standard Python package.\n",
        "\n",
        "For example, we can use the package [`scikit-hep/particle`](https://github.com/scikit-hep/particle) to investigate the properties of the charged pion.\n"
      ]
    },
    {
      "cell_type": "code",
      "metadata": {
        "id": "a0sjUNROqU5C",
        "colab": {
          "base_uri": "https://localhost:8080/"
        },
        "outputId": "3a298c87-6f0c-4de0-ca31-32c274ea5176"
      },
      "source": [
        "from particle import Particle\n",
        "pion = Particle.from_name(\"pi+\")\n",
        "print (f\"Mass of the charged pion: {pion.mass} MeV/c2\")"
      ],
      "execution_count": null,
      "outputs": [
        {
          "output_type": "stream",
          "name": "stdout",
          "text": [
            "Mass of the charged pion: 139.57039 MeV/c2\n"
          ]
        }
      ]
    },
    {
      "cell_type": "markdown",
      "metadata": {
        "id": "luBlwopH9cwF"
      },
      "source": [
        "# Exercises\n",
        "The exercises proposed below can all be solved without using external libraries or modules. That is, without ever needing to write `import`.\n"
      ]
    },
    {
      "cell_type": "markdown",
      "metadata": {
        "id": "__pnzSFh91JN"
      },
      "source": [
        "#### Some Statistics on Word Length\n",
        "Consider the following text (taken from Wikipedia):\n",
        "```\n",
        "Particle physics (also known as high energy physics) is a branch of physics\n",
        "that studies the nature of the particles that constitute matter and radiation.\n",
        "Although the word particle can refer to various types of very small objects\n",
        "(such as protons, gas particles, or even household dust), particle physics\n",
        "usually investigates the irreducibly smallest detectable particles and the\n",
        "fundamental interactions necessary to explain their behaviour. In current\n",
        "understanding, these elementary particles are excitations of the quantum fields\n",
        "that also govern their interactions.\n",
        "```\n",
        "and determine the longest word.\n",
        "\n",
        "Additionally, count how many words appear based on the number of letters.\n",
        "If a word appears more than once in the text, it should be counted only once.\n"
      ]
    },
    {
      "cell_type": "code",
      "metadata": {
        "id": "u8ENGYLo-v6M",
        "colab": {
          "base_uri": "https://localhost:8080/"
        },
        "outputId": "2680afe3-5f66-4b9a-c221-c9aa90794b89"
      },
      "source": [
        "input_string = \"\"\"\n",
        "Particle physics (also known as high energy physics) is a branch of physics\n",
        "that studies the nature of the particles that constitute matter and radiation.\n",
        "Although the word particle can refer to various types of very small objects\n",
        "(such as protons, gas particles, or even household dust), particle physics\n",
        "usually investigates the irreducibly smallest detectable particles and the\n",
        "fundamental interactions necessary to explain their behaviour. In current\n",
        "understanding, these elementary particles are excitations of the quantum fields\n",
        "that also govern their interactions.\n",
        "\"\"\"\n",
        "\n",
        "## 1. Clean the non-letter characters\n",
        "upper_letters = \"ABCDEFGHIJKLMNOPQRSTUVWXYZ\"\n",
        "lower_letters = \"abcdefghijklmnopqrstuvwxyz\"\n",
        "admitted_chars = lower_letters + upper_letters + \" \"\n",
        "clean_string = ''\n",
        "for char in input_string:\n",
        "  if char in admitted_chars:\n",
        "    clean_string += char\n",
        "\n",
        "## 2. Transform all upper case letters into lower case\n",
        "lower_string = ''\n",
        "for char in clean_string:\n",
        "  if char in upper_letters:\n",
        "    ## get the index of the letter\n",
        "    id = upper_letters.index(char)\n",
        "    lower_string += lower_letters[id]\n",
        "  else:\n",
        "    lower_string += char\n",
        "\n",
        "## 3. Split the string and remove double countings\n",
        "words = set(lower_string.split(' '))\n",
        "\n",
        "## 4. Print the longest word\n",
        "longest_word = ''\n",
        "for word in words:\n",
        "  if len (word) > len(longest_word):\n",
        "    longest_word = word\n",
        "\n",
        "print (f\"The longest word is '{longest_word}'.\")\n",
        "\n",
        "## 5. Creates a histogram for the length of these words\n",
        "boundaries = 0, 1, 3, 5, 6, 10, 1000\n",
        "counts = [\n",
        "          len([word for word in words if len(word) > min and len(word) <= max])\n",
        "              for min, max in zip(boundaries[:-1], boundaries[1:])\n",
        "]\n",
        "\n",
        "for min, max, count in zip (boundaries[:-1], boundaries[1:], counts):\n",
        "  print (f\"Number of words with more than {min:2d} charaters, but no more than {max:4d}: {count:3d}\")\n"
      ],
      "execution_count": null,
      "outputs": [
        {
          "output_type": "stream",
          "name": "stdout",
          "text": [
            "The longest word is 'currentunderstanding'.\n",
            "Number of words with more than  0 charaters, but no more than    1:   1\n",
            "Number of words with more than  1 charaters, but no more than    3:  11\n",
            "Number of words with more than  3 charaters, but no more than    5:  13\n",
            "Number of words with more than  5 charaters, but no more than    6:   5\n",
            "Number of words with more than  6 charaters, but no more than   10:  16\n",
            "Number of words with more than 10 charaters, but no more than 1000:  10\n"
          ]
        }
      ]
    },
    {
      "cell_type": "markdown",
      "metadata": {
        "id": "HOq50yxEC5nO"
      },
      "source": [
        "### The Fibonacci Series\n",
        "Write a function that determines if the input is part of the Fibonacci series.\n"
      ]
    },
    {
      "cell_type": "code",
      "metadata": {
        "id": "deLKOadKDLuA",
        "colab": {
          "base_uri": "https://localhost:8080/"
        },
        "outputId": "1140031e-baee-4478-9059-664c39a3394d"
      },
      "source": [
        "def is_in_fibonacci (input):\n",
        "  \"Return True if input is in the Fibonacci sequence\"\n",
        "  last_two = [1, 1]\n",
        "  while input >= last_two[-1]:\n",
        "    if input in last_two:\n",
        "      return True\n",
        "    else:\n",
        "      last_two.append(sum (last_two))\n",
        "      del last_two[0]\n",
        "  return False\n",
        "\n",
        "print (is_in_fibonacci(610))\n",
        "print (is_in_fibonacci(32))"
      ],
      "execution_count": null,
      "outputs": [
        {
          "output_type": "stream",
          "name": "stdout",
          "text": [
            "True\n",
            "False\n"
          ]
        }
      ]
    },
    {
      "cell_type": "markdown",
      "metadata": {
        "id": "usWIUcEfFqi-"
      },
      "source": [
        "### Mean, Median, and Standard Deviation\n",
        "Given a sequence of real numbers, calculate the mean, median, and standard deviation (using only built-in types, i.e., without ever writing `import`).\n"
      ]
    },
    {
      "cell_type": "code",
      "metadata": {
        "id": "fEe2QLF_Eyzp",
        "colab": {
          "base_uri": "https://localhost:8080/"
        },
        "outputId": "2929ea4d-a537-4556-ab75-ae1eab6bf013"
      },
      "source": [
        "input_seq = 3.4, 5.2, 3.3, 76.2, 3.1, 2.2, 3.3, 6.0\n",
        "\n",
        "mu = sum(input_seq)/len(input_seq)\n",
        "sigma = (sum (tuple((x-mu)**2 for x in input_seq))/(len(input_seq) - 1))**0.5\n",
        "median = list(sorted(input_seq))[int(len(input_seq)/2)-1]\n",
        "\n",
        "print (f\"Average:  {mu:.1f}\")\n",
        "print (f\"Std. Dev: {sigma:.1f}\")\n",
        "print (f\"Median:   {median:.1f}\")"
      ],
      "execution_count": null,
      "outputs": [
        {
          "output_type": "stream",
          "name": "stdout",
          "text": [
            "Average:  12.8\n",
            "Std. Dev: 25.6\n",
            "Median:   3.3\n"
          ]
        }
      ]
    },
    {
      "cell_type": "markdown",
      "metadata": {
        "id": "CHSE-LM8ICJp"
      },
      "source": [
        "### Removing Duplicates from a List\n",
        "\n",
        "We've seen that `set` is a data type that represents sequences of unique, unordered elements, while lists are ordered sequences of potentially repeated elements.\n",
        "\n",
        "Write a function that removes duplicates from a list while preserving the order. In the case of duplicates, the only occurrence to remain should be the first one.\n",
        "\n",
        "### Counting Vowels in a Text\n",
        "Given a string, count the number of vowels, without distinguishing between uppercase and lowercase.\n",
        "\n",
        "### Read-Only Dictionary\n",
        "Write a class that emulates the behavior of a dictionary but prevents overwriting a key-value pair where the key is already defined.\n",
        "\n",
        "### At Least One Match\n",
        "Write a function that returns `True` if there is at least one element in common between two input sequences.\n",
        "\n",
        "### Odd Indices\n",
        "Write a function that removes all characters from a string that have an odd index.\n",
        "\n",
        "### A Poor Man's Encryption\n",
        "Write a program that encrypts and decrypts a text string with an integer key between 1 and 100.\n",
        "The key will be used to shift the letters in the alphabet by a number of letters equal to the value of the key.\n",
        "\n",
        "For example, the string `Ciao` with key `1` should become `Djbp`.\n"
      ]
    },
    {
      "cell_type": "code",
      "source": [],
      "metadata": {
        "id": "g1fNJlSNpl2u"
      },
      "execution_count": null,
      "outputs": []
    }
  ]
}