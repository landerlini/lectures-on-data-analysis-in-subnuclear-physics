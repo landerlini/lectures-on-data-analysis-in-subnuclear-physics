{
  "nbformat": 4,
  "nbformat_minor": 0,
  "metadata": {
    "colab": {
      "provenance": []
    },
    "kernelspec": {
      "name": "python3",
      "display_name": "Python 3"
    },
    "language_info": {
      "name": "python"
    }
  },
  "cells": [
    {
      "cell_type": "markdown",
      "metadata": {
        "id": "hQrzckrIH3eT"
      },
      "source": [
        "# Corso di Analisi Dati in Fisica Subnucleare\n",
        "## Esame del 15 settembre 2021\n",
        "\n",
        "## Tema: La tecnica bootstrap per la stima dell'errore statistico\n",
        "In questo esercizio metteremo in pratica la tecnica del bootstrap per valutare l'errore statistico in modo indipendente dalla curvatura della funzione di verosimiglianza.\n",
        "\n",
        "La tecnica del bootstrap consiste nel *ricampionare* il set di dati iniziale permettendo elementi ripetuti per poi ripetere la procedura di fit su ciascuno dei set di dati così ottenuti.\n",
        "\n",
        "Si dimostra che il valore ottenuto dal fit di ciascun set di dati ricampionati fluttua con una deviazione standard pari all'incertezza statistica sul valore stesso.\n",
        "\n",
        "Questa proprietà permette di studiare l'incertezza statistica in casi complessi in cui la funzione verosimiglianza è complicata, per esempio, dalla vicinanza di regioni dello spazio dei parametri \"non fisiche\".\n",
        "\n",
        "In questo esercizio però consideremo un caso semplice per poter confrontare l'errore statistico ottenuto dal fit con l'errore ottenuto dal bootstrap.\n",
        "\n",
        "> **Nota**: la risposta a ciascuna domanda può essere ottenuta in 15 righe di codice o meno. Benché non ci sia un premio per soluzioni più brevi, se la soluzione che avete in mente richiede molto più codice, allora sappiate che sicuramente esiste un modo più semplice per risolvere il problema."
      ]
    },
    {
      "cell_type": "markdown",
      "metadata": {
        "id": "Q21WbWf_H8PP"
      },
      "source": [
        "## Il problema\n",
        "\n",
        "In un esperimento di fisica di alte energie ad un collisionatore vengono ricostruite coppie di fotoni e ne viene calcolata la massa.\n",
        "Il dataset è stato salvato in formato root e reso disponibile all'indirizzo:"
      ]
    },
    {
      "cell_type": "code",
      "metadata": {
        "colab": {
          "base_uri": "https://localhost:8080/"
        },
        "id": "4c8DRRY7H0Mk",
        "outputId": "0c23ef0b-340d-46c5-ab06-3b0df5a3a2b6"
      },
      "source": [
        "!pip install --upgrade uproot iminuit\n",
        "import numpy as np\n",
        "import pandas as pd\n",
        "import matplotlib.pyplot as plt\n",
        "import uproot"
      ],
      "execution_count": null,
      "outputs": [
        {
          "output_type": "stream",
          "name": "stdout",
          "text": [
            "Requirement already satisfied: uproot in /usr/local/lib/python3.7/dist-packages (4.1.2)\n",
            "Requirement already satisfied: iminuit in /usr/local/lib/python3.7/dist-packages (2.8.3)\n",
            "Requirement already satisfied: setuptools in /usr/local/lib/python3.7/dist-packages (from uproot) (57.4.0)\n",
            "Requirement already satisfied: numpy in /usr/local/lib/python3.7/dist-packages (from uproot) (1.19.5)\n"
          ]
        }
      ]
    },
    {
      "cell_type": "markdown",
      "metadata": {
        "id": "BzcSyIR5ILH1"
      },
      "source": [
        "## Caricare il dataset\n",
        "\n",
        "Il dataset è costituito da un `TTree` con una sola branch chiamata `x` che contiene la massa invariante della coppia di fotoni.\n",
        "\n",
        "Utilizzare `uproot` per scaricare il dataset e convertirlo in un array di `numpy`."
      ]
    },
    {
      "cell_type": "code",
      "metadata": {
        "id": "zV2m7Tu9IKEg"
      },
      "source": [
        "!wget http://pandora.infn.it/public/ab88e4/dl/data.root -O \"data.root\" &> /dev/null\n",
        "mass = uproot.open(\"data.root\")['sig'].arrays(library='numpy')['x']"
      ],
      "execution_count": null,
      "outputs": []
    },
    {
      "cell_type": "markdown",
      "metadata": {
        "id": "RZ-UzS9CLKho"
      },
      "source": [
        "## Analisi esplorativa\n",
        "Costruire l'istogramma della massa invariante."
      ]
    },
    {
      "cell_type": "code",
      "metadata": {
        "colab": {
          "base_uri": "https://localhost:8080/",
          "height": 285
        },
        "id": "-42SMguqLXkH",
        "outputId": "dbda29b6-bfe3-4e32-c2fa-20555dd83904"
      },
      "source": [
        "plt.hist(mass, bins=100)\n",
        "plt.xlabel (\"Diphoton invariant mass [GeV/$c^2$]\")\n",
        "plt.ylabel (\"Number of events\")\n",
        "plt.show()"
      ],
      "execution_count": null,
      "outputs": [
        {
          "output_type": "display_data",
          "data": {
            "image/png": "[encoded data removed]",
            "text/plain": [
              "<Figure size 432x288 with 1 Axes>"
            ]
          },
          "metadata": {
            "needs_background": "light"
          }
        }
      ]
    },
    {
      "cell_type": "markdown",
      "metadata": {
        "id": "TTs5NztCLdQM"
      },
      "source": [
        "Scegliere una finestra di massa invariante appropriata per poter eseguire un fit: abbastanza stretta da poter approssimare la distribuzione del fondo con una retta e abbastanza larga da includere regioni senza alcun contributo di segnale."
      ]
    },
    {
      "cell_type": "code",
      "metadata": {
        "colab": {
          "base_uri": "https://localhost:8080/",
          "height": 285
        },
        "id": "7KUlwTN6LaIQ",
        "outputId": "aeb5bb38-c3a0-48c4-87b7-528c1934b8cb"
      },
      "source": [
        "sbox = (60, 180)\n",
        "plt.hist(mass, bins=np.linspace(sbox[0], sbox[1], (sbox[1]-sbox[0])//3+1))\n",
        "\n",
        "plt.xlabel (\"Diphoton invariant mass [GeV/$c^2$]\")\n",
        "plt.ylabel (\"Number of events\")\n",
        "plt.show()"
      ],
      "execution_count": null,
      "outputs": [
        {
          "output_type": "display_data",
          "data": {
            "image/png": "[encoded data removed]",
            "text/plain": [
              "<Figure size 432x288 with 1 Axes>"
            ]
          },
          "metadata": {
            "needs_background": "light"
          }
        }
      ]
    },
    {
      "cell_type": "markdown",
      "metadata": {
        "id": "jO7lUy5oLlnZ"
      },
      "source": [
        "Contare il numero `nTot` di eventi all'interno della finestra di massa invariante individuata."
      ]
    },
    {
      "cell_type": "code",
      "metadata": {
        "id": "EysaAgP_MC_E"
      },
      "source": [
        "nTot = np.count_nonzero ( (mass > sbox[0]) & (mass < sbox[1]) )"
      ],
      "execution_count": null,
      "outputs": []
    },
    {
      "cell_type": "markdown",
      "metadata": {
        "id": "8xQ6km-WMmWd"
      },
      "source": [
        "## Fit alla massa invariante\n",
        "Costruire un fit di massima verosimiglianza estesa (extended maximum likelihood) del dataset.\n",
        "Ad esempio sovrapponendo un picco gaussiano ad un fondo lineare o esponenziale, normalizzando la componente di fondo numericamente oppure analiticamente."
      ]
    },
    {
      "cell_type": "code",
      "metadata": {
        "id": "b6beJI27Lk_5"
      },
      "source": [
        "class Model:\n",
        "    def __init__ (self, x, range_=(60,180)):\n",
        "        self.x = x[(x > range_[0]) & (x<range_[1])]\n",
        "        self.range = range_\n",
        "\n",
        "    def signal (self, x, x0, sigma):\n",
        "        return 1./np.sqrt(2*np.pi)/sigma * np.exp (-0.5*((x-x0)/sigma)**2)\n",
        "\n",
        "    def _background (self, x, slope):\n",
        "        return 1 + slope * x\n",
        "\n",
        "    def background (self, x, slope):\n",
        "        xs = np.linspace(self.range[0], self.range[1], 1000)\n",
        "        return self._background(x, slope) / np.mean (self._background(xs,slope)) / (self.range[1] - self.range[0])\n",
        "\n",
        "    def model (self, x, ns, nb, x0, sigma, slope):\n",
        "        return (ns * self.signal(x, x0, sigma) + nb * self.background(x, slope))/(ns + nb)\n",
        "\n",
        "    def loss (self, ns, nb, x0, sigma, slope):\n",
        "        return ns + nb - np.sum(np.log((ns+nb) * self.model(self.x, ns, nb,  x0, sigma, slope)))"
      ],
      "execution_count": null,
      "outputs": []
    },
    {
      "cell_type": "markdown",
      "metadata": {
        "id": "9qNIm3nFM6If"
      },
      "source": [
        "Verificare che ciascuna componente del modello statistico è normalizzata singolarmente, e che è normalizzata la somma delle componenti."
      ]
    },
    {
      "cell_type": "code",
      "metadata": {
        "colab": {
          "base_uri": "https://localhost:8080/"
        },
        "id": "31Kk2iR-Mo9R",
        "outputId": "09d3a4f6-8be7-4fd9-9a8b-ce1f1b7b0a3e"
      },
      "source": [
        "model = Model(mass, sbox)\n",
        "xs = np.linspace(60, 180, 1000)\n",
        "print (\"Norm signal: \", np.trapz (model.signal(xs, 120, 10), xs))\n",
        "print (\"Norm background: \", np.trapz (model.background(xs, -2), xs))\n",
        "print (\"Norm all: \", np.trapz (model.model(xs, 1000, 2000, 120, 10, -2), xs))"
      ],
      "execution_count": null,
      "outputs": [
        {
          "output_type": "stream",
          "name": "stdout",
          "text": [
            "Norm signal:  0.9999999980259482\n",
            "Norm background:  1.0\n",
            "Norm all:  0.9999999993419827\n"
          ]
        }
      ]
    },
    {
      "cell_type": "markdown",
      "metadata": {
        "id": "d7zgQz8fNLKg"
      },
      "source": [
        "Massimizzare la verosimiglianza con iminuit e ottenere l'incertezza statistica sul valore centrale della gaussiana che modellizza il picco."
      ]
    },
    {
      "cell_type": "code",
      "metadata": {
        "colab": {
          "base_uri": "https://localhost:8080/",
          "height": 418
        },
        "id": "SC5UdHyOMvnE",
        "outputId": "7d6b0a01-ccb1-46ed-c56b-31ede732c393"
      },
      "source": [
        "from iminuit import Minuit\n",
        "m = Minuit (model.loss, ns=0.5 * nTot, nb=0.5 * nTot, x0=125, sigma=10, slope=-1e-4)\n",
        "m.errordef = 0.5\n",
        "m.errors = (1, 1, 1, 0.1, 1e-4)\n",
        "fit_results = m.migrad()\n",
        "\n",
        "fit_results"
      ],
      "execution_count": null,
      "outputs": [
        {
          "output_type": "stream",
          "name": "stderr",
          "text": [
            "/usr/local/lib/python3.7/dist-packages/ipykernel_launcher.py:20: RuntimeWarning: invalid value encountered in log\n"
          ]
        },
        {
          "output_type": "execute_result",
          "data": {
            "text/html": [
              "<table>\n",
              "    <tr>\n",
              "        <th colspan=\"5\" style=\"text-align:center\" title=\"Minimizer\"> Migrad </th>\n",
              "    </tr>\n",
              "    <tr>\n",
              "        <td colspan=\"2\" style=\"text-align:left\" title=\"Minimum value of function\"> FCN = -3608 </td>\n",
              "        <td colspan=\"3\" style=\"text-align:center\" title=\"No. of function evaluations in last call and total number\"> Nfcn = 152 </td>\n",
              "    </tr>\n",
              "    <tr>\n",
              "        <td colspan=\"2\" style=\"text-align:left\" title=\"Estimated distance to minimum and goal\"> EDM = 2.94e-05 (Goal: 0.0001) </td>\n",
              "        <td colspan=\"3\" style=\"text-align:center\" title=\"No. of gradient evaluations in last call and total number\">  </td>\n",
              "    </tr>\n",
              "    <tr>\n",
              "        <td colspan=\"2\" style=\"text-align:center;background-color:#92CCA6;color:black\"> Valid Minimum </td>\n",
              "        <td colspan=\"3\" style=\"text-align:center;background-color:#92CCA6;color:black\"> No Parameters at limit </td>\n",
              "    </tr>\n",
              "    <tr>\n",
              "        <td colspan=\"2\" style=\"text-align:center;background-color:#92CCA6;color:black\"> Below EDM threshold (goal x 10) </td>\n",
              "        <td colspan=\"3\" style=\"text-align:center;background-color:#92CCA6;color:black\"> Below call limit </td>\n",
              "    </tr>\n",
              "    <tr>\n",
              "        <td style=\"text-align:center;background-color:#92CCA6;color:black\"> Covariance </td>\n",
              "        <td style=\"text-align:center;background-color:#92CCA6;color:black\"> Hesse ok </td>\n",
              "        <td style=\"text-align:center;background-color:#92CCA6;color:black\" title=\"Is covariance matrix accurate?\"> Accurate </td>\n",
              "        <td style=\"text-align:center;background-color:#92CCA6;color:black\" title=\"Is covariance matrix positive definite?\"> Pos. def. </td>\n",
              "        <td style=\"text-align:center;background-color:#92CCA6;color:black\" title=\"Was positive definiteness enforced by Minuit?\"> Not forced </td>\n",
              "    </tr>\n",
              "</table><table>\n",
              "    <tr>\n",
              "        <td></td>\n",
              "        <th title=\"Variable name\"> Name </th>\n",
              "        <th title=\"Value of parameter\"> Value </th>\n",
              "        <th title=\"Hesse error\"> Hesse Error </th>\n",
              "        <th title=\"Minos lower error\"> Minos Error- </th>\n",
              "        <th title=\"Minos upper error\"> Minos Error+ </th>\n",
              "        <th title=\"Lower limit of the parameter\"> Limit- </th>\n",
              "        <th title=\"Upper limit of the parameter\"> Limit+ </th>\n",
              "        <th title=\"Is the parameter fixed in the fit\"> Fixed </th>\n",
              "    </tr>\n",
              "    <tr>\n",
              "        <th> 0 </th>\n",
              "        <td> ns </td>\n",
              "        <td> 560 </td>\n",
              "        <td> 40 </td>\n",
              "        <td>  </td>\n",
              "        <td>  </td>\n",
              "        <td>  </td>\n",
              "        <td>  </td>\n",
              "        <td>  </td>\n",
              "    </tr>\n",
              "    <tr>\n",
              "        <th> 1 </th>\n",
              "        <td> nb </td>\n",
              "        <td> 1.36e3 </td>\n",
              "        <td> 0.05e3 </td>\n",
              "        <td>  </td>\n",
              "        <td>  </td>\n",
              "        <td>  </td>\n",
              "        <td>  </td>\n",
              "        <td>  </td>\n",
              "    </tr>\n",
              "    <tr>\n",
              "        <th> 2 </th>\n",
              "        <td> x0 </td>\n",
              "        <td> 125.6 </td>\n",
              "        <td> 0.7 </td>\n",
              "        <td>  </td>\n",
              "        <td>  </td>\n",
              "        <td>  </td>\n",
              "        <td>  </td>\n",
              "        <td>  </td>\n",
              "    </tr>\n",
              "    <tr>\n",
              "        <th> 3 </th>\n",
              "        <td> sigma </td>\n",
              "        <td> 9.5 </td>\n",
              "        <td> 0.6 </td>\n",
              "        <td>  </td>\n",
              "        <td>  </td>\n",
              "        <td>  </td>\n",
              "        <td>  </td>\n",
              "        <td>  </td>\n",
              "    </tr>\n",
              "    <tr>\n",
              "        <th> 4 </th>\n",
              "        <td> slope </td>\n",
              "        <td> -4.20e-3 </td>\n",
              "        <td> 0.18e-3 </td>\n",
              "        <td>  </td>\n",
              "        <td>  </td>\n",
              "        <td>  </td>\n",
              "        <td>  </td>\n",
              "        <td>  </td>\n",
              "    </tr>\n",
              "</table><table>\n",
              "    <tr>\n",
              "        <td></td>\n",
              "        <th> ns </th>\n",
              "        <th> nb </th>\n",
              "        <th> x0 </th>\n",
              "        <th> sigma </th>\n",
              "        <th> slope </th>\n",
              "    </tr>\n",
              "    <tr>\n",
              "        <th> ns </th>\n",
              "        <td> 1.49e+03 </td>\n",
              "        <td style=\"background-color:rgb(184,184,250);color:black\"> -930 <strong>(-0.504)</strong> </td>\n",
              "        <td style=\"background-color:rgb(242,242,250);color:black\"> -1.51 <strong>(-0.059)</strong> </td>\n",
              "        <td style=\"background-color:rgb(250,180,180);color:black\"> 11.3 <strong>(0.467)</strong> </td>\n",
              "        <td style=\"background-color:rgb(235,235,250);color:black\"> -0.000818 <strong>(-0.117)</strong> </td>\n",
              "    </tr>\n",
              "    <tr>\n",
              "        <th> nb </th>\n",
              "        <td style=\"background-color:rgb(184,184,250);color:black\"> -930 <strong>(-0.504)</strong> </td>\n",
              "        <td> 2.29e+03 </td>\n",
              "        <td style=\"background-color:rgb(250,243,243);color:black\"> 1.51 <strong>(0.047)</strong> </td>\n",
              "        <td style=\"background-color:rgb(201,201,250);color:black\"> -11.2 <strong>(-0.375)</strong> </td>\n",
              "        <td style=\"background-color:rgb(250,236,236);color:black\"> 0.000818 <strong>(0.094)</strong> </td>\n",
              "    </tr>\n",
              "    <tr>\n",
              "        <th> x0 </th>\n",
              "        <td style=\"background-color:rgb(242,242,250);color:black\"> -1.51 <strong>(-0.059)</strong> </td>\n",
              "        <td style=\"background-color:rgb(250,243,243);color:black\"> 1.51 <strong>(0.047)</strong> </td>\n",
              "        <td> 0.445 </td>\n",
              "        <td style=\"background-color:rgb(242,242,250);color:black\"> -0.026 <strong>(-0.062)</strong> </td>\n",
              "        <td style=\"background-color:rgb(228,228,250);color:black\"> -2.03e-05 <strong>(-0.168)</strong> </td>\n",
              "    </tr>\n",
              "    <tr>\n",
              "        <th> sigma </th>\n",
              "        <td style=\"background-color:rgb(250,180,180);color:black\"> 11.3 <strong>(0.467)</strong> </td>\n",
              "        <td style=\"background-color:rgb(201,201,250);color:black\"> -11.2 <strong>(-0.375)</strong> </td>\n",
              "        <td style=\"background-color:rgb(242,242,250);color:black\"> -0.026 <strong>(-0.062)</strong> </td>\n",
              "        <td> 0.392 </td>\n",
              "        <td style=\"background-color:rgb(237,237,250);color:black\"> -1.16e-05 <strong>(-0.102)</strong> </td>\n",
              "    </tr>\n",
              "    <tr>\n",
              "        <th> slope </th>\n",
              "        <td style=\"background-color:rgb(235,235,250);color:black\"> -0.000818 <strong>(-0.117)</strong> </td>\n",
              "        <td style=\"background-color:rgb(250,236,236);color:black\"> 0.000818 <strong>(0.094)</strong> </td>\n",
              "        <td style=\"background-color:rgb(228,228,250);color:black\"> -2.03e-05 <strong>(-0.168)</strong> </td>\n",
              "        <td style=\"background-color:rgb(237,237,250);color:black\"> -1.16e-05 <strong>(-0.102)</strong> </td>\n",
              "        <td> 3.29e-08 </td>\n",
              "    </tr>\n",
              "</table>"
            ],
            "text/plain": [
              "┌─────────────────────────────────────────────────────────────────────────┐\n",
              "│                                Migrad                                   │\n",
              "├──────────────────────────────────┬──────────────────────────────────────┤\n",
              "│ FCN = -3608                      │              Nfcn = 152              │\n",
              "│ EDM = 2.94e-05 (Goal: 0.0001)    │                                      │\n",
              "├──────────────────────────────────┼──────────────────────────────────────┤\n",
              "│          Valid Minimum           │        No Parameters at limit        │\n",
              "├──────────────────────────────────┼──────────────────────────────────────┤\n",
              "│ Below EDM threshold (goal x 10)  │           Below call limit           │\n",
              "├───────────────┬──────────────────┼───────────┬─────────────┬────────────┤\n",
              "│  Covariance   │     Hesse ok     │ Accurate  │  Pos. def.  │ Not forced │\n",
              "└───────────────┴──────────────────┴───────────┴─────────────┴────────────┘\n",
              "┌───┬───────┬───────────┬───────────┬────────────┬────────────┬─────────┬─────────┬───────┐\n",
              "│   │ Name  │   Value   │ Hesse Err │ Minos Err- │ Minos Err+ │ Limit-  │ Limit+  │ Fixed │\n",
              "├───┼───────┼───────────┼───────────┼────────────┼────────────┼─────────┼─────────┼───────┤\n",
              "│ 0 │ ns    │    560    │    40     │            │            │         │         │       │\n",
              "│ 1 │ nb    │  1.36e3   │  0.05e3   │            │            │         │         │       │\n",
              "│ 2 │ x0    │   125.6   │    0.7    │            │            │         │         │       │\n",
              "│ 3 │ sigma │    9.5    │    0.6    │            │            │         │         │       │\n",
              "│ 4 │ slope │ -4.20e-3  │  0.18e-3  │            │            │         │         │       │\n",
              "└───┴───────┴───────────┴───────────┴────────────┴────────────┴─────────┴─────────┴───────┘\n",
              "┌───────┬───────────────────────────────────────────────────┐\n",
              "│       │        ns        nb        x0     sigma     slope │\n",
              "├───────┼───────────────────────────────────────────────────┤\n",
              "│    ns │  1.49e+03      -930     -1.51      11.3 -0.000818 │\n",
              "│    nb │      -930  2.29e+03      1.51     -11.2  0.000818 │\n",
              "│    x0 │     -1.51      1.51     0.445    -0.026 -2.03e-05 │\n",
              "│ sigma │      11.3     -11.2    -0.026     0.392 -1.16e-05 │\n",
              "│ slope │ -0.000818  0.000818 -2.03e-05 -1.16e-05  3.29e-08 │\n",
              "└───────┴───────────────────────────────────────────────────┘"
            ]
          },
          "metadata": {},
          "execution_count": 8
        }
      ]
    },
    {
      "cell_type": "markdown",
      "metadata": {
        "id": "gBuc33l0NQgD"
      },
      "source": [
        "Costruire un grafico che mostri la sovrapposizione dell'istogramma e del modello statistico ottimizzato con il fit."
      ]
    },
    {
      "cell_type": "code",
      "metadata": {
        "colab": {
          "base_uri": "https://localhost:8080/",
          "height": 305
        },
        "id": "dFmYMjMGM4oV",
        "outputId": "2ebc7363-f64d-471b-a2bf-3ba8701b444d"
      },
      "source": [
        "xs = np.linspace (60, 180, 121)\n",
        "\n",
        "pdf = model.model (xs, *fit_results.values)\n",
        "plt.hist(mass, bins=np.linspace(60,180,41))\n",
        "binw = (180 - 60)/40\n",
        "\n",
        "plt.plot (xs, pdf*np.count_nonzero((mass > 60) & (mass < 180))*binw, linewidth=3)\n",
        "plt.title (f\"Statistical uncertainty on central value: {fit_results.errors['x0']:.3f} GeV/$c^2$\")\n",
        "plt.xlabel (\"Diphoton invariant mass [GeV/$c^2$]\")\n",
        "plt.ylabel (\"Number of events\")\n",
        "plt.show()"
      ],
      "execution_count": null,
      "outputs": [
        {
          "output_type": "display_data",
          "data": {
            "image/png": "[encoded data removed]",
            "text/plain": [
              "<Figure size 432x288 with 1 Axes>"
            ]
          },
          "metadata": {
            "needs_background": "light"
          }
        }
      ]
    },
    {
      "cell_type": "markdown",
      "metadata": {
        "id": "7ou8SrzUNbmR"
      },
      "source": [
        "## Bootstrap: *costruzione e fit dei dataset ricampionati*\n",
        "\n",
        "Utilizzare la funzione `np.random.choice` per ricampionare il vettore di dati ammettendo ripetizioni.\n",
        "Ad esempio se il vettore che contiene l'intero dataset è\n",
        "```\n",
        "x = {7,9,8}\n",
        "```\n",
        "`np.random.choice` genera un campione  ottenuto scegliendo elementi casualmente all'interno di `x`\n",
        "```\n",
        "np.random.choice(x, len(x)) -> {9,7,7}\n",
        "```\n",
        "\n",
        "Fittare il dataset ricampionato con il modello definito sopra e **SE LA PROCEDURA DI MINIMIZZAZIONE HA AVUTO SUCCESSO** salvare il risultato per il valore centrale del picco gaussiano in una lista.\n",
        "\n",
        "Ripetere la generazione casuale del campione ed il fit per 500 volte, utilizzando un ciclo `for`.\n",
        "\n",
        "Alla fine avremo ottenuto una lista di alcune centinaia di valori centrali del picco ottenuti in fit indipendenti a dataset ottenuti ricampionando il dataset originale."
      ]
    },
    {
      "cell_type": "code",
      "metadata": {
        "colab": {
          "base_uri": "https://localhost:8080/"
        },
        "id": "CNBC0qvoNc3O",
        "outputId": "8929dc64-ce03-4865-9bcf-6b76ab514035"
      },
      "source": [
        "toy_results = []\n",
        "\n",
        "for iToy in range(500):\n",
        "    toy_model = Model (np.random.choice(mass, len(mass)))\n",
        "\n",
        "    m = Minuit (toy_model.loss, ns=0.5 * nTot, nb=0.5 * nTot, x0=125, sigma=10, slope=-1e-3)\n",
        "    m.errordef = 0.5\n",
        "\n",
        "    m.errors = (100, 100, 1, 0.1, 1e-3)\n",
        "    fit_results = m.migrad()\n",
        "\n",
        "    if fit_results.valid:\n",
        "        toy_results.append (fit_results.values['x0'])"
      ],
      "execution_count": null,
      "outputs": [
        {
          "output_type": "stream",
          "name": "stderr",
          "text": [
            "/usr/local/lib/python3.7/dist-packages/ipykernel_launcher.py:20: RuntimeWarning: invalid value encountered in log\n"
          ]
        }
      ]
    },
    {
      "cell_type": "markdown",
      "metadata": {
        "id": "cmf72_H0NcXy"
      },
      "source": [
        "Costruire l'istogramma dei risultati contenuti nella lista costruita nel passaggio precedente e\n",
        "misurarne la deviazione standard."
      ]
    },
    {
      "cell_type": "code",
      "metadata": {
        "colab": {
          "base_uri": "https://localhost:8080/",
          "height": 285
        },
        "id": "qlLFQzfeNi0V",
        "outputId": "889cdc56-d867-4097-bdf0-70c3b469d295"
      },
      "source": [
        "plt.hist(toy_results, bins = 40)\n",
        "plt.title (f\"Standard deviation of the results: {np.std(toy_results):.3f} GeV/$c^{2}$\")\n",
        "plt.show()"
      ],
      "execution_count": null,
      "outputs": [
        {
          "output_type": "display_data",
          "data": {
            "image/png": "[encoded data removed]",
            "text/plain": [
              "<Figure size 432x288 with 1 Axes>"
            ]
          },
          "metadata": {
            "needs_background": "light"
          }
        }
      ]
    },
    {
      "cell_type": "markdown",
      "metadata": {
        "id": "8_NOExN-NoJp"
      },
      "source": [
        "## Conclusione\n",
        "Confrontando la deviazione standard ottenuta nel passaggio precedente con la stima ottenuta con l'algoritmo HESSE di `iminuit` dovreste notare che i valori sono tra loro compatibili entro un errore del 10%.\n",
        "\n",
        "Il metodo bootstrap è usato molto spesso per verificare le stime degli errori statistici con un metodo indipendente dallo studio analitico della funzione di verosimiglianza."
      ]
    }
  ]
}